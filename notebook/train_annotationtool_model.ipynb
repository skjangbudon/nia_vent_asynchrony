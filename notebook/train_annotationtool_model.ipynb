{
 "cells": [
  {
   "cell_type": "code",
   "execution_count": 3,
   "metadata": {},
   "outputs": [],
   "source": [
    "import os\n",
    "import glob\n",
    "import os.path as osp\n",
    "import warnings\n",
    "warnings.filterwarnings(action='ignore')\n",
    "import multiprocessing\n",
    "from functools import partial\n",
    "\n",
    "import torch\n",
    "import torch.nn as nn\n",
    "import torch.nn.functional as F\n",
    "import numpy as np\n",
    "import pandas as pd\n",
    "from torchsummary import summary\n",
    "\n",
    "os.chdir('/VOLUME/nia_vent_asynchrony')\n",
    "from module.datasets import preprocess_data#, set_dataloader, CustomDataset\n",
    "from module.utils import load_and_stack_data, EarlyStopping\n",
    "from model.VAE import VAE\n",
    "from model.AsynchModel import AsynchModel\n",
    "from module.metrics import calculate_any_metrics\n",
    "from module.loss import calculate_vae_loss, calculate_bce_loss\n",
    "import module.utils as cutils\n"
   ]
  },
  {
   "cell_type": "code",
   "execution_count": 5,
   "metadata": {},
   "outputs": [],
   "source": [
    "# os.environ['CUDA_LAUNCH_BLOCKING'] = \"1\"\n",
    "os.environ[\"CUDA_DEVICE_ORDER\"]=\"PCI_BUS_ID\"  # Arrange GPU devices starting from 0\n",
    "os.environ[\"CUDA_VISIBLE_DEVICES\"]= \"2,3\" "
   ]
  },
  {
   "cell_type": "code",
   "execution_count": 6,
   "metadata": {},
   "outputs": [
    {
     "name": "stdout",
     "output_type": "stream",
     "text": [
      "Current cuda device: 0\n",
      "Count of using GPUs: 2\n"
     ]
    }
   ],
   "source": [
    "print('Current cuda device:', torch.cuda.current_device())\n",
    "print('Count of using GPUs:', torch.cuda.device_count())"
   ]
  },
  {
   "cell_type": "code",
   "execution_count": 4,
   "metadata": {},
   "outputs": [
    {
     "data": {
      "text/plain": [
       "True"
      ]
     },
     "execution_count": 4,
     "metadata": {},
     "output_type": "execute_result"
    }
   ],
   "source": [
    "torch.cuda.is_available()"
   ]
  },
  {
   "cell_type": "code",
   "execution_count": 11,
   "metadata": {},
   "outputs": [],
   "source": [
    "dest_dir = '/VOLUME/nia_vent_asynchrony/data/processed_data/tmp'"
   ]
  },
  {
   "cell_type": "code",
   "execution_count": null,
   "metadata": {},
   "outputs": [],
   "source": [
    "dat_snu = pd.read_pickle('/VOLUME/nia_vent_asynchrony/data/processed_data/snu/instance_with_label_snu.pkl')\n",
    "dat_aju = pd.read_pickle('/VOLUME/nia_vent_asynchrony/data/processed_data/aju/instance_with_label_aju_2022-08-23.pkl')\n",
    "dat = pd.concat([dat_snu, dat_aju], axis=0)"
   ]
  },
  {
   "cell_type": "code",
   "execution_count": null,
   "metadata": {},
   "outputs": [],
   "source": [
    "dat_snu = pd.read_pickle('/VOLUME/nia_vent_asynchrony/data/processed_data/snu/instance_with_label_snu_239107_2022-08-25.pkl')\n",
    "# dat = dat_snu\n",
    "# dat_aju = pd.read_pickle('/VOLUME/nia_vent_asynchrony/data/processed_data/aju/instance_with_label_aju_295433_2022-08-25.pkl')\n",
    "dat = pd.concat([dat_snu, dat_aju], axis=0)\n",
    "dat['wav_number'] = dat['wav_number'].astype(int)\n",
    "dat['label'] = dat['label'].astype(int)"
   ]
  },
  {
   "cell_type": "code",
   "execution_count": null,
   "metadata": {},
   "outputs": [],
   "source": [
    "dat = pd.concat([dat_snu, dat_aju], axis=0)\n",
    "dat['wav_number'] = dat['wav_number'].astype(int)\n",
    "dat['label'] = dat['label'].astype(int)"
   ]
  },
  {
   "cell_type": "code",
   "execution_count": null,
   "metadata": {},
   "outputs": [],
   "source": [
    "print(dat_aju['flow_path'].nunique())\n",
    "print(dat_aju['hospital_id_patient_id'].nunique())"
   ]
  },
  {
   "cell_type": "code",
   "execution_count": null,
   "metadata": {},
   "outputs": [],
   "source": [
    "num_na = dat['data'].apply(lambda x: np.isnan(x).sum())"
   ]
  },
  {
   "cell_type": "code",
   "execution_count": null,
   "metadata": {},
   "outputs": [],
   "source": [
    "num_na.value_counts().head(20)"
   ]
  },
  {
   "cell_type": "code",
   "execution_count": 9,
   "metadata": {},
   "outputs": [],
   "source": []
  },
  {
   "cell_type": "code",
   "execution_count": null,
   "metadata": {},
   "outputs": [],
   "source": [
    "dat"
   ]
  },
  {
   "cell_type": "code",
   "execution_count": null,
   "metadata": {},
   "outputs": [],
   "source": [
    "# dat = dat[num_na<480]\n",
    "# dat_snu['data'].apply(lambda x : np.isnan(x).sum()).value_counts()\n",
    "# dat = pd.read_pickle('/VOLUME/nia_vent_asynchrony/data/processed_data/snu/instance_with_label_snu_3145286_2022-08-25.pkl')"
   ]
  },
  {
   "cell_type": "code",
   "execution_count": null,
   "metadata": {},
   "outputs": [],
   "source": [
    "print(dat.groupby('hospital_id_patient_id')['label'].value_counts())"
   ]
  },
  {
   "cell_type": "code",
   "execution_count": null,
   "metadata": {},
   "outputs": [],
   "source": [
    "# dat_bak=dat.copy()"
   ]
  },
  {
   "cell_type": "code",
   "execution_count": null,
   "metadata": {},
   "outputs": [],
   "source": [
    "dat['split'] = 'train'\n",
    "dat.loc[dat['hospital_id_patient_id']=='2-007','split'] = 'valid'\n",
    "dat.loc[dat['hospital_id_patient_id']=='1-002','split'] = 'test'\n",
    "dat.loc[dat['hospital_id_patient_id']=='2-002','split'] = 'test'"
   ]
  },
  {
   "cell_type": "code",
   "execution_count": null,
   "metadata": {},
   "outputs": [],
   "source": [
    "print(dat['label'].value_counts())"
   ]
  },
  {
   "cell_type": "code",
   "execution_count": null,
   "metadata": {},
   "outputs": [],
   "source": [
    "dat.columns"
   ]
  },
  {
   "cell_type": "code",
   "execution_count": null,
   "metadata": {},
   "outputs": [],
   "source": [
    "pd.Series(label).value_counts()"
   ]
  },
  {
   "cell_type": "code",
   "execution_count": null,
   "metadata": {},
   "outputs": [],
   "source": [
    "pd.Series(label).value_counts(normalize=True)"
   ]
  },
  {
   "cell_type": "code",
   "execution_count": null,
   "metadata": {},
   "outputs": [],
   "source": [
    "dat['label'].value_counts()"
   ]
  },
  {
   "cell_type": "code",
   "execution_count": null,
   "metadata": {},
   "outputs": [],
   "source": [
    "dat['label'].value_counts(normalize=True)"
   ]
  },
  {
   "cell_type": "code",
   "execution_count": null,
   "metadata": {},
   "outputs": [],
   "source": [
    "label.shape"
   ]
  },
  {
   "cell_type": "code",
   "execution_count": null,
   "metadata": {},
   "outputs": [],
   "source": [
    "feature.shape"
   ]
  },
  {
   "cell_type": "code",
   "execution_count": null,
   "metadata": {},
   "outputs": [],
   "source": [
    "\n",
    "# # bce_loss = torch.nn.BCELoss(reduction='mean')\n",
    "\n",
    "# def calculate_vae_loss(out, xi, batch_size=None):\n",
    "#     bce_loss = torch.nn.BCEWithLogitsLoss(reduction='mean')\n",
    "#     loss_r = bce_loss(out, xi)\n",
    "#     # loss_r = ((out - xi)**2).sum()\n",
    "#     loss_kl = torch.mean(.5 * torch.sum(mu.pow(2) + torch.exp(logVar) - 1 - logVar, 1))\n",
    "#     # loss = torch.mean(loss_r) + loss_kl\n",
    "#     loss = loss_r + loss_kl\n",
    "#     return loss, loss_r, loss_kl\n",
    "\n",
    "# def calculate_bce_loss(out, target, pos_weight=torch.tensor([5])):\n",
    "#     if pos_weight is not None:\n",
    "#         pos_weight = pos_weight.to(target)\n",
    "#     bce_loss = torch.nn.BCEWithLogitsLoss(reduction='mean', pos_weight=pos_weight)\n",
    "#     loss = bce_loss(out, target)\n",
    "#     return loss\n"
   ]
  },
  {
   "cell_type": "code",
   "execution_count": null,
   "metadata": {},
   "outputs": [],
   "source": [
    "nowDate = cutils.get_today_string()"
   ]
  },
  {
   "cell_type": "code",
   "execution_count": null,
   "metadata": {},
   "outputs": [],
   "source": [
    "result_path = f'/VOLUME/nia_vent_asynchrony/result/baseline_220818/train/{nowDate}'\n",
    "os.makedirs(result_path, exist_ok=True)\n",
    "print(result_path)"
   ]
  },
  {
   "cell_type": "code",
   "execution_count": null,
   "metadata": {},
   "outputs": [],
   "source": [
    "labelfreq = pd.concat([dat.groupby('split')['label'].value_counts(),\n",
    "dat.groupby('split')['label'].value_counts(normalize=True)], axis=1)\n",
    "labelfreq.columns = ['num', 'ratio']\n",
    "print(labelfreq)\n",
    "labelfreq.to_csv(osp.join(result_path, 'label_freq_trainvaltest.csv'))"
   ]
  },
  {
   "cell_type": "code",
   "execution_count": null,
   "metadata": {},
   "outputs": [],
   "source": [
    "dat"
   ]
  },
  {
   "cell_type": "code",
   "execution_count": null,
   "metadata": {},
   "outputs": [],
   "source": [
    "dat['split']='train'"
   ]
  },
  {
   "cell_type": "code",
   "execution_count": null,
   "metadata": {},
   "outputs": [],
   "source": [
    "dat['data'].isna().sum()"
   ]
  },
  {
   "cell_type": "code",
   "execution_count": null,
   "metadata": {},
   "outputs": [],
   "source": [
    "train_dataloader, val_dataloader, test_dataloader = preprocess_data(dat, set_train_weightedsampler=True, scale=True) # 34s"
   ]
  },
  {
   "cell_type": "code",
   "execution_count": null,
   "metadata": {},
   "outputs": [],
   "source": [
    "device = torch.device('cuda' if torch.cuda.is_available() else 'cpu')\n",
    "print(device)"
   ]
  },
  {
   "cell_type": "code",
   "execution_count": null,
   "metadata": {},
   "outputs": [],
   "source": [
    "ventdys_model = AsynchModel(input_dim=2, padding_mode='replicate').to(device)"
   ]
  },
  {
   "cell_type": "code",
   "execution_count": null,
   "metadata": {},
   "outputs": [],
   "source": [
    "summary(ventdys_model, input_size=(2, 3600), device='cuda')"
   ]
  },
  {
   "cell_type": "code",
   "execution_count": null,
   "metadata": {},
   "outputs": [],
   "source": [
    "dat_snu = pd.read_pickle('/VOLUME/nia_vent_asynchrony/data/processed_data/snu/instance_with_label_snu_239107_2022-08-25.pkl')\n",
    "dat_aju = pd.read_pickle('/VOLUME/nia_vent_asynchrony/data/processed_data/aju/instance_with_label_aju_295433_2022-08-25.pkl')\n",
    "dat = pd.concat([dat_snu, dat_aju], axis=0)"
   ]
  },
  {
   "cell_type": "code",
   "execution_count": null,
   "metadata": {},
   "outputs": [],
   "source": [
    "dat['split'] = 'train'\n",
    "dat.loc[dat['hospital_id_patient_id']=='2-007','split'] = 'valid'\n",
    "dat.loc[dat['hospital_id_patient_id']=='1-002','split'] = 'test'\n",
    "dat.loc[dat['hospital_id_patient_id']=='2-002','split'] = 'test'"
   ]
  },
  {
   "cell_type": "code",
   "execution_count": null,
   "metadata": {},
   "outputs": [],
   "source": [
    "dat['split'].value_counts()"
   ]
  },
  {
   "cell_type": "code",
   "execution_count": null,
   "metadata": {},
   "outputs": [],
   "source": [
    "pd.crosstab(dat['label'], dat['split'])"
   ]
  },
  {
   "cell_type": "code",
   "execution_count": null,
   "metadata": {},
   "outputs": [],
   "source": [
    "train_dataloader, val_dataloader, test_dataloader = preprocess_data(dat, set_train_weightedsampler=True, scale=True)"
   ]
  },
  {
   "cell_type": "code",
   "execution_count": null,
   "metadata": {},
   "outputs": [],
   "source": [
    "result_path"
   ]
  },
  {
   "cell_type": "code",
   "execution_count": null,
   "metadata": {},
   "outputs": [],
   "source": [
    "n_epochs = 50\n",
    "learning_rate = 1e-3\n",
    "optimizer = torch.optim.Adam(ventdys_model.parameters(), lr=learning_rate)\n",
    "early_stopping = EarlyStopping(patience = 10, verbose = True, path = result_path, checkpoint_name='ventdys_model.pt')\n",
    "\n",
    "\n",
    "\"\"\"\n",
    "Training the network for a given number of epochs\n",
    "The loss after every epoch is printed\n",
    "\"\"\"\n",
    "# 모델이 학습되는 동안 trainning loss를 track\n",
    "train_losses = []\n",
    "# 모델이 학습되는 동안 validation loss를 track\n",
    "valid_losses = []\n",
    "# epoch당 average training loss를 track\n",
    "avg_train_losses = []\n",
    "# epoch당 average validation loss를 track\n",
    "avg_valid_losses = []\n",
    "\n",
    "\n",
    "for epoch in range(n_epochs):\n",
    "    print(f'Epoch {epoch}')\n",
    "\n",
    "    ventdys_model.train()\n",
    "    for i_step, data in enumerate(train_dataloader):\n",
    "        xi, target = data\n",
    "        xi = xi.to(device)\n",
    "        target = target.to(device).squeeze(-1).squeeze(-1).float()\n",
    "        out = ventdys_model(xi)\n",
    "\n",
    "        loss = calculate_bce_loss(out[:,1], target)\n",
    "\n",
    "        optimizer.zero_grad()\n",
    "        loss.backward()\n",
    "        optimizer.step()\n",
    "\n",
    "        train_losses.append(loss.item())\n",
    "\n",
    "        # print('step', i_step, 'loss', loss.item())\n",
    "    print('epoch', epoch, 'loss', loss.item())\n",
    "    \n",
    "    ######################    \n",
    "    # validate the model #\n",
    "    ######################\n",
    "    ventdys_model.eval() # prep model for evaluation\n",
    "    # y_prob = None\n",
    "    # y_target = None\n",
    "    for i_step, data in enumerate(val_dataloader) :\n",
    "        xi, target = data\n",
    "        xi = xi.to(device)\n",
    "        batch_size = len(xi)\n",
    "        target = target.to(device).squeeze(-1).squeeze(-1).float()\n",
    "        out = ventdys_model(xi)\n",
    "        loss = calculate_bce_loss(out[:,1], target)\n",
    "        \n",
    "        valid_losses.append(loss.item())\n",
    "\n",
    "\n",
    "    train_loss = np.average(train_losses)\n",
    "    valid_loss = np.average(valid_losses)\n",
    "        \n",
    "    epoch_len = len(str(n_epochs))\n",
    "\n",
    "\n",
    "    print_msg = (f'[{epoch:>{epoch_len}}/{n_epochs:>{epoch_len}}] ' +\n",
    "                    f'train_loss: {train_loss:.5f} ' +\n",
    "                    f'valid_loss: {valid_loss:.5f}')\n",
    "\n",
    "    print(print_msg)\n",
    "\n",
    "    # clear lists to track next epoch\n",
    "    train_losses = []\n",
    "    valid_losses = []\n",
    "\n",
    "    early_stopping(valid_loss, ventdys_model)\n",
    "    if early_stopping.early_stop:\n",
    "        print(\"Early stopping\")\n",
    "        break\n",
    "\n"
   ]
  },
  {
   "cell_type": "code",
   "execution_count": null,
   "metadata": {},
   "outputs": [],
   "source": [
    "epoch"
   ]
  },
  {
   "cell_type": "code",
   "execution_count": null,
   "metadata": {},
   "outputs": [],
   "source": [
    "# predict testset \n",
    "ventdys_model.eval()\n",
    "\n",
    "y_prob = None\n",
    "for i_step, data in enumerate(test_dataloader):\n",
    "    xi, target = data\n",
    "    xi = xi.to(device)\n",
    "    target = target.to(device).squeeze(-1).squeeze(-1).float() # torch.Size([bs, 1])\n",
    "    out = ventdys_model(xi)\n",
    "\n",
    "    \n",
    "    loss = calculate_bce_loss(out[:,1], target)\n",
    "\n",
    "    prob = F.softmax(out, dim=1)[:,1].detach().cpu()\n",
    "    # pred = y_proba>0.5\n",
    "    y_prob = prob if y_prob is None else torch.cat([y_prob, prob])\n",
    "\n",
    "    # pred_list.append(out.detach().cpu().numpy())\n",
    "    if i_step%1000==0: print('step', i_step, 'loss', loss.item())\n"
   ]
  },
  {
   "cell_type": "code",
   "execution_count": null,
   "metadata": {},
   "outputs": [],
   "source": [
    "testset = test_dataloader.dataset"
   ]
  },
  {
   "cell_type": "code",
   "execution_count": null,
   "metadata": {},
   "outputs": [],
   "source": [
    "# vae 안했을때 \n",
    "# 아마 /VOLUME/nia_vent_asynchrony/result/baseline_220818/train/2022-08-23-09-40-08/checkpoint.pt\n",
    "# testset_target = abnomal_testset.y_data.squeeze(-1).float()\n",
    "testset_target = testset.y_data.squeeze(-1).float()\n",
    "metrics = ['prec','recall','f1','f2','specificity',\n",
    "                     'tn','fp','fn','tp',\n",
    "                     'auroc','auprc']\n",
    "test_perf = calculate_any_metrics(testset_target, metrics, probs=y_prob, threshold=0.5)\n",
    "test_perf"
   ]
  },
  {
   "cell_type": "code",
   "execution_count": null,
   "metadata": {},
   "outputs": [],
   "source": [
    "perc =  [.05, .1 , .25, .5, .75, .9, .95]\n",
    "percentile = pd.DataFrame(np.percentile(y_prob, perc).reshape(1, -1), columns=perc, index=['y_prob'])\n",
    "percentile.to_csv(osp.join(result_path, 'y_prob_percentile.csv'))\n",
    "percentile"
   ]
  },
  {
   "cell_type": "code",
   "execution_count": null,
   "metadata": {},
   "outputs": [],
   "source": [
    "pd.Series(y_prob).hist()"
   ]
  },
  {
   "cell_type": "code",
   "execution_count": null,
   "metadata": {},
   "outputs": [],
   "source": [
    "np.sum(test_perf[i] for i in ['tn','tp','fn','fp'])"
   ]
  },
  {
   "cell_type": "code",
   "execution_count": null,
   "metadata": {},
   "outputs": [],
   "source": [
    "test_perf.update({'total_number': np.sum(test_perf[i] for i in ['tn','tp','fn','fp'])})\n",
    "pd.DataFrame(test_perf, index=['testset']).to_csv(osp.join(result_path, 'test_set_performance.csv'))"
   ]
  },
  {
   "cell_type": "markdown",
   "metadata": {},
   "source": [
    "testset의 예측=1 인 metainfo 찾아서 그리기\n",
    "label 있으면 표시하기\n",
    "파일명: "
   ]
  },
  {
   "cell_type": "code",
   "execution_count": 7,
   "metadata": {},
   "outputs": [],
   "source": [
    "ckpt_path = '/VOLUME/nia_vent_asynchrony/result/baseline_220818/train/2022-08-24-04-29-23/ventdys_model.pt'\n",
    "ckpt_path = '/VOLUME/nia_vent_asynchrony/result/baseline_220818/train/2022-08-26-10-32-15/ventdys_model.pt'\n",
    "ckpt_path = '/VOLUME/nia_vent_asynchrony/result/baseline_220818/train/2022-09-19-07-34-07/ventdys_model.pt'# 10 patients, 1 min\n",
    "ckpt_dict = torch.load(ckpt_path)\n",
    "device = torch.device('cuda' if torch.cuda.is_available() else 'cpu')\n",
    "print(device)\n",
    "ventdys_model = AsynchModel(input_dim=2, padding_mode='replicate').to(device)\n",
    "ventdys_model.load_state_dict(ckpt_dict, strict=False)"
   ]
  },
  {
   "cell_type": "code",
   "execution_count": null,
   "metadata": {},
   "outputs": [],
   "source": [
    "dat_infer = pd.concat([pd.read_pickle('/VOLUME/nia_vent_asynchrony/data/processed_data/snu/instance_snu_723989_2022-08-26.pkl'),\n",
    "    pd.read_pickle('/VOLUME/nia_vent_asynchrony/data/processed_data/snu/instance_snu_519403_2022-08-26.pkl')\n",
    "])"
   ]
  },
  {
   "cell_type": "code",
   "execution_count": 49,
   "metadata": {},
   "outputs": [],
   "source": [
    "# dat_infer = pd.read_pickle('/VOLUME/nia_vent_asynchrony/data/processed_data/snu/instance_with_label_snu_3145286_2022-08-25.pkl')\n",
    "\n",
    "dat_infer = pd.read_pickle('/VOLUME/nia_vent_asynchrony/data/processed_data/aju/instance_aju_2-001_2-099_2582998_2022-09-02.pkl')\n",
    "# dat_infer = pd.read_pickle('/VOLUME/nia_vent_asynchrony/data/processed_data/aju/instance_aju_2-100_2-249_3160686_2022-09-03.pkl')# 92~162는 1차라 제외\n",
    "\n",
    "# dat_infer = pd.read_pickle('/VOLUME/nia_vent_asynchrony/data/processed_data/snu/instance_snu_1-001_1-099_7382836_2022-09-03.pkl') # TODO\n",
    "# dat_infer = pd.read_pickle('/VOLUME/nia_vent_asynchrony/data/processed_data/snu/instance_snu_1-100_1-177_4972675_2022-09-03.pkl') # 4972675 rows 메모리 떄문에 한번에 못돌림\n",
    "# dat_infer = pd.read_pickle('/VOLUME/nia_vent_asynchrony/data/processed_data/snu/instance_snu_1-178_1-379_1953563_2022-09-02.pkl') # 201~300은 1차라 제외 \n",
    "\n",
    "# 5m"
   ]
  },
  {
   "cell_type": "code",
   "execution_count": 50,
   "metadata": {},
   "outputs": [
    {
     "name": "stdout",
     "output_type": "stream",
     "text": [
      "70\n"
     ]
    }
   ],
   "source": [
    "plist = dat_infer['hospital_id_patient_id'].drop_duplicates().sort_values().tolist()\n",
    "print(len(plist))"
   ]
  },
  {
   "cell_type": "code",
   "execution_count": 117,
   "metadata": {},
   "outputs": [
    {
     "name": "stdout",
     "output_type": "stream",
     "text": [
      "70\n",
      "70\n"
     ]
    }
   ],
   "source": [
    "print(len(plist))\n",
    "# plist = plist[:100]\n",
    "# plist = plist[50:]\n",
    "print(len(plist))\n",
    "dat_infer = dat_infer[dat_infer['hospital_id_patient_id'].isin(plist)]"
   ]
  },
  {
   "cell_type": "code",
   "execution_count": 51,
   "metadata": {},
   "outputs": [
    {
     "data": {
      "text/plain": [
       "('2-001', '2-099', 70)"
      ]
     },
     "execution_count": 51,
     "metadata": {},
     "output_type": "execute_result"
    }
   ],
   "source": [
    "dat_infer['hospital_id_patient_id'].min(), dat_infer['hospital_id_patient_id'].max(), dat_infer['hospital_id_patient_id'].nunique()"
   ]
  },
  {
   "cell_type": "code",
   "execution_count": null,
   "metadata": {},
   "outputs": [],
   "source": [
    "dat_infer[[]]"
   ]
  },
  {
   "cell_type": "code",
   "execution_count": 53,
   "metadata": {},
   "outputs": [
    {
     "data": {
      "text/html": [
       "<div>\n",
       "<style scoped>\n",
       "    .dataframe tbody tr th:only-of-type {\n",
       "        vertical-align: middle;\n",
       "    }\n",
       "\n",
       "    .dataframe tbody tr th {\n",
       "        vertical-align: top;\n",
       "    }\n",
       "\n",
       "    .dataframe thead th {\n",
       "        text-align: right;\n",
       "    }\n",
       "</style>\n",
       "<table border=\"1\" class=\"dataframe\">\n",
       "  <thead>\n",
       "    <tr style=\"text-align: right;\">\n",
       "      <th></th>\n",
       "      <th>flow_path</th>\n",
       "      <th>starttime</th>\n",
       "      <th>endtime</th>\n",
       "      <th>data</th>\n",
       "      <th>hospital_id</th>\n",
       "      <th>patient_id</th>\n",
       "      <th>wav_number</th>\n",
       "      <th>hospital_id_patient_id</th>\n",
       "    </tr>\n",
       "  </thead>\n",
       "  <tbody>\n",
       "    <tr>\n",
       "      <th>0</th>\n",
       "      <td>/ext_ssd/nia_vent/aju/2-065/AWF/2-065-070.csv</td>\n",
       "      <td>2019-05-18 21:59:59.999173+09:00</td>\n",
       "      <td>2019-05-18 22:00:07.982508+09:00</td>\n",
       "      <td>[[-71.5, 493.5], [-59.0, 481.0], [-46.5, 478.5...</td>\n",
       "      <td>2</td>\n",
       "      <td>065</td>\n",
       "      <td>70</td>\n",
       "      <td>2-065</td>\n",
       "    </tr>\n",
       "    <tr>\n",
       "      <th>1</th>\n",
       "      <td>/ext_ssd/nia_vent/aju/2-065/AWF/2-065-070.csv</td>\n",
       "      <td>2019-05-18 22:00:07.999174+09:00</td>\n",
       "      <td>2019-05-18 22:00:15.982509+09:00</td>\n",
       "      <td>[[-41.0, 514.0], [-39.0, 503.0], [-32.5, 485.5...</td>\n",
       "      <td>2</td>\n",
       "      <td>065</td>\n",
       "      <td>70</td>\n",
       "      <td>2-065</td>\n",
       "    </tr>\n",
       "    <tr>\n",
       "      <th>2</th>\n",
       "      <td>/ext_ssd/nia_vent/aju/2-065/AWF/2-065-070.csv</td>\n",
       "      <td>2019-05-18 22:00:15.999176+09:00</td>\n",
       "      <td>2019-05-18 22:00:23.982511+09:00</td>\n",
       "      <td>[[-24.0, 529.0], [-24.0, 526.0], [-23.5, 522.0...</td>\n",
       "      <td>2</td>\n",
       "      <td>065</td>\n",
       "      <td>70</td>\n",
       "      <td>2-065</td>\n",
       "    </tr>\n",
       "    <tr>\n",
       "      <th>3</th>\n",
       "      <td>/ext_ssd/nia_vent/aju/2-065/AWF/2-065-070.csv</td>\n",
       "      <td>2019-05-18 22:00:23.999178+09:00</td>\n",
       "      <td>2019-05-18 22:00:31.982513+09:00</td>\n",
       "      <td>[[-172.0, 529.0], [-163.5, 526.0], [-156.5, 52...</td>\n",
       "      <td>2</td>\n",
       "      <td>065</td>\n",
       "      <td>70</td>\n",
       "      <td>2-065</td>\n",
       "    </tr>\n",
       "    <tr>\n",
       "      <th>4</th>\n",
       "      <td>/ext_ssd/nia_vent/aju/2-065/AWF/2-065-070.csv</td>\n",
       "      <td>2019-05-18 22:00:31.999179+09:00</td>\n",
       "      <td>2019-05-18 22:00:39.982514+09:00</td>\n",
       "      <td>[[-16.0, 516.0], [-16.0, 511.5], [-16.0, 513.5...</td>\n",
       "      <td>2</td>\n",
       "      <td>065</td>\n",
       "      <td>70</td>\n",
       "      <td>2-065</td>\n",
       "    </tr>\n",
       "    <tr>\n",
       "      <th>...</th>\n",
       "      <td>...</td>\n",
       "      <td>...</td>\n",
       "      <td>...</td>\n",
       "      <td>...</td>\n",
       "      <td>...</td>\n",
       "      <td>...</td>\n",
       "      <td>...</td>\n",
       "      <td>...</td>\n",
       "    </tr>\n",
       "    <tr>\n",
       "      <th>444</th>\n",
       "      <td>/ext_ssd/nia_vent/aju/2-086/AWF/2-086-020.csv</td>\n",
       "      <td>2020-03-07 13:59:11.993403+09:00</td>\n",
       "      <td>2020-03-07 13:59:19.976738+09:00</td>\n",
       "      <td>[[-48.0, 797.5], [-38.5, 790.0], [-33.5, 790.0...</td>\n",
       "      <td>2</td>\n",
       "      <td>086</td>\n",
       "      <td>20</td>\n",
       "      <td>2-086</td>\n",
       "    </tr>\n",
       "    <tr>\n",
       "      <th>445</th>\n",
       "      <td>/ext_ssd/nia_vent/aju/2-086/AWF/2-086-020.csv</td>\n",
       "      <td>2020-03-07 13:59:19.993405+09:00</td>\n",
       "      <td>2020-03-07 13:59:27.976740+09:00</td>\n",
       "      <td>[[885.0, 1346.0], [957.0, 1370.0], [1009.0, 14...</td>\n",
       "      <td>2</td>\n",
       "      <td>086</td>\n",
       "      <td>20</td>\n",
       "      <td>2-086</td>\n",
       "    </tr>\n",
       "    <tr>\n",
       "      <th>446</th>\n",
       "      <td>/ext_ssd/nia_vent/aju/2-086/AWF/2-086-020.csv</td>\n",
       "      <td>2020-03-07 13:59:27.993406+09:00</td>\n",
       "      <td>2020-03-07 13:59:35.976741+09:00</td>\n",
       "      <td>[[-100.5, 795.0], [-98.0, 791.0], [-103.0, 795...</td>\n",
       "      <td>2</td>\n",
       "      <td>086</td>\n",
       "      <td>20</td>\n",
       "      <td>2-086</td>\n",
       "    </tr>\n",
       "    <tr>\n",
       "      <th>447</th>\n",
       "      <td>/ext_ssd/nia_vent/aju/2-086/AWF/2-086-020.csv</td>\n",
       "      <td>2020-03-07 13:59:35.993408+09:00</td>\n",
       "      <td>2020-03-07 13:59:43.976743+09:00</td>\n",
       "      <td>[[189.5, 1421.0], [181.0, 1425.0], [173.0, 142...</td>\n",
       "      <td>2</td>\n",
       "      <td>086</td>\n",
       "      <td>20</td>\n",
       "      <td>2-086</td>\n",
       "    </tr>\n",
       "    <tr>\n",
       "      <th>448</th>\n",
       "      <td>/ext_ssd/nia_vent/aju/2-086/AWF/2-086-020.csv</td>\n",
       "      <td>2020-03-07 13:59:43.993410+09:00</td>\n",
       "      <td>2020-03-07 13:59:51.976745+09:00</td>\n",
       "      <td>[[-503.0, 793.5], [-488.0, 807.5], [-462.5, 82...</td>\n",
       "      <td>2</td>\n",
       "      <td>086</td>\n",
       "      <td>20</td>\n",
       "      <td>2-086</td>\n",
       "    </tr>\n",
       "  </tbody>\n",
       "</table>\n",
       "<p>2582998 rows × 8 columns</p>\n",
       "</div>"
      ],
      "text/plain": [
       "                                         flow_path  \\\n",
       "0    /ext_ssd/nia_vent/aju/2-065/AWF/2-065-070.csv   \n",
       "1    /ext_ssd/nia_vent/aju/2-065/AWF/2-065-070.csv   \n",
       "2    /ext_ssd/nia_vent/aju/2-065/AWF/2-065-070.csv   \n",
       "3    /ext_ssd/nia_vent/aju/2-065/AWF/2-065-070.csv   \n",
       "4    /ext_ssd/nia_vent/aju/2-065/AWF/2-065-070.csv   \n",
       "..                                             ...   \n",
       "444  /ext_ssd/nia_vent/aju/2-086/AWF/2-086-020.csv   \n",
       "445  /ext_ssd/nia_vent/aju/2-086/AWF/2-086-020.csv   \n",
       "446  /ext_ssd/nia_vent/aju/2-086/AWF/2-086-020.csv   \n",
       "447  /ext_ssd/nia_vent/aju/2-086/AWF/2-086-020.csv   \n",
       "448  /ext_ssd/nia_vent/aju/2-086/AWF/2-086-020.csv   \n",
       "\n",
       "                           starttime                          endtime  \\\n",
       "0   2019-05-18 21:59:59.999173+09:00 2019-05-18 22:00:07.982508+09:00   \n",
       "1   2019-05-18 22:00:07.999174+09:00 2019-05-18 22:00:15.982509+09:00   \n",
       "2   2019-05-18 22:00:15.999176+09:00 2019-05-18 22:00:23.982511+09:00   \n",
       "3   2019-05-18 22:00:23.999178+09:00 2019-05-18 22:00:31.982513+09:00   \n",
       "4   2019-05-18 22:00:31.999179+09:00 2019-05-18 22:00:39.982514+09:00   \n",
       "..                               ...                              ...   \n",
       "444 2020-03-07 13:59:11.993403+09:00 2020-03-07 13:59:19.976738+09:00   \n",
       "445 2020-03-07 13:59:19.993405+09:00 2020-03-07 13:59:27.976740+09:00   \n",
       "446 2020-03-07 13:59:27.993406+09:00 2020-03-07 13:59:35.976741+09:00   \n",
       "447 2020-03-07 13:59:35.993408+09:00 2020-03-07 13:59:43.976743+09:00   \n",
       "448 2020-03-07 13:59:43.993410+09:00 2020-03-07 13:59:51.976745+09:00   \n",
       "\n",
       "                                                  data hospital_id patient_id  \\\n",
       "0    [[-71.5, 493.5], [-59.0, 481.0], [-46.5, 478.5...           2        065   \n",
       "1    [[-41.0, 514.0], [-39.0, 503.0], [-32.5, 485.5...           2        065   \n",
       "2    [[-24.0, 529.0], [-24.0, 526.0], [-23.5, 522.0...           2        065   \n",
       "3    [[-172.0, 529.0], [-163.5, 526.0], [-156.5, 52...           2        065   \n",
       "4    [[-16.0, 516.0], [-16.0, 511.5], [-16.0, 513.5...           2        065   \n",
       "..                                                 ...         ...        ...   \n",
       "444  [[-48.0, 797.5], [-38.5, 790.0], [-33.5, 790.0...           2        086   \n",
       "445  [[885.0, 1346.0], [957.0, 1370.0], [1009.0, 14...           2        086   \n",
       "446  [[-100.5, 795.0], [-98.0, 791.0], [-103.0, 795...           2        086   \n",
       "447  [[189.5, 1421.0], [181.0, 1425.0], [173.0, 142...           2        086   \n",
       "448  [[-503.0, 793.5], [-488.0, 807.5], [-462.5, 82...           2        086   \n",
       "\n",
       "     wav_number hospital_id_patient_id  \n",
       "0            70                  2-065  \n",
       "1            70                  2-065  \n",
       "2            70                  2-065  \n",
       "3            70                  2-065  \n",
       "4            70                  2-065  \n",
       "..          ...                    ...  \n",
       "444          20                  2-086  \n",
       "445          20                  2-086  \n",
       "446          20                  2-086  \n",
       "447          20                  2-086  \n",
       "448          20                  2-086  \n",
       "\n",
       "[2582998 rows x 8 columns]"
      ]
     },
     "execution_count": 53,
     "metadata": {},
     "output_type": "execute_result"
    }
   ],
   "source": [
    "dat_infer"
   ]
  },
  {
   "cell_type": "code",
   "execution_count": 134,
   "metadata": {},
   "outputs": [
    {
     "data": {
      "text/plain": [
       "0"
      ]
     },
     "execution_count": 134,
     "metadata": {},
     "output_type": "execute_result"
    }
   ],
   "source": [
    "    # dat_infer = \n",
    "    dat_infer[~dat_infer['hospital_id_patient_id'].isin(dat_list_bak)]['hospital_id_patient_id'].nunique()"
   ]
  },
  {
   "cell_type": "code",
   "execution_count": 54,
   "metadata": {},
   "outputs": [
    {
     "name": "stdout",
     "output_type": "stream",
     "text": [
      "6058 patwav_df\n"
     ]
    }
   ],
   "source": [
    "    # dat_list_bak = dat_infer[['hospital_id_patient_id','wav_number']].drop_duplicates()\n",
    "    \n",
    "    patwav_df = dat_infer[['hospital_id_patient_id','wav_number']].drop_duplicates()\n",
    "    print(len(patwav_df), 'patwav_df')\n",
    "    # patwav_df = patwav_df.iloc[6000:]\n",
    "    # dat_infer = dat_infer[dat_infer['hospital_id_patient_id'].isin(patwav_df['hospital_id_patient_id'])]"
   ]
  },
  {
   "cell_type": "code",
   "execution_count": 57,
   "metadata": {},
   "outputs": [],
   "source": [
    "patwav_df.groupby('hospital_id_patient_id').count().to_csv(dest_dir+'/../tmp_2-001_2-099_wav_num_220920-1729.csv')"
   ]
  },
  {
   "cell_type": "code",
   "execution_count": 13,
   "metadata": {},
   "outputs": [],
   "source": [
    "done_list = glob.glob(f'{dest_dir}/*.pkl')"
   ]
  },
  {
   "cell_type": "code",
   "execution_count": 14,
   "metadata": {},
   "outputs": [
    {
     "data": {
      "text/plain": [
       "43399"
      ]
     },
     "execution_count": 14,
     "metadata": {},
     "output_type": "execute_result"
    }
   ],
   "source": [
    "len(done_list)"
   ]
  },
  {
   "cell_type": "code",
   "execution_count": 15,
   "metadata": {},
   "outputs": [],
   "source": [
    "done_df = pd.DataFrame({'path': done_list})\n",
    "done_df['filename'] = done_df['path'].copy().str.replace(dest_dir+'/', '')\n",
    "done_df = pd.concat([done_df, \n",
    "    done_df['filename'].str.split('_').apply(pd.Series).rename(columns={0: 'hospital_id_patient_id', 1: 'wav_number', 2: 'datetime'})], axis=1)"
   ]
  },
  {
   "cell_type": "code",
   "execution_count": 16,
   "metadata": {},
   "outputs": [
    {
     "data": {
      "text/html": [
       "<div>\n",
       "<style scoped>\n",
       "    .dataframe tbody tr th:only-of-type {\n",
       "        vertical-align: middle;\n",
       "    }\n",
       "\n",
       "    .dataframe tbody tr th {\n",
       "        vertical-align: top;\n",
       "    }\n",
       "\n",
       "    .dataframe thead th {\n",
       "        text-align: right;\n",
       "    }\n",
       "</style>\n",
       "<table border=\"1\" class=\"dataframe\">\n",
       "  <thead>\n",
       "    <tr style=\"text-align: right;\">\n",
       "      <th></th>\n",
       "      <th>path</th>\n",
       "      <th>filename</th>\n",
       "      <th>hospital_id_patient_id</th>\n",
       "      <th>wav_number</th>\n",
       "      <th>datetime</th>\n",
       "    </tr>\n",
       "  </thead>\n",
       "  <tbody>\n",
       "    <tr>\n",
       "      <th>0</th>\n",
       "      <td>/VOLUME/nia_vent_asynchrony/data/processed_dat...</td>\n",
       "      <td>1-027_430_2022-09-19.pkl</td>\n",
       "      <td>1-027</td>\n",
       "      <td>430</td>\n",
       "      <td>2022-09-19.pkl</td>\n",
       "    </tr>\n",
       "    <tr>\n",
       "      <th>1</th>\n",
       "      <td>/VOLUME/nia_vent_asynchrony/data/processed_dat...</td>\n",
       "      <td>1-027_240_2022-09-19.pkl</td>\n",
       "      <td>1-027</td>\n",
       "      <td>240</td>\n",
       "      <td>2022-09-19.pkl</td>\n",
       "    </tr>\n",
       "    <tr>\n",
       "      <th>2</th>\n",
       "      <td>/VOLUME/nia_vent_asynchrony/data/processed_dat...</td>\n",
       "      <td>1-027_182_2022-09-19.pkl</td>\n",
       "      <td>1-027</td>\n",
       "      <td>182</td>\n",
       "      <td>2022-09-19.pkl</td>\n",
       "    </tr>\n",
       "    <tr>\n",
       "      <th>3</th>\n",
       "      <td>/VOLUME/nia_vent_asynchrony/data/processed_dat...</td>\n",
       "      <td>1-027_2_2022-09-19.pkl</td>\n",
       "      <td>1-027</td>\n",
       "      <td>2</td>\n",
       "      <td>2022-09-19.pkl</td>\n",
       "    </tr>\n",
       "    <tr>\n",
       "      <th>4</th>\n",
       "      <td>/VOLUME/nia_vent_asynchrony/data/processed_dat...</td>\n",
       "      <td>1-027_394_2022-09-19.pkl</td>\n",
       "      <td>1-027</td>\n",
       "      <td>394</td>\n",
       "      <td>2022-09-19.pkl</td>\n",
       "    </tr>\n",
       "    <tr>\n",
       "      <th>...</th>\n",
       "      <td>...</td>\n",
       "      <td>...</td>\n",
       "      <td>...</td>\n",
       "      <td>...</td>\n",
       "      <td>...</td>\n",
       "    </tr>\n",
       "    <tr>\n",
       "      <th>43394</th>\n",
       "      <td>/VOLUME/nia_vent_asynchrony/data/processed_dat...</td>\n",
       "      <td>1-172_3_2022-09-20.pkl</td>\n",
       "      <td>1-172</td>\n",
       "      <td>3</td>\n",
       "      <td>2022-09-20.pkl</td>\n",
       "    </tr>\n",
       "    <tr>\n",
       "      <th>43395</th>\n",
       "      <td>/VOLUME/nia_vent_asynchrony/data/processed_dat...</td>\n",
       "      <td>1-172_9_2022-09-20.pkl</td>\n",
       "      <td>1-172</td>\n",
       "      <td>9</td>\n",
       "      <td>2022-09-20.pkl</td>\n",
       "    </tr>\n",
       "    <tr>\n",
       "      <th>43396</th>\n",
       "      <td>/VOLUME/nia_vent_asynchrony/data/processed_dat...</td>\n",
       "      <td>1-172_5_2022-09-20.pkl</td>\n",
       "      <td>1-172</td>\n",
       "      <td>5</td>\n",
       "      <td>2022-09-20.pkl</td>\n",
       "    </tr>\n",
       "    <tr>\n",
       "      <th>43397</th>\n",
       "      <td>/VOLUME/nia_vent_asynchrony/data/processed_dat...</td>\n",
       "      <td>1-172_7_2022-09-20.pkl</td>\n",
       "      <td>1-172</td>\n",
       "      <td>7</td>\n",
       "      <td>2022-09-20.pkl</td>\n",
       "    </tr>\n",
       "    <tr>\n",
       "      <th>43398</th>\n",
       "      <td>/VOLUME/nia_vent_asynchrony/data/processed_dat...</td>\n",
       "      <td>1-172_8_2022-09-20.pkl</td>\n",
       "      <td>1-172</td>\n",
       "      <td>8</td>\n",
       "      <td>2022-09-20.pkl</td>\n",
       "    </tr>\n",
       "  </tbody>\n",
       "</table>\n",
       "<p>43399 rows × 5 columns</p>\n",
       "</div>"
      ],
      "text/plain": [
       "                                                    path  \\\n",
       "0      /VOLUME/nia_vent_asynchrony/data/processed_dat...   \n",
       "1      /VOLUME/nia_vent_asynchrony/data/processed_dat...   \n",
       "2      /VOLUME/nia_vent_asynchrony/data/processed_dat...   \n",
       "3      /VOLUME/nia_vent_asynchrony/data/processed_dat...   \n",
       "4      /VOLUME/nia_vent_asynchrony/data/processed_dat...   \n",
       "...                                                  ...   \n",
       "43394  /VOLUME/nia_vent_asynchrony/data/processed_dat...   \n",
       "43395  /VOLUME/nia_vent_asynchrony/data/processed_dat...   \n",
       "43396  /VOLUME/nia_vent_asynchrony/data/processed_dat...   \n",
       "43397  /VOLUME/nia_vent_asynchrony/data/processed_dat...   \n",
       "43398  /VOLUME/nia_vent_asynchrony/data/processed_dat...   \n",
       "\n",
       "                       filename hospital_id_patient_id wav_number  \\\n",
       "0      1-027_430_2022-09-19.pkl                  1-027        430   \n",
       "1      1-027_240_2022-09-19.pkl                  1-027        240   \n",
       "2      1-027_182_2022-09-19.pkl                  1-027        182   \n",
       "3        1-027_2_2022-09-19.pkl                  1-027          2   \n",
       "4      1-027_394_2022-09-19.pkl                  1-027        394   \n",
       "...                         ...                    ...        ...   \n",
       "43394    1-172_3_2022-09-20.pkl                  1-172          3   \n",
       "43395    1-172_9_2022-09-20.pkl                  1-172          9   \n",
       "43396    1-172_5_2022-09-20.pkl                  1-172          5   \n",
       "43397    1-172_7_2022-09-20.pkl                  1-172          7   \n",
       "43398    1-172_8_2022-09-20.pkl                  1-172          8   \n",
       "\n",
       "             datetime  \n",
       "0      2022-09-19.pkl  \n",
       "1      2022-09-19.pkl  \n",
       "2      2022-09-19.pkl  \n",
       "3      2022-09-19.pkl  \n",
       "4      2022-09-19.pkl  \n",
       "...               ...  \n",
       "43394  2022-09-20.pkl  \n",
       "43395  2022-09-20.pkl  \n",
       "43396  2022-09-20.pkl  \n",
       "43397  2022-09-20.pkl  \n",
       "43398  2022-09-20.pkl  \n",
       "\n",
       "[43399 rows x 5 columns]"
      ]
     },
     "execution_count": 16,
     "metadata": {},
     "output_type": "execute_result"
    }
   ],
   "source": [
    "done_df"
   ]
  },
  {
   "cell_type": "code",
   "execution_count": 17,
   "metadata": {},
   "outputs": [
    {
     "data": {
      "text/plain": [
       "'/VOLUME/nia_vent_asynchrony/data/processed_data/tmp/1-027_430_2022-09-19.pkl'"
      ]
     },
     "execution_count": 17,
     "metadata": {},
     "output_type": "execute_result"
    }
   ],
   "source": [
    "done_df['path'].iloc[0]"
   ]
  },
  {
   "cell_type": "code",
   "execution_count": 18,
   "metadata": {},
   "outputs": [
    {
     "data": {
      "text/plain": [
       "1536"
      ]
     },
     "execution_count": 18,
     "metadata": {},
     "output_type": "execute_result"
    }
   ],
   "source": [
    "done_df[['hospital_id_patient_id','wav_number']].duplicated().sum()"
   ]
  },
  {
   "cell_type": "code",
   "execution_count": 19,
   "metadata": {},
   "outputs": [],
   "source": [
    "done_df = done_df.sort_values(['hospital_id_patient_id','wav_number','datetime']).groupby(['hospital_id_patient_id','wav_number']).tail(1)"
   ]
  },
  {
   "cell_type": "code",
   "execution_count": 20,
   "metadata": {},
   "outputs": [],
   "source": [
    "# done_df = done_df.sort_values(['hospital_id_patient_id','wav_number','datetime'])\n",
    "done_df['hospital_id'] = done_df['hospital_id_patient_id'].str[0]\n",
    "done_df['patient_id'] = done_df['hospital_id_patient_id'].str[2:]\n",
    "done_df['patient_id_num'] = done_df['patient_id'].astype(int)\n",
    "# unique_done_df = done_df.groupby(['hospital_id_patient_id','wav_number']).tail(1)"
   ]
  },
  {
   "cell_type": "code",
   "execution_count": 21,
   "metadata": {},
   "outputs": [
    {
     "data": {
      "text/html": [
       "<div>\n",
       "<style scoped>\n",
       "    .dataframe tbody tr th:only-of-type {\n",
       "        vertical-align: middle;\n",
       "    }\n",
       "\n",
       "    .dataframe tbody tr th {\n",
       "        vertical-align: top;\n",
       "    }\n",
       "\n",
       "    .dataframe thead th {\n",
       "        text-align: right;\n",
       "    }\n",
       "</style>\n",
       "<table border=\"1\" class=\"dataframe\">\n",
       "  <thead>\n",
       "    <tr style=\"text-align: right;\">\n",
       "      <th></th>\n",
       "      <th>path</th>\n",
       "      <th>filename</th>\n",
       "      <th>hospital_id_patient_id</th>\n",
       "      <th>wav_number</th>\n",
       "      <th>datetime</th>\n",
       "      <th>hospital_id</th>\n",
       "      <th>patient_id</th>\n",
       "      <th>patient_id_num</th>\n",
       "    </tr>\n",
       "  </thead>\n",
       "  <tbody>\n",
       "    <tr>\n",
       "      <th>13247</th>\n",
       "      <td>/VOLUME/nia_vent_asynchrony/data/processed_dat...</td>\n",
       "      <td>1-001_1_2022-09-19.pkl</td>\n",
       "      <td>1-001</td>\n",
       "      <td>1</td>\n",
       "      <td>2022-09-19.pkl</td>\n",
       "      <td>1</td>\n",
       "      <td>001</td>\n",
       "      <td>1</td>\n",
       "    </tr>\n",
       "    <tr>\n",
       "      <th>13248</th>\n",
       "      <td>/VOLUME/nia_vent_asynchrony/data/processed_dat...</td>\n",
       "      <td>1-001_2_2022-09-19.pkl</td>\n",
       "      <td>1-001</td>\n",
       "      <td>2</td>\n",
       "      <td>2022-09-19.pkl</td>\n",
       "      <td>1</td>\n",
       "      <td>001</td>\n",
       "      <td>1</td>\n",
       "    </tr>\n",
       "    <tr>\n",
       "      <th>13249</th>\n",
       "      <td>/VOLUME/nia_vent_asynchrony/data/processed_dat...</td>\n",
       "      <td>1-001_3_2022-09-19.pkl</td>\n",
       "      <td>1-001</td>\n",
       "      <td>3</td>\n",
       "      <td>2022-09-19.pkl</td>\n",
       "      <td>1</td>\n",
       "      <td>001</td>\n",
       "      <td>1</td>\n",
       "    </tr>\n",
       "    <tr>\n",
       "      <th>13251</th>\n",
       "      <td>/VOLUME/nia_vent_asynchrony/data/processed_dat...</td>\n",
       "      <td>1-001_4_2022-09-19.pkl</td>\n",
       "      <td>1-001</td>\n",
       "      <td>4</td>\n",
       "      <td>2022-09-19.pkl</td>\n",
       "      <td>1</td>\n",
       "      <td>001</td>\n",
       "      <td>1</td>\n",
       "    </tr>\n",
       "    <tr>\n",
       "      <th>13245</th>\n",
       "      <td>/VOLUME/nia_vent_asynchrony/data/processed_dat...</td>\n",
       "      <td>1-001_5_2022-09-19.pkl</td>\n",
       "      <td>1-001</td>\n",
       "      <td>5</td>\n",
       "      <td>2022-09-19.pkl</td>\n",
       "      <td>1</td>\n",
       "      <td>001</td>\n",
       "      <td>1</td>\n",
       "    </tr>\n",
       "    <tr>\n",
       "      <th>...</th>\n",
       "      <td>...</td>\n",
       "      <td>...</td>\n",
       "      <td>...</td>\n",
       "      <td>...</td>\n",
       "      <td>...</td>\n",
       "      <td>...</td>\n",
       "      <td>...</td>\n",
       "      <td>...</td>\n",
       "    </tr>\n",
       "    <tr>\n",
       "      <th>26152</th>\n",
       "      <td>/VOLUME/nia_vent_asynchrony/data/processed_dat...</td>\n",
       "      <td>2-249_95_2022-09-20.pkl</td>\n",
       "      <td>2-249</td>\n",
       "      <td>95</td>\n",
       "      <td>2022-09-20.pkl</td>\n",
       "      <td>2</td>\n",
       "      <td>249</td>\n",
       "      <td>249</td>\n",
       "    </tr>\n",
       "    <tr>\n",
       "      <th>26013</th>\n",
       "      <td>/VOLUME/nia_vent_asynchrony/data/processed_dat...</td>\n",
       "      <td>2-249_96_2022-09-20.pkl</td>\n",
       "      <td>2-249</td>\n",
       "      <td>96</td>\n",
       "      <td>2022-09-20.pkl</td>\n",
       "      <td>2</td>\n",
       "      <td>249</td>\n",
       "      <td>249</td>\n",
       "    </tr>\n",
       "    <tr>\n",
       "      <th>26240</th>\n",
       "      <td>/VOLUME/nia_vent_asynchrony/data/processed_dat...</td>\n",
       "      <td>2-249_97_2022-09-20.pkl</td>\n",
       "      <td>2-249</td>\n",
       "      <td>97</td>\n",
       "      <td>2022-09-20.pkl</td>\n",
       "      <td>2</td>\n",
       "      <td>249</td>\n",
       "      <td>249</td>\n",
       "    </tr>\n",
       "    <tr>\n",
       "      <th>26120</th>\n",
       "      <td>/VOLUME/nia_vent_asynchrony/data/processed_dat...</td>\n",
       "      <td>2-249_98_2022-09-20.pkl</td>\n",
       "      <td>2-249</td>\n",
       "      <td>98</td>\n",
       "      <td>2022-09-20.pkl</td>\n",
       "      <td>2</td>\n",
       "      <td>249</td>\n",
       "      <td>249</td>\n",
       "    </tr>\n",
       "    <tr>\n",
       "      <th>26132</th>\n",
       "      <td>/VOLUME/nia_vent_asynchrony/data/processed_dat...</td>\n",
       "      <td>2-249_99_2022-09-20.pkl</td>\n",
       "      <td>2-249</td>\n",
       "      <td>99</td>\n",
       "      <td>2022-09-20.pkl</td>\n",
       "      <td>2</td>\n",
       "      <td>249</td>\n",
       "      <td>249</td>\n",
       "    </tr>\n",
       "  </tbody>\n",
       "</table>\n",
       "<p>41863 rows × 8 columns</p>\n",
       "</div>"
      ],
      "text/plain": [
       "                                                    path  \\\n",
       "13247  /VOLUME/nia_vent_asynchrony/data/processed_dat...   \n",
       "13248  /VOLUME/nia_vent_asynchrony/data/processed_dat...   \n",
       "13249  /VOLUME/nia_vent_asynchrony/data/processed_dat...   \n",
       "13251  /VOLUME/nia_vent_asynchrony/data/processed_dat...   \n",
       "13245  /VOLUME/nia_vent_asynchrony/data/processed_dat...   \n",
       "...                                                  ...   \n",
       "26152  /VOLUME/nia_vent_asynchrony/data/processed_dat...   \n",
       "26013  /VOLUME/nia_vent_asynchrony/data/processed_dat...   \n",
       "26240  /VOLUME/nia_vent_asynchrony/data/processed_dat...   \n",
       "26120  /VOLUME/nia_vent_asynchrony/data/processed_dat...   \n",
       "26132  /VOLUME/nia_vent_asynchrony/data/processed_dat...   \n",
       "\n",
       "                      filename hospital_id_patient_id wav_number  \\\n",
       "13247   1-001_1_2022-09-19.pkl                  1-001          1   \n",
       "13248   1-001_2_2022-09-19.pkl                  1-001          2   \n",
       "13249   1-001_3_2022-09-19.pkl                  1-001          3   \n",
       "13251   1-001_4_2022-09-19.pkl                  1-001          4   \n",
       "13245   1-001_5_2022-09-19.pkl                  1-001          5   \n",
       "...                        ...                    ...        ...   \n",
       "26152  2-249_95_2022-09-20.pkl                  2-249         95   \n",
       "26013  2-249_96_2022-09-20.pkl                  2-249         96   \n",
       "26240  2-249_97_2022-09-20.pkl                  2-249         97   \n",
       "26120  2-249_98_2022-09-20.pkl                  2-249         98   \n",
       "26132  2-249_99_2022-09-20.pkl                  2-249         99   \n",
       "\n",
       "             datetime hospital_id patient_id  patient_id_num  \n",
       "13247  2022-09-19.pkl           1        001               1  \n",
       "13248  2022-09-19.pkl           1        001               1  \n",
       "13249  2022-09-19.pkl           1        001               1  \n",
       "13251  2022-09-19.pkl           1        001               1  \n",
       "13245  2022-09-19.pkl           1        001               1  \n",
       "...               ...         ...        ...             ...  \n",
       "26152  2022-09-20.pkl           2        249             249  \n",
       "26013  2022-09-20.pkl           2        249             249  \n",
       "26240  2022-09-20.pkl           2        249             249  \n",
       "26120  2022-09-20.pkl           2        249             249  \n",
       "26132  2022-09-20.pkl           2        249             249  \n",
       "\n",
       "[41863 rows x 8 columns]"
      ]
     },
     "execution_count": 21,
     "metadata": {},
     "output_type": "execute_result"
    }
   ],
   "source": [
    "done_df"
   ]
  },
  {
   "cell_type": "code",
   "execution_count": 22,
   "metadata": {},
   "outputs": [
    {
     "data": {
      "text/plain": [
       "'/VOLUME/nia_vent_asynchrony/data/processed_data/tmp'"
      ]
     },
     "execution_count": 22,
     "metadata": {},
     "output_type": "execute_result"
    }
   ],
   "source": [
    "dest_dir"
   ]
  },
  {
   "cell_type": "code",
   "execution_count": 23,
   "metadata": {},
   "outputs": [],
   "source": [
    "# unique_done_df.groupby(['hospital_id_patient_id']).count().to_csv('/VOLUME/nia_vent_asynchrony/data/processed_data/tmp_done_list_220920-1709.csv')"
   ]
  },
  {
   "cell_type": "code",
   "execution_count": 129,
   "metadata": {},
   "outputs": [],
   "source": [
    "partial_patwav_df = done_df[(done_df.hospital_id=='1')&(done_df.patient_id_num>=161)&(done_df.patient_id_num<=200)]"
   ]
  },
  {
   "cell_type": "code",
   "execution_count": 130,
   "metadata": {},
   "outputs": [
    {
     "data": {
      "text/html": [
       "<div>\n",
       "<style scoped>\n",
       "    .dataframe tbody tr th:only-of-type {\n",
       "        vertical-align: middle;\n",
       "    }\n",
       "\n",
       "    .dataframe tbody tr th {\n",
       "        vertical-align: top;\n",
       "    }\n",
       "\n",
       "    .dataframe thead th {\n",
       "        text-align: right;\n",
       "    }\n",
       "</style>\n",
       "<table border=\"1\" class=\"dataframe\">\n",
       "  <thead>\n",
       "    <tr style=\"text-align: right;\">\n",
       "      <th></th>\n",
       "      <th>path</th>\n",
       "      <th>filename</th>\n",
       "      <th>hospital_id_patient_id</th>\n",
       "      <th>wav_number</th>\n",
       "      <th>datetime</th>\n",
       "      <th>hospital_id</th>\n",
       "      <th>patient_id</th>\n",
       "      <th>patient_id_num</th>\n",
       "    </tr>\n",
       "  </thead>\n",
       "  <tbody>\n",
       "    <tr>\n",
       "      <th>33011</th>\n",
       "      <td>/VOLUME/nia_vent_asynchrony/data/processed_dat...</td>\n",
       "      <td>1-161_1_2022-09-20.pkl</td>\n",
       "      <td>1-161</td>\n",
       "      <td>1</td>\n",
       "      <td>2022-09-20.pkl</td>\n",
       "      <td>1</td>\n",
       "      <td>161</td>\n",
       "      <td>161</td>\n",
       "    </tr>\n",
       "    <tr>\n",
       "      <th>33124</th>\n",
       "      <td>/VOLUME/nia_vent_asynchrony/data/processed_dat...</td>\n",
       "      <td>1-161_10_2022-09-20.pkl</td>\n",
       "      <td>1-161</td>\n",
       "      <td>10</td>\n",
       "      <td>2022-09-20.pkl</td>\n",
       "      <td>1</td>\n",
       "      <td>161</td>\n",
       "      <td>161</td>\n",
       "    </tr>\n",
       "    <tr>\n",
       "      <th>33119</th>\n",
       "      <td>/VOLUME/nia_vent_asynchrony/data/processed_dat...</td>\n",
       "      <td>1-161_100_2022-09-20.pkl</td>\n",
       "      <td>1-161</td>\n",
       "      <td>100</td>\n",
       "      <td>2022-09-20.pkl</td>\n",
       "      <td>1</td>\n",
       "      <td>161</td>\n",
       "      <td>161</td>\n",
       "    </tr>\n",
       "    <tr>\n",
       "      <th>33084</th>\n",
       "      <td>/VOLUME/nia_vent_asynchrony/data/processed_dat...</td>\n",
       "      <td>1-161_101_2022-09-20.pkl</td>\n",
       "      <td>1-161</td>\n",
       "      <td>101</td>\n",
       "      <td>2022-09-20.pkl</td>\n",
       "      <td>1</td>\n",
       "      <td>161</td>\n",
       "      <td>161</td>\n",
       "    </tr>\n",
       "    <tr>\n",
       "      <th>33233</th>\n",
       "      <td>/VOLUME/nia_vent_asynchrony/data/processed_dat...</td>\n",
       "      <td>1-161_102_2022-09-20.pkl</td>\n",
       "      <td>1-161</td>\n",
       "      <td>102</td>\n",
       "      <td>2022-09-20.pkl</td>\n",
       "      <td>1</td>\n",
       "      <td>161</td>\n",
       "      <td>161</td>\n",
       "    </tr>\n",
       "    <tr>\n",
       "      <th>...</th>\n",
       "      <td>...</td>\n",
       "      <td>...</td>\n",
       "      <td>...</td>\n",
       "      <td>...</td>\n",
       "      <td>...</td>\n",
       "      <td>...</td>\n",
       "      <td>...</td>\n",
       "      <td>...</td>\n",
       "    </tr>\n",
       "    <tr>\n",
       "      <th>30470</th>\n",
       "      <td>/VOLUME/nia_vent_asynchrony/data/processed_dat...</td>\n",
       "      <td>1-200_5_2022-09-20.pkl</td>\n",
       "      <td>1-200</td>\n",
       "      <td>5</td>\n",
       "      <td>2022-09-20.pkl</td>\n",
       "      <td>1</td>\n",
       "      <td>200</td>\n",
       "      <td>200</td>\n",
       "    </tr>\n",
       "    <tr>\n",
       "      <th>30481</th>\n",
       "      <td>/VOLUME/nia_vent_asynchrony/data/processed_dat...</td>\n",
       "      <td>1-200_6_2022-09-20.pkl</td>\n",
       "      <td>1-200</td>\n",
       "      <td>6</td>\n",
       "      <td>2022-09-20.pkl</td>\n",
       "      <td>1</td>\n",
       "      <td>200</td>\n",
       "      <td>200</td>\n",
       "    </tr>\n",
       "    <tr>\n",
       "      <th>30464</th>\n",
       "      <td>/VOLUME/nia_vent_asynchrony/data/processed_dat...</td>\n",
       "      <td>1-200_7_2022-09-20.pkl</td>\n",
       "      <td>1-200</td>\n",
       "      <td>7</td>\n",
       "      <td>2022-09-20.pkl</td>\n",
       "      <td>1</td>\n",
       "      <td>200</td>\n",
       "      <td>200</td>\n",
       "    </tr>\n",
       "    <tr>\n",
       "      <th>30462</th>\n",
       "      <td>/VOLUME/nia_vent_asynchrony/data/processed_dat...</td>\n",
       "      <td>1-200_8_2022-09-20.pkl</td>\n",
       "      <td>1-200</td>\n",
       "      <td>8</td>\n",
       "      <td>2022-09-20.pkl</td>\n",
       "      <td>1</td>\n",
       "      <td>200</td>\n",
       "      <td>200</td>\n",
       "    </tr>\n",
       "    <tr>\n",
       "      <th>30480</th>\n",
       "      <td>/VOLUME/nia_vent_asynchrony/data/processed_dat...</td>\n",
       "      <td>1-200_9_2022-09-20.pkl</td>\n",
       "      <td>1-200</td>\n",
       "      <td>9</td>\n",
       "      <td>2022-09-20.pkl</td>\n",
       "      <td>1</td>\n",
       "      <td>200</td>\n",
       "      <td>200</td>\n",
       "    </tr>\n",
       "  </tbody>\n",
       "</table>\n",
       "<p>2395 rows × 8 columns</p>\n",
       "</div>"
      ],
      "text/plain": [
       "                                                    path  \\\n",
       "33011  /VOLUME/nia_vent_asynchrony/data/processed_dat...   \n",
       "33124  /VOLUME/nia_vent_asynchrony/data/processed_dat...   \n",
       "33119  /VOLUME/nia_vent_asynchrony/data/processed_dat...   \n",
       "33084  /VOLUME/nia_vent_asynchrony/data/processed_dat...   \n",
       "33233  /VOLUME/nia_vent_asynchrony/data/processed_dat...   \n",
       "...                                                  ...   \n",
       "30470  /VOLUME/nia_vent_asynchrony/data/processed_dat...   \n",
       "30481  /VOLUME/nia_vent_asynchrony/data/processed_dat...   \n",
       "30464  /VOLUME/nia_vent_asynchrony/data/processed_dat...   \n",
       "30462  /VOLUME/nia_vent_asynchrony/data/processed_dat...   \n",
       "30480  /VOLUME/nia_vent_asynchrony/data/processed_dat...   \n",
       "\n",
       "                       filename hospital_id_patient_id wav_number  \\\n",
       "33011    1-161_1_2022-09-20.pkl                  1-161          1   \n",
       "33124   1-161_10_2022-09-20.pkl                  1-161         10   \n",
       "33119  1-161_100_2022-09-20.pkl                  1-161        100   \n",
       "33084  1-161_101_2022-09-20.pkl                  1-161        101   \n",
       "33233  1-161_102_2022-09-20.pkl                  1-161        102   \n",
       "...                         ...                    ...        ...   \n",
       "30470    1-200_5_2022-09-20.pkl                  1-200          5   \n",
       "30481    1-200_6_2022-09-20.pkl                  1-200          6   \n",
       "30464    1-200_7_2022-09-20.pkl                  1-200          7   \n",
       "30462    1-200_8_2022-09-20.pkl                  1-200          8   \n",
       "30480    1-200_9_2022-09-20.pkl                  1-200          9   \n",
       "\n",
       "             datetime hospital_id patient_id  patient_id_num  \n",
       "33011  2022-09-20.pkl           1        161             161  \n",
       "33124  2022-09-20.pkl           1        161             161  \n",
       "33119  2022-09-20.pkl           1        161             161  \n",
       "33084  2022-09-20.pkl           1        161             161  \n",
       "33233  2022-09-20.pkl           1        161             161  \n",
       "...               ...         ...        ...             ...  \n",
       "30470  2022-09-20.pkl           1        200             200  \n",
       "30481  2022-09-20.pkl           1        200             200  \n",
       "30464  2022-09-20.pkl           1        200             200  \n",
       "30462  2022-09-20.pkl           1        200             200  \n",
       "30480  2022-09-20.pkl           1        200             200  \n",
       "\n",
       "[2395 rows x 8 columns]"
      ]
     },
     "execution_count": 130,
     "metadata": {},
     "output_type": "execute_result"
    }
   ],
   "source": [
    "partial_patwav_df"
   ]
  },
  {
   "cell_type": "code",
   "execution_count": 131,
   "metadata": {},
   "outputs": [
    {
     "name": "stdout",
     "output_type": "stream",
     "text": [
      "no. cpu existed : 104, use 20 threads\n",
      "aggregate all instances\n"
     ]
    }
   ],
   "source": [
    "n_cpu = multiprocessing.cpu_count()\n",
    "n_threads = 20\n",
    "print(f'no. cpu existed : {n_cpu}, use {n_threads} threads')\n",
    "\n",
    "pool = multiprocessing.Pool(processes=n_threads)\n",
    "result = pool.map(pd.read_pickle, partial_patwav_df.path.tolist())\n",
    "pool.close()\n",
    "pool.join()\n",
    "\n",
    "print('aggregate all instances')\n",
    "dat_infer = pd.concat(result)\n",
    "dat_infer['wav_number'] = dat_infer['wav_number'].astype(int)"
   ]
  },
  {
   "cell_type": "code",
   "execution_count": 132,
   "metadata": {},
   "outputs": [],
   "source": [
    "# _ = merge_data(dat_infer)\n",
    "# 4500 instance , 10threads, 70min\n",
    "# 6000 instance , 10threads, 142min"
   ]
  },
  {
   "cell_type": "code",
   "execution_count": 133,
   "metadata": {},
   "outputs": [
    {
     "data": {
      "text/html": [
       "<div>\n",
       "<style scoped>\n",
       "    .dataframe tbody tr th:only-of-type {\n",
       "        vertical-align: middle;\n",
       "    }\n",
       "\n",
       "    .dataframe tbody tr th {\n",
       "        vertical-align: top;\n",
       "    }\n",
       "\n",
       "    .dataframe thead th {\n",
       "        text-align: right;\n",
       "    }\n",
       "</style>\n",
       "<table border=\"1\" class=\"dataframe\">\n",
       "  <thead>\n",
       "    <tr style=\"text-align: right;\">\n",
       "      <th></th>\n",
       "      <th>flow_path</th>\n",
       "      <th>starttime</th>\n",
       "      <th>endtime</th>\n",
       "      <th>data</th>\n",
       "      <th>hospital_id</th>\n",
       "      <th>patient_id</th>\n",
       "      <th>wav_number</th>\n",
       "      <th>hospital_id_patient_id</th>\n",
       "      <th>instance_index</th>\n",
       "    </tr>\n",
       "  </thead>\n",
       "  <tbody>\n",
       "    <tr>\n",
       "      <th>0</th>\n",
       "      <td>/ext_ssd/nia_vent/snu/20220831/1-161/AWF/1-161...</td>\n",
       "      <td>2022-06-15 18:45:27.250346+09:00</td>\n",
       "      <td>2022-06-15 18:46:27.250346+09:00</td>\n",
       "      <td>[[nan, nan], [nan, nan], [nan, nan], [nan, nan...</td>\n",
       "      <td>1</td>\n",
       "      <td>161</td>\n",
       "      <td>1</td>\n",
       "      <td>1-161</td>\n",
       "      <td>320703</td>\n",
       "    </tr>\n",
       "    <tr>\n",
       "      <th>7</th>\n",
       "      <td>/ext_ssd/nia_vent/snu/20220831/1-161/AWF/1-161...</td>\n",
       "      <td>2022-06-15 18:46:27.236079+09:00</td>\n",
       "      <td>2022-06-15 18:47:27.236079+09:00</td>\n",
       "      <td>[[-130.0, -10.0], [-130.0, -10.0], [-130.0, -1...</td>\n",
       "      <td>1</td>\n",
       "      <td>161</td>\n",
       "      <td>1</td>\n",
       "      <td>1-161</td>\n",
       "      <td>320710</td>\n",
       "    </tr>\n",
       "    <tr>\n",
       "      <th>15</th>\n",
       "      <td>/ext_ssd/nia_vent/snu/20220831/1-161/AWF/1-161...</td>\n",
       "      <td>2022-06-15 18:47:27.252746+09:00</td>\n",
       "      <td>2022-06-15 18:48:27.252746+09:00</td>\n",
       "      <td>[[21.839996337890625, 27.200000762939453], [20...</td>\n",
       "      <td>1</td>\n",
       "      <td>161</td>\n",
       "      <td>1</td>\n",
       "      <td>1-161</td>\n",
       "      <td>320718</td>\n",
       "    </tr>\n",
       "    <tr>\n",
       "      <th>22</th>\n",
       "      <td>/ext_ssd/nia_vent/snu/20220831/1-161/AWF/1-161...</td>\n",
       "      <td>2022-06-15 18:48:27.238479+09:00</td>\n",
       "      <td>2022-06-15 18:49:27.238479+09:00</td>\n",
       "      <td>[[-26.91000366210937, 20.76499938964844], [-58...</td>\n",
       "      <td>1</td>\n",
       "      <td>161</td>\n",
       "      <td>1</td>\n",
       "      <td>1-161</td>\n",
       "      <td>320725</td>\n",
       "    </tr>\n",
       "    <tr>\n",
       "      <th>30</th>\n",
       "      <td>/ext_ssd/nia_vent/snu/20220831/1-161/AWF/1-161...</td>\n",
       "      <td>2022-06-15 18:49:27.255146+09:00</td>\n",
       "      <td>2022-06-15 18:50:27.255146+09:00</td>\n",
       "      <td>[[4.94000244140625, 26.255001068115234], [4.67...</td>\n",
       "      <td>1</td>\n",
       "      <td>161</td>\n",
       "      <td>1</td>\n",
       "      <td>1-161</td>\n",
       "      <td>320733</td>\n",
       "    </tr>\n",
       "    <tr>\n",
       "      <th>...</th>\n",
       "      <td>...</td>\n",
       "      <td>...</td>\n",
       "      <td>...</td>\n",
       "      <td>...</td>\n",
       "      <td>...</td>\n",
       "      <td>...</td>\n",
       "      <td>...</td>\n",
       "      <td>...</td>\n",
       "      <td>...</td>\n",
       "    </tr>\n",
       "    <tr>\n",
       "      <th>405</th>\n",
       "      <td>/ext_ssd/nia_vent/snu/원천_csv/1-200/AWF/1-200-0...</td>\n",
       "      <td>2021-12-14 15:54:22.580324+09:00</td>\n",
       "      <td>2021-12-14 15:55:22.580324+09:00</td>\n",
       "      <td>[[0.1299896240234375, 18.3799991607666], [-17....</td>\n",
       "      <td>1</td>\n",
       "      <td>200</td>\n",
       "      <td>9</td>\n",
       "      <td>1-200</td>\n",
       "      <td>1559735</td>\n",
       "    </tr>\n",
       "    <tr>\n",
       "      <th>412</th>\n",
       "      <td>/ext_ssd/nia_vent/snu/원천_csv/1-200/AWF/1-200-0...</td>\n",
       "      <td>2021-12-14 15:55:22.549390+09:00</td>\n",
       "      <td>2021-12-14 15:56:22.549390+09:00</td>\n",
       "      <td>[[0.06500244140625, 18.51499938964844], [-22.4...</td>\n",
       "      <td>1</td>\n",
       "      <td>200</td>\n",
       "      <td>9</td>\n",
       "      <td>1-200</td>\n",
       "      <td>1559742</td>\n",
       "    </tr>\n",
       "    <tr>\n",
       "      <th>420</th>\n",
       "      <td>/ext_ssd/nia_vent/snu/원천_csv/1-200/AWF/1-200-0...</td>\n",
       "      <td>2021-12-14 15:56:22.566057+09:00</td>\n",
       "      <td>2021-12-14 15:57:22.566057+09:00</td>\n",
       "      <td>[[-21.38500213623047, 14.809999465942385], [-4...</td>\n",
       "      <td>1</td>\n",
       "      <td>200</td>\n",
       "      <td>9</td>\n",
       "      <td>1-200</td>\n",
       "      <td>1559750</td>\n",
       "    </tr>\n",
       "    <tr>\n",
       "      <th>427</th>\n",
       "      <td>/ext_ssd/nia_vent/snu/원천_csv/1-200/AWF/1-200-0...</td>\n",
       "      <td>2021-12-14 15:57:22.551790+09:00</td>\n",
       "      <td>2021-12-14 15:58:22.551790+09:00</td>\n",
       "      <td>[[-50.44000244140625, 8.690000534057617], [-58...</td>\n",
       "      <td>1</td>\n",
       "      <td>200</td>\n",
       "      <td>9</td>\n",
       "      <td>1-200</td>\n",
       "      <td>1559757</td>\n",
       "    </tr>\n",
       "    <tr>\n",
       "      <th>435</th>\n",
       "      <td>/ext_ssd/nia_vent/snu/원천_csv/1-200/AWF/1-200-0...</td>\n",
       "      <td>2021-12-14 15:58:22.568457+09:00</td>\n",
       "      <td>2021-12-14 15:59:22.568457+09:00</td>\n",
       "      <td>[[-0.5200042724609375, 5.104999542236328], [-0...</td>\n",
       "      <td>1</td>\n",
       "      <td>200</td>\n",
       "      <td>9</td>\n",
       "      <td>1-200</td>\n",
       "      <td>1559765</td>\n",
       "    </tr>\n",
       "  </tbody>\n",
       "</table>\n",
       "<p>134134 rows × 9 columns</p>\n",
       "</div>"
      ],
      "text/plain": [
       "                                             flow_path  \\\n",
       "0    /ext_ssd/nia_vent/snu/20220831/1-161/AWF/1-161...   \n",
       "7    /ext_ssd/nia_vent/snu/20220831/1-161/AWF/1-161...   \n",
       "15   /ext_ssd/nia_vent/snu/20220831/1-161/AWF/1-161...   \n",
       "22   /ext_ssd/nia_vent/snu/20220831/1-161/AWF/1-161...   \n",
       "30   /ext_ssd/nia_vent/snu/20220831/1-161/AWF/1-161...   \n",
       "..                                                 ...   \n",
       "405  /ext_ssd/nia_vent/snu/원천_csv/1-200/AWF/1-200-0...   \n",
       "412  /ext_ssd/nia_vent/snu/원천_csv/1-200/AWF/1-200-0...   \n",
       "420  /ext_ssd/nia_vent/snu/원천_csv/1-200/AWF/1-200-0...   \n",
       "427  /ext_ssd/nia_vent/snu/원천_csv/1-200/AWF/1-200-0...   \n",
       "435  /ext_ssd/nia_vent/snu/원천_csv/1-200/AWF/1-200-0...   \n",
       "\n",
       "                           starttime                          endtime  \\\n",
       "0   2022-06-15 18:45:27.250346+09:00 2022-06-15 18:46:27.250346+09:00   \n",
       "7   2022-06-15 18:46:27.236079+09:00 2022-06-15 18:47:27.236079+09:00   \n",
       "15  2022-06-15 18:47:27.252746+09:00 2022-06-15 18:48:27.252746+09:00   \n",
       "22  2022-06-15 18:48:27.238479+09:00 2022-06-15 18:49:27.238479+09:00   \n",
       "30  2022-06-15 18:49:27.255146+09:00 2022-06-15 18:50:27.255146+09:00   \n",
       "..                               ...                              ...   \n",
       "405 2021-12-14 15:54:22.580324+09:00 2021-12-14 15:55:22.580324+09:00   \n",
       "412 2021-12-14 15:55:22.549390+09:00 2021-12-14 15:56:22.549390+09:00   \n",
       "420 2021-12-14 15:56:22.566057+09:00 2021-12-14 15:57:22.566057+09:00   \n",
       "427 2021-12-14 15:57:22.551790+09:00 2021-12-14 15:58:22.551790+09:00   \n",
       "435 2021-12-14 15:58:22.568457+09:00 2021-12-14 15:59:22.568457+09:00   \n",
       "\n",
       "                                                  data hospital_id patient_id  \\\n",
       "0    [[nan, nan], [nan, nan], [nan, nan], [nan, nan...           1        161   \n",
       "7    [[-130.0, -10.0], [-130.0, -10.0], [-130.0, -1...           1        161   \n",
       "15   [[21.839996337890625, 27.200000762939453], [20...           1        161   \n",
       "22   [[-26.91000366210937, 20.76499938964844], [-58...           1        161   \n",
       "30   [[4.94000244140625, 26.255001068115234], [4.67...           1        161   \n",
       "..                                                 ...         ...        ...   \n",
       "405  [[0.1299896240234375, 18.3799991607666], [-17....           1        200   \n",
       "412  [[0.06500244140625, 18.51499938964844], [-22.4...           1        200   \n",
       "420  [[-21.38500213623047, 14.809999465942385], [-4...           1        200   \n",
       "427  [[-50.44000244140625, 8.690000534057617], [-58...           1        200   \n",
       "435  [[-0.5200042724609375, 5.104999542236328], [-0...           1        200   \n",
       "\n",
       "     wav_number hospital_id_patient_id instance_index  \n",
       "0             1                  1-161         320703  \n",
       "7             1                  1-161         320710  \n",
       "15            1                  1-161         320718  \n",
       "22            1                  1-161         320725  \n",
       "30            1                  1-161         320733  \n",
       "..          ...                    ...            ...  \n",
       "405           9                  1-200        1559735  \n",
       "412           9                  1-200        1559742  \n",
       "420           9                  1-200        1559750  \n",
       "427           9                  1-200        1559757  \n",
       "435           9                  1-200        1559765  \n",
       "\n",
       "[134134 rows x 9 columns]"
      ]
     },
     "execution_count": 133,
     "metadata": {},
     "output_type": "execute_result"
    }
   ],
   "source": [
    "dat_infer"
   ]
  },
  {
   "cell_type": "code",
   "execution_count": 134,
   "metadata": {},
   "outputs": [
    {
     "data": {
      "text/plain": [
       "('1-161', '1-200', 40)"
      ]
     },
     "execution_count": 134,
     "metadata": {},
     "output_type": "execute_result"
    }
   ],
   "source": [
    "dat_infer['hospital_id_patient_id'].min(), dat_infer['hospital_id_patient_id'].max(), dat_infer['hospital_id_patient_id'].nunique()"
   ]
  },
  {
   "cell_type": "code",
   "execution_count": 135,
   "metadata": {},
   "outputs": [
    {
     "data": {
      "text/plain": [
       "134134"
      ]
     },
     "execution_count": 135,
     "metadata": {},
     "output_type": "execute_result"
    }
   ],
   "source": [
    "len(dat_infer)"
   ]
  },
  {
   "cell_type": "code",
   "execution_count": 136,
   "metadata": {},
   "outputs": [
    {
     "data": {
      "text/plain": [
       "(40, 2317)"
      ]
     },
     "execution_count": 136,
     "metadata": {},
     "output_type": "execute_result"
    }
   ],
   "source": [
    "dat_infer['hospital_id_patient_id'].nunique(), len(dat_infer[['hospital_id_patient_id','wav_number']].drop_duplicates())"
   ]
  },
  {
   "cell_type": "code",
   "execution_count": 137,
   "metadata": {},
   "outputs": [
    {
     "data": {
      "text/plain": [
       "2317"
      ]
     },
     "execution_count": 137,
     "metadata": {},
     "output_type": "execute_result"
    }
   ],
   "source": [
    "dat_infer['flow_path'].nunique()"
   ]
  },
  {
   "cell_type": "code",
   "execution_count": 138,
   "metadata": {},
   "outputs": [],
   "source": [
    "dat_infer['split'] = 'test'"
   ]
  },
  {
   "cell_type": "code",
   "execution_count": 139,
   "metadata": {},
   "outputs": [
    {
     "name": "stdout",
     "output_type": "stream",
     "text": [
      "no of train, val, test 0 0 134134\n",
      "x_data (134134, 3600, 2)\n",
      "trans x_data torch.Size([134134, 2, 3600])\n",
      "trans y_data torch.Size([134134, 1, 1])\n",
      "X.shape (0, 3600, 2) (134134, 3600, 2)\n",
      "Y class distribution 0.0 0.0\n"
     ]
    }
   ],
   "source": [
    "# testset = ...\n",
    "_, _, test_dataloader = preprocess_data(dat_infer, scale=True)\n",
    "# 315386 rows, elapsed 5min"
   ]
  },
  {
   "cell_type": "code",
   "execution_count": 140,
   "metadata": {},
   "outputs": [
    {
     "name": "stdout",
     "output_type": "stream",
     "text": [
      "step 0 loss -7.495398034437361e+19\n"
     ]
    }
   ],
   "source": [
    "# predict testset \n",
    "ventdys_model.eval()\n",
    "\n",
    "y_prob = None\n",
    "for i_step, data in enumerate(test_dataloader):\n",
    "    xi, target = data\n",
    "    xi = xi.to(device)\n",
    "    target = target.to(device).squeeze(-1).squeeze(-1).float() # torch.Size([bs, 1])\n",
    "    out = ventdys_model(xi)\n",
    "\n",
    "    \n",
    "    loss = calculate_bce_loss(out[:,1], target)\n",
    "\n",
    "    prob = F.softmax(out, dim=1)[:,1].detach().cpu()\n",
    "    # pred = y_proba>0.5\n",
    "    y_prob = prob if y_prob is None else torch.cat([y_prob, prob])\n",
    "\n",
    "    # pred_list.append(out.detach().cpu().numpy())\n",
    "    if i_step%1000==0: print('step', i_step, 'loss', loss.item())\n"
   ]
  },
  {
   "cell_type": "code",
   "execution_count": 141,
   "metadata": {},
   "outputs": [],
   "source": [
    "testset = test_dataloader.dataset"
   ]
  },
  {
   "cell_type": "code",
   "execution_count": 142,
   "metadata": {},
   "outputs": [],
   "source": [
    "# test_metainfo = testset.metainfo\n",
    "# test_metainfo"
   ]
  },
  {
   "cell_type": "code",
   "execution_count": 143,
   "metadata": {},
   "outputs": [],
   "source": [
    "testset_pred = testset.metainfo\n",
    "testset_pred['y_pred_prob'] = y_prob\n",
    "testset_pred['y_pred'] = y_prob>0.99\n",
    "if 'label' in testset_pred.columns:\n",
    "    testset_pred['y_target'] = testset_pred['label'].isin([2,1])"
   ]
  },
  {
   "cell_type": "code",
   "execution_count": 144,
   "metadata": {},
   "outputs": [
    {
     "data": {
      "text/html": [
       "<div>\n",
       "<style scoped>\n",
       "    .dataframe tbody tr th:only-of-type {\n",
       "        vertical-align: middle;\n",
       "    }\n",
       "\n",
       "    .dataframe tbody tr th {\n",
       "        vertical-align: top;\n",
       "    }\n",
       "\n",
       "    .dataframe thead th {\n",
       "        text-align: right;\n",
       "    }\n",
       "</style>\n",
       "<table border=\"1\" class=\"dataframe\">\n",
       "  <thead>\n",
       "    <tr style=\"text-align: right;\">\n",
       "      <th></th>\n",
       "      <th>flow_path</th>\n",
       "      <th>starttime</th>\n",
       "      <th>endtime</th>\n",
       "      <th>hospital_id</th>\n",
       "      <th>patient_id</th>\n",
       "      <th>wav_number</th>\n",
       "      <th>hospital_id_patient_id</th>\n",
       "      <th>instance_index</th>\n",
       "      <th>split</th>\n",
       "      <th>y_pred_prob</th>\n",
       "      <th>y_pred</th>\n",
       "    </tr>\n",
       "  </thead>\n",
       "  <tbody>\n",
       "    <tr>\n",
       "      <th>0</th>\n",
       "      <td>/ext_ssd/nia_vent/snu/20220831/1-161/AWF/1-161...</td>\n",
       "      <td>2022-06-15 18:45:27.250346+09:00</td>\n",
       "      <td>2022-06-15 18:46:27.250346+09:00</td>\n",
       "      <td>1</td>\n",
       "      <td>161</td>\n",
       "      <td>1</td>\n",
       "      <td>1-161</td>\n",
       "      <td>320703</td>\n",
       "      <td>test</td>\n",
       "      <td>0.138228</td>\n",
       "      <td>False</td>\n",
       "    </tr>\n",
       "    <tr>\n",
       "      <th>7</th>\n",
       "      <td>/ext_ssd/nia_vent/snu/20220831/1-161/AWF/1-161...</td>\n",
       "      <td>2022-06-15 18:46:27.236079+09:00</td>\n",
       "      <td>2022-06-15 18:47:27.236079+09:00</td>\n",
       "      <td>1</td>\n",
       "      <td>161</td>\n",
       "      <td>1</td>\n",
       "      <td>1-161</td>\n",
       "      <td>320710</td>\n",
       "      <td>test</td>\n",
       "      <td>0.750722</td>\n",
       "      <td>False</td>\n",
       "    </tr>\n",
       "    <tr>\n",
       "      <th>15</th>\n",
       "      <td>/ext_ssd/nia_vent/snu/20220831/1-161/AWF/1-161...</td>\n",
       "      <td>2022-06-15 18:47:27.252746+09:00</td>\n",
       "      <td>2022-06-15 18:48:27.252746+09:00</td>\n",
       "      <td>1</td>\n",
       "      <td>161</td>\n",
       "      <td>1</td>\n",
       "      <td>1-161</td>\n",
       "      <td>320718</td>\n",
       "      <td>test</td>\n",
       "      <td>0.089942</td>\n",
       "      <td>False</td>\n",
       "    </tr>\n",
       "    <tr>\n",
       "      <th>22</th>\n",
       "      <td>/ext_ssd/nia_vent/snu/20220831/1-161/AWF/1-161...</td>\n",
       "      <td>2022-06-15 18:48:27.238479+09:00</td>\n",
       "      <td>2022-06-15 18:49:27.238479+09:00</td>\n",
       "      <td>1</td>\n",
       "      <td>161</td>\n",
       "      <td>1</td>\n",
       "      <td>1-161</td>\n",
       "      <td>320725</td>\n",
       "      <td>test</td>\n",
       "      <td>0.100882</td>\n",
       "      <td>False</td>\n",
       "    </tr>\n",
       "    <tr>\n",
       "      <th>30</th>\n",
       "      <td>/ext_ssd/nia_vent/snu/20220831/1-161/AWF/1-161...</td>\n",
       "      <td>2022-06-15 18:49:27.255146+09:00</td>\n",
       "      <td>2022-06-15 18:50:27.255146+09:00</td>\n",
       "      <td>1</td>\n",
       "      <td>161</td>\n",
       "      <td>1</td>\n",
       "      <td>1-161</td>\n",
       "      <td>320733</td>\n",
       "      <td>test</td>\n",
       "      <td>0.112739</td>\n",
       "      <td>False</td>\n",
       "    </tr>\n",
       "    <tr>\n",
       "      <th>...</th>\n",
       "      <td>...</td>\n",
       "      <td>...</td>\n",
       "      <td>...</td>\n",
       "      <td>...</td>\n",
       "      <td>...</td>\n",
       "      <td>...</td>\n",
       "      <td>...</td>\n",
       "      <td>...</td>\n",
       "      <td>...</td>\n",
       "      <td>...</td>\n",
       "      <td>...</td>\n",
       "    </tr>\n",
       "    <tr>\n",
       "      <th>405</th>\n",
       "      <td>/ext_ssd/nia_vent/snu/원천_csv/1-200/AWF/1-200-0...</td>\n",
       "      <td>2021-12-14 15:54:22.580324+09:00</td>\n",
       "      <td>2021-12-14 15:55:22.580324+09:00</td>\n",
       "      <td>1</td>\n",
       "      <td>200</td>\n",
       "      <td>9</td>\n",
       "      <td>1-200</td>\n",
       "      <td>1559735</td>\n",
       "      <td>test</td>\n",
       "      <td>0.134338</td>\n",
       "      <td>False</td>\n",
       "    </tr>\n",
       "    <tr>\n",
       "      <th>412</th>\n",
       "      <td>/ext_ssd/nia_vent/snu/원천_csv/1-200/AWF/1-200-0...</td>\n",
       "      <td>2021-12-14 15:55:22.549390+09:00</td>\n",
       "      <td>2021-12-14 15:56:22.549390+09:00</td>\n",
       "      <td>1</td>\n",
       "      <td>200</td>\n",
       "      <td>9</td>\n",
       "      <td>1-200</td>\n",
       "      <td>1559742</td>\n",
       "      <td>test</td>\n",
       "      <td>0.136727</td>\n",
       "      <td>False</td>\n",
       "    </tr>\n",
       "    <tr>\n",
       "      <th>420</th>\n",
       "      <td>/ext_ssd/nia_vent/snu/원천_csv/1-200/AWF/1-200-0...</td>\n",
       "      <td>2021-12-14 15:56:22.566057+09:00</td>\n",
       "      <td>2021-12-14 15:57:22.566057+09:00</td>\n",
       "      <td>1</td>\n",
       "      <td>200</td>\n",
       "      <td>9</td>\n",
       "      <td>1-200</td>\n",
       "      <td>1559750</td>\n",
       "      <td>test</td>\n",
       "      <td>0.115907</td>\n",
       "      <td>False</td>\n",
       "    </tr>\n",
       "    <tr>\n",
       "      <th>427</th>\n",
       "      <td>/ext_ssd/nia_vent/snu/원천_csv/1-200/AWF/1-200-0...</td>\n",
       "      <td>2021-12-14 15:57:22.551790+09:00</td>\n",
       "      <td>2021-12-14 15:58:22.551790+09:00</td>\n",
       "      <td>1</td>\n",
       "      <td>200</td>\n",
       "      <td>9</td>\n",
       "      <td>1-200</td>\n",
       "      <td>1559757</td>\n",
       "      <td>test</td>\n",
       "      <td>0.951851</td>\n",
       "      <td>False</td>\n",
       "    </tr>\n",
       "    <tr>\n",
       "      <th>435</th>\n",
       "      <td>/ext_ssd/nia_vent/snu/원천_csv/1-200/AWF/1-200-0...</td>\n",
       "      <td>2021-12-14 15:58:22.568457+09:00</td>\n",
       "      <td>2021-12-14 15:59:22.568457+09:00</td>\n",
       "      <td>1</td>\n",
       "      <td>200</td>\n",
       "      <td>9</td>\n",
       "      <td>1-200</td>\n",
       "      <td>1559765</td>\n",
       "      <td>test</td>\n",
       "      <td>0.127329</td>\n",
       "      <td>False</td>\n",
       "    </tr>\n",
       "  </tbody>\n",
       "</table>\n",
       "<p>134134 rows × 11 columns</p>\n",
       "</div>"
      ],
      "text/plain": [
       "                                             flow_path  \\\n",
       "0    /ext_ssd/nia_vent/snu/20220831/1-161/AWF/1-161...   \n",
       "7    /ext_ssd/nia_vent/snu/20220831/1-161/AWF/1-161...   \n",
       "15   /ext_ssd/nia_vent/snu/20220831/1-161/AWF/1-161...   \n",
       "22   /ext_ssd/nia_vent/snu/20220831/1-161/AWF/1-161...   \n",
       "30   /ext_ssd/nia_vent/snu/20220831/1-161/AWF/1-161...   \n",
       "..                                                 ...   \n",
       "405  /ext_ssd/nia_vent/snu/원천_csv/1-200/AWF/1-200-0...   \n",
       "412  /ext_ssd/nia_vent/snu/원천_csv/1-200/AWF/1-200-0...   \n",
       "420  /ext_ssd/nia_vent/snu/원천_csv/1-200/AWF/1-200-0...   \n",
       "427  /ext_ssd/nia_vent/snu/원천_csv/1-200/AWF/1-200-0...   \n",
       "435  /ext_ssd/nia_vent/snu/원천_csv/1-200/AWF/1-200-0...   \n",
       "\n",
       "                           starttime                          endtime  \\\n",
       "0   2022-06-15 18:45:27.250346+09:00 2022-06-15 18:46:27.250346+09:00   \n",
       "7   2022-06-15 18:46:27.236079+09:00 2022-06-15 18:47:27.236079+09:00   \n",
       "15  2022-06-15 18:47:27.252746+09:00 2022-06-15 18:48:27.252746+09:00   \n",
       "22  2022-06-15 18:48:27.238479+09:00 2022-06-15 18:49:27.238479+09:00   \n",
       "30  2022-06-15 18:49:27.255146+09:00 2022-06-15 18:50:27.255146+09:00   \n",
       "..                               ...                              ...   \n",
       "405 2021-12-14 15:54:22.580324+09:00 2021-12-14 15:55:22.580324+09:00   \n",
       "412 2021-12-14 15:55:22.549390+09:00 2021-12-14 15:56:22.549390+09:00   \n",
       "420 2021-12-14 15:56:22.566057+09:00 2021-12-14 15:57:22.566057+09:00   \n",
       "427 2021-12-14 15:57:22.551790+09:00 2021-12-14 15:58:22.551790+09:00   \n",
       "435 2021-12-14 15:58:22.568457+09:00 2021-12-14 15:59:22.568457+09:00   \n",
       "\n",
       "    hospital_id patient_id  wav_number hospital_id_patient_id instance_index  \\\n",
       "0             1        161           1                  1-161         320703   \n",
       "7             1        161           1                  1-161         320710   \n",
       "15            1        161           1                  1-161         320718   \n",
       "22            1        161           1                  1-161         320725   \n",
       "30            1        161           1                  1-161         320733   \n",
       "..          ...        ...         ...                    ...            ...   \n",
       "405           1        200           9                  1-200        1559735   \n",
       "412           1        200           9                  1-200        1559742   \n",
       "420           1        200           9                  1-200        1559750   \n",
       "427           1        200           9                  1-200        1559757   \n",
       "435           1        200           9                  1-200        1559765   \n",
       "\n",
       "    split  y_pred_prob  y_pred  \n",
       "0    test     0.138228   False  \n",
       "7    test     0.750722   False  \n",
       "15   test     0.089942   False  \n",
       "22   test     0.100882   False  \n",
       "30   test     0.112739   False  \n",
       "..    ...          ...     ...  \n",
       "405  test     0.134338   False  \n",
       "412  test     0.136727   False  \n",
       "420  test     0.115907   False  \n",
       "427  test     0.951851   False  \n",
       "435  test     0.127329   False  \n",
       "\n",
       "[134134 rows x 11 columns]"
      ]
     },
     "execution_count": 144,
     "metadata": {},
     "output_type": "execute_result"
    }
   ],
   "source": [
    "testset_pred"
   ]
  },
  {
   "cell_type": "code",
   "execution_count": 145,
   "metadata": {},
   "outputs": [
    {
     "data": {
      "text/plain": [
       "array(['1-161', '1-162', '1-163', '1-164', '1-165', '1-166', '1-167',\n",
       "       '1-168', '1-169', '1-170', '1-171', '1-172', '1-173', '1-174',\n",
       "       '1-175', '1-176', '1-177', '1-178', '1-179', '1-180', '1-181',\n",
       "       '1-182', '1-183', '1-184', '1-185', '1-186', '1-187', '1-188',\n",
       "       '1-189', '1-190', '1-191', '1-192', '1-193', '1-194', '1-195',\n",
       "       '1-196', '1-197', '1-198', '1-199', '1-200'], dtype=object)"
      ]
     },
     "execution_count": 145,
     "metadata": {},
     "output_type": "execute_result"
    }
   ],
   "source": [
    "testset_pred['hospital_id_patient_id'].unique()"
   ]
  },
  {
   "cell_type": "code",
   "execution_count": 146,
   "metadata": {},
   "outputs": [],
   "source": [
    "# testset_pred = testset_pred_bak"
   ]
  },
  {
   "cell_type": "code",
   "execution_count": 147,
   "metadata": {},
   "outputs": [],
   "source": [
    "# testset_pred = pd.concat([testset_pred, testset_pred_bak])"
   ]
  },
  {
   "cell_type": "code",
   "execution_count": 148,
   "metadata": {},
   "outputs": [],
   "source": [
    "# testset_pred = testset_pred_bak"
   ]
  },
  {
   "cell_type": "code",
   "execution_count": 149,
   "metadata": {},
   "outputs": [],
   "source": [
    "# testset_pred_bak = testset_pred.copy()"
   ]
  },
  {
   "cell_type": "code",
   "execution_count": 150,
   "metadata": {},
   "outputs": [
    {
     "data": {
      "text/html": [
       "<div>\n",
       "<style scoped>\n",
       "    .dataframe tbody tr th:only-of-type {\n",
       "        vertical-align: middle;\n",
       "    }\n",
       "\n",
       "    .dataframe tbody tr th {\n",
       "        vertical-align: top;\n",
       "    }\n",
       "\n",
       "    .dataframe thead th {\n",
       "        text-align: right;\n",
       "    }\n",
       "</style>\n",
       "<table border=\"1\" class=\"dataframe\">\n",
       "  <thead>\n",
       "    <tr style=\"text-align: right;\">\n",
       "      <th></th>\n",
       "      <th>0.050</th>\n",
       "      <th>0.100</th>\n",
       "      <th>0.250</th>\n",
       "      <th>0.500</th>\n",
       "      <th>0.750</th>\n",
       "      <th>0.900</th>\n",
       "      <th>0.950</th>\n",
       "      <th>0.990</th>\n",
       "      <th>0.999</th>\n",
       "    </tr>\n",
       "  </thead>\n",
       "  <tbody>\n",
       "    <tr>\n",
       "      <th>y_prob</th>\n",
       "      <td>0.000182</td>\n",
       "      <td>0.00099</td>\n",
       "      <td>0.001913</td>\n",
       "      <td>0.002712</td>\n",
       "      <td>0.003279</td>\n",
       "      <td>0.003754</td>\n",
       "      <td>0.003929</td>\n",
       "      <td>0.004067</td>\n",
       "      <td>0.004084</td>\n",
       "    </tr>\n",
       "  </tbody>\n",
       "</table>\n",
       "</div>"
      ],
      "text/plain": [
       "           0.050    0.100     0.250     0.500     0.750     0.900     0.950  \\\n",
       "y_prob  0.000182  0.00099  0.001913  0.002712  0.003279  0.003754  0.003929   \n",
       "\n",
       "           0.990     0.999  \n",
       "y_prob  0.004067  0.004084  "
      ]
     },
     "execution_count": 150,
     "metadata": {},
     "output_type": "execute_result"
    }
   ],
   "source": [
    "perc =  [.05, .1 , .25, .5, .75, .9, .95, .99, .999]\n",
    "percentile = pd.DataFrame(np.percentile(testset_pred['y_pred_prob'], perc).reshape(1, -1), columns=perc, index=['y_prob'])\n",
    "percentile"
   ]
  },
  {
   "cell_type": "code",
   "execution_count": 151,
   "metadata": {},
   "outputs": [
    {
     "data": {
      "text/plain": [
       "<AxesSubplot:>"
      ]
     },
     "execution_count": 151,
     "metadata": {},
     "output_type": "execute_result"
    },
    {
     "data": {
      "image/png": "[encoded data removed]",
      "text/plain": [
       "<Figure size 432x288 with 1 Axes>"
      ]
     },
     "metadata": {
      "needs_background": "light"
     },
     "output_type": "display_data"
    }
   ],
   "source": [
    "testset_pred['y_pred_prob'].hist()"
   ]
  },
  {
   "cell_type": "code",
   "execution_count": 152,
   "metadata": {},
   "outputs": [
    {
     "data": {
      "text/plain": [
       "False    132942\n",
       "True       1192\n",
       "Name: y_pred, dtype: int64"
      ]
     },
     "execution_count": 152,
     "metadata": {},
     "output_type": "execute_result"
    }
   ],
   "source": [
    "testset_pred['y_pred'].value_counts()"
   ]
  },
  {
   "cell_type": "code",
   "execution_count": 153,
   "metadata": {},
   "outputs": [
    {
     "data": {
      "text/plain": [
       "False    0.991113\n",
       "True     0.008887\n",
       "Name: y_pred, dtype: float64"
      ]
     },
     "execution_count": 153,
     "metadata": {},
     "output_type": "execute_result"
    }
   ],
   "source": [
    "testset_pred['y_pred'].value_counts(normalize=True)"
   ]
  },
  {
   "cell_type": "code",
   "execution_count": 154,
   "metadata": {},
   "outputs": [
    {
     "data": {
      "text/html": [
       "<div>\n",
       "<style scoped>\n",
       "    .dataframe tbody tr th:only-of-type {\n",
       "        vertical-align: middle;\n",
       "    }\n",
       "\n",
       "    .dataframe tbody tr th {\n",
       "        vertical-align: top;\n",
       "    }\n",
       "\n",
       "    .dataframe thead th {\n",
       "        text-align: right;\n",
       "    }\n",
       "</style>\n",
       "<table border=\"1\" class=\"dataframe\">\n",
       "  <thead>\n",
       "    <tr style=\"text-align: right;\">\n",
       "      <th></th>\n",
       "      <th>flow_path</th>\n",
       "      <th>starttime</th>\n",
       "      <th>endtime</th>\n",
       "      <th>hospital_id</th>\n",
       "      <th>patient_id</th>\n",
       "      <th>wav_number</th>\n",
       "      <th>hospital_id_patient_id</th>\n",
       "      <th>instance_index</th>\n",
       "      <th>split</th>\n",
       "      <th>y_pred_prob</th>\n",
       "      <th>y_pred</th>\n",
       "    </tr>\n",
       "  </thead>\n",
       "  <tbody>\n",
       "    <tr>\n",
       "      <th>0</th>\n",
       "      <td>/ext_ssd/nia_vent/snu/20220831/1-161/AWF/1-161...</td>\n",
       "      <td>2022-06-15 18:45:27.250346+09:00</td>\n",
       "      <td>2022-06-15 18:46:27.250346+09:00</td>\n",
       "      <td>1</td>\n",
       "      <td>161</td>\n",
       "      <td>1</td>\n",
       "      <td>1-161</td>\n",
       "      <td>320703</td>\n",
       "      <td>test</td>\n",
       "      <td>0.138228</td>\n",
       "      <td>False</td>\n",
       "    </tr>\n",
       "    <tr>\n",
       "      <th>7</th>\n",
       "      <td>/ext_ssd/nia_vent/snu/20220831/1-161/AWF/1-161...</td>\n",
       "      <td>2022-06-15 18:46:27.236079+09:00</td>\n",
       "      <td>2022-06-15 18:47:27.236079+09:00</td>\n",
       "      <td>1</td>\n",
       "      <td>161</td>\n",
       "      <td>1</td>\n",
       "      <td>1-161</td>\n",
       "      <td>320710</td>\n",
       "      <td>test</td>\n",
       "      <td>0.750722</td>\n",
       "      <td>False</td>\n",
       "    </tr>\n",
       "    <tr>\n",
       "      <th>15</th>\n",
       "      <td>/ext_ssd/nia_vent/snu/20220831/1-161/AWF/1-161...</td>\n",
       "      <td>2022-06-15 18:47:27.252746+09:00</td>\n",
       "      <td>2022-06-15 18:48:27.252746+09:00</td>\n",
       "      <td>1</td>\n",
       "      <td>161</td>\n",
       "      <td>1</td>\n",
       "      <td>1-161</td>\n",
       "      <td>320718</td>\n",
       "      <td>test</td>\n",
       "      <td>0.089942</td>\n",
       "      <td>False</td>\n",
       "    </tr>\n",
       "    <tr>\n",
       "      <th>22</th>\n",
       "      <td>/ext_ssd/nia_vent/snu/20220831/1-161/AWF/1-161...</td>\n",
       "      <td>2022-06-15 18:48:27.238479+09:00</td>\n",
       "      <td>2022-06-15 18:49:27.238479+09:00</td>\n",
       "      <td>1</td>\n",
       "      <td>161</td>\n",
       "      <td>1</td>\n",
       "      <td>1-161</td>\n",
       "      <td>320725</td>\n",
       "      <td>test</td>\n",
       "      <td>0.100882</td>\n",
       "      <td>False</td>\n",
       "    </tr>\n",
       "    <tr>\n",
       "      <th>30</th>\n",
       "      <td>/ext_ssd/nia_vent/snu/20220831/1-161/AWF/1-161...</td>\n",
       "      <td>2022-06-15 18:49:27.255146+09:00</td>\n",
       "      <td>2022-06-15 18:50:27.255146+09:00</td>\n",
       "      <td>1</td>\n",
       "      <td>161</td>\n",
       "      <td>1</td>\n",
       "      <td>1-161</td>\n",
       "      <td>320733</td>\n",
       "      <td>test</td>\n",
       "      <td>0.112739</td>\n",
       "      <td>False</td>\n",
       "    </tr>\n",
       "    <tr>\n",
       "      <th>...</th>\n",
       "      <td>...</td>\n",
       "      <td>...</td>\n",
       "      <td>...</td>\n",
       "      <td>...</td>\n",
       "      <td>...</td>\n",
       "      <td>...</td>\n",
       "      <td>...</td>\n",
       "      <td>...</td>\n",
       "      <td>...</td>\n",
       "      <td>...</td>\n",
       "      <td>...</td>\n",
       "    </tr>\n",
       "    <tr>\n",
       "      <th>405</th>\n",
       "      <td>/ext_ssd/nia_vent/snu/원천_csv/1-200/AWF/1-200-0...</td>\n",
       "      <td>2021-12-14 15:54:22.580324+09:00</td>\n",
       "      <td>2021-12-14 15:55:22.580324+09:00</td>\n",
       "      <td>1</td>\n",
       "      <td>200</td>\n",
       "      <td>9</td>\n",
       "      <td>1-200</td>\n",
       "      <td>1559735</td>\n",
       "      <td>test</td>\n",
       "      <td>0.134338</td>\n",
       "      <td>False</td>\n",
       "    </tr>\n",
       "    <tr>\n",
       "      <th>412</th>\n",
       "      <td>/ext_ssd/nia_vent/snu/원천_csv/1-200/AWF/1-200-0...</td>\n",
       "      <td>2021-12-14 15:55:22.549390+09:00</td>\n",
       "      <td>2021-12-14 15:56:22.549390+09:00</td>\n",
       "      <td>1</td>\n",
       "      <td>200</td>\n",
       "      <td>9</td>\n",
       "      <td>1-200</td>\n",
       "      <td>1559742</td>\n",
       "      <td>test</td>\n",
       "      <td>0.136727</td>\n",
       "      <td>False</td>\n",
       "    </tr>\n",
       "    <tr>\n",
       "      <th>420</th>\n",
       "      <td>/ext_ssd/nia_vent/snu/원천_csv/1-200/AWF/1-200-0...</td>\n",
       "      <td>2021-12-14 15:56:22.566057+09:00</td>\n",
       "      <td>2021-12-14 15:57:22.566057+09:00</td>\n",
       "      <td>1</td>\n",
       "      <td>200</td>\n",
       "      <td>9</td>\n",
       "      <td>1-200</td>\n",
       "      <td>1559750</td>\n",
       "      <td>test</td>\n",
       "      <td>0.115907</td>\n",
       "      <td>False</td>\n",
       "    </tr>\n",
       "    <tr>\n",
       "      <th>427</th>\n",
       "      <td>/ext_ssd/nia_vent/snu/원천_csv/1-200/AWF/1-200-0...</td>\n",
       "      <td>2021-12-14 15:57:22.551790+09:00</td>\n",
       "      <td>2021-12-14 15:58:22.551790+09:00</td>\n",
       "      <td>1</td>\n",
       "      <td>200</td>\n",
       "      <td>9</td>\n",
       "      <td>1-200</td>\n",
       "      <td>1559757</td>\n",
       "      <td>test</td>\n",
       "      <td>0.951851</td>\n",
       "      <td>False</td>\n",
       "    </tr>\n",
       "    <tr>\n",
       "      <th>435</th>\n",
       "      <td>/ext_ssd/nia_vent/snu/원천_csv/1-200/AWF/1-200-0...</td>\n",
       "      <td>2021-12-14 15:58:22.568457+09:00</td>\n",
       "      <td>2021-12-14 15:59:22.568457+09:00</td>\n",
       "      <td>1</td>\n",
       "      <td>200</td>\n",
       "      <td>9</td>\n",
       "      <td>1-200</td>\n",
       "      <td>1559765</td>\n",
       "      <td>test</td>\n",
       "      <td>0.127329</td>\n",
       "      <td>False</td>\n",
       "    </tr>\n",
       "  </tbody>\n",
       "</table>\n",
       "<p>134134 rows × 11 columns</p>\n",
       "</div>"
      ],
      "text/plain": [
       "                                             flow_path  \\\n",
       "0    /ext_ssd/nia_vent/snu/20220831/1-161/AWF/1-161...   \n",
       "7    /ext_ssd/nia_vent/snu/20220831/1-161/AWF/1-161...   \n",
       "15   /ext_ssd/nia_vent/snu/20220831/1-161/AWF/1-161...   \n",
       "22   /ext_ssd/nia_vent/snu/20220831/1-161/AWF/1-161...   \n",
       "30   /ext_ssd/nia_vent/snu/20220831/1-161/AWF/1-161...   \n",
       "..                                                 ...   \n",
       "405  /ext_ssd/nia_vent/snu/원천_csv/1-200/AWF/1-200-0...   \n",
       "412  /ext_ssd/nia_vent/snu/원천_csv/1-200/AWF/1-200-0...   \n",
       "420  /ext_ssd/nia_vent/snu/원천_csv/1-200/AWF/1-200-0...   \n",
       "427  /ext_ssd/nia_vent/snu/원천_csv/1-200/AWF/1-200-0...   \n",
       "435  /ext_ssd/nia_vent/snu/원천_csv/1-200/AWF/1-200-0...   \n",
       "\n",
       "                           starttime                          endtime  \\\n",
       "0   2022-06-15 18:45:27.250346+09:00 2022-06-15 18:46:27.250346+09:00   \n",
       "7   2022-06-15 18:46:27.236079+09:00 2022-06-15 18:47:27.236079+09:00   \n",
       "15  2022-06-15 18:47:27.252746+09:00 2022-06-15 18:48:27.252746+09:00   \n",
       "22  2022-06-15 18:48:27.238479+09:00 2022-06-15 18:49:27.238479+09:00   \n",
       "30  2022-06-15 18:49:27.255146+09:00 2022-06-15 18:50:27.255146+09:00   \n",
       "..                               ...                              ...   \n",
       "405 2021-12-14 15:54:22.580324+09:00 2021-12-14 15:55:22.580324+09:00   \n",
       "412 2021-12-14 15:55:22.549390+09:00 2021-12-14 15:56:22.549390+09:00   \n",
       "420 2021-12-14 15:56:22.566057+09:00 2021-12-14 15:57:22.566057+09:00   \n",
       "427 2021-12-14 15:57:22.551790+09:00 2021-12-14 15:58:22.551790+09:00   \n",
       "435 2021-12-14 15:58:22.568457+09:00 2021-12-14 15:59:22.568457+09:00   \n",
       "\n",
       "    hospital_id patient_id  wav_number hospital_id_patient_id instance_index  \\\n",
       "0             1        161           1                  1-161         320703   \n",
       "7             1        161           1                  1-161         320710   \n",
       "15            1        161           1                  1-161         320718   \n",
       "22            1        161           1                  1-161         320725   \n",
       "30            1        161           1                  1-161         320733   \n",
       "..          ...        ...         ...                    ...            ...   \n",
       "405           1        200           9                  1-200        1559735   \n",
       "412           1        200           9                  1-200        1559742   \n",
       "420           1        200           9                  1-200        1559750   \n",
       "427           1        200           9                  1-200        1559757   \n",
       "435           1        200           9                  1-200        1559765   \n",
       "\n",
       "    split  y_pred_prob  y_pred  \n",
       "0    test     0.138228   False  \n",
       "7    test     0.750722   False  \n",
       "15   test     0.089942   False  \n",
       "22   test     0.100882   False  \n",
       "30   test     0.112739   False  \n",
       "..    ...          ...     ...  \n",
       "405  test     0.134338   False  \n",
       "412  test     0.136727   False  \n",
       "420  test     0.115907   False  \n",
       "427  test     0.951851   False  \n",
       "435  test     0.127329   False  \n",
       "\n",
       "[134134 rows x 11 columns]"
      ]
     },
     "execution_count": 154,
     "metadata": {},
     "output_type": "execute_result"
    }
   ],
   "source": [
    "testset_pred"
   ]
  },
  {
   "cell_type": "code",
   "execution_count": 155,
   "metadata": {},
   "outputs": [
    {
     "data": {
      "text/plain": [
       "'1-161_1-200'"
      ]
     },
     "execution_count": 155,
     "metadata": {},
     "output_type": "execute_result"
    }
   ],
   "source": [
    "testset_pred['hospital_id_patient_id'].min()+'_'+testset_pred['hospital_id_patient_id'].max()"
   ]
  },
  {
   "cell_type": "code",
   "execution_count": 156,
   "metadata": {},
   "outputs": [],
   "source": [
    "result_path = '/VOLUME/nia_vent_asynchrony/result/baseline_220818/infer'"
   ]
  },
  {
   "cell_type": "code",
   "execution_count": 157,
   "metadata": {},
   "outputs": [
    {
     "data": {
      "text/plain": [
       "'/VOLUME/nia_vent_asynchrony/result/baseline_220818/infer/testset_1-161_1-200_134134_pred_2022-09-21.csv'"
      ]
     },
     "execution_count": 157,
     "metadata": {},
     "output_type": "execute_result"
    }
   ],
   "source": [
    "path = osp.join(result_path, f'testset_{testset_pred[\"hospital_id_patient_id\"].min()+\"_\"+testset_pred[\"hospital_id_patient_id\"].max()}_{len(testset_pred)}_pred_{cutils.get_today_string(False)}.csv')\n",
    "testset_pred.to_csv(path)\n",
    "path"
   ]
  },
  {
   "cell_type": "markdown",
   "metadata": {},
   "source": [
    "prediction 합치기"
   ]
  },
  {
   "cell_type": "code",
   "execution_count": 82,
   "metadata": {},
   "outputs": [
    {
     "data": {
      "text/plain": [
       "'/VOLUME/nia_vent_asynchrony/result/baseline_220818/infer'"
      ]
     },
     "execution_count": 82,
     "metadata": {},
     "output_type": "execute_result"
    }
   ],
   "source": [
    "result_path"
   ]
  },
  {
   "cell_type": "code",
   "execution_count": null,
   "metadata": {},
   "outputs": [],
   "source": [
    "fn = glob.glob(result_path+'/test*_tmp*')\n",
    "ls = []\n",
    "for fi in fn:\n",
    "    ls.append(pd.read_csv(fi, index_col=0))"
   ]
  },
  {
   "cell_type": "code",
   "execution_count": null,
   "metadata": {},
   "outputs": [],
   "source": [
    "testset_pred = pd.concat(ls)"
   ]
  },
  {
   "cell_type": "code",
   "execution_count": null,
   "metadata": {},
   "outputs": [],
   "source": [
    "testset_pred['hospital_id_patient_id'].nunique()"
   ]
  },
  {
   "cell_type": "code",
   "execution_count": null,
   "metadata": {},
   "outputs": [],
   "source": [
    "testset_pred['hospital_id_patient_id'].min()"
   ]
  },
  {
   "cell_type": "code",
   "execution_count": null,
   "metadata": {},
   "outputs": [],
   "source": [
    "testset_pred['hospital_id_patient_id'].max()"
   ]
  },
  {
   "cell_type": "code",
   "execution_count": null,
   "metadata": {},
   "outputs": [],
   "source": [
    "testset_pred['conf_matrix'] = ''\n",
    "testset_pred.loc[(testset_pred['y_target'])&(testset_pred['y_pred']),'conf_matrix']='tp'\n",
    "testset_pred.loc[(~testset_pred['y_target'])&(testset_pred['y_pred']),'conf_matrix']='fp'\n",
    "testset_pred.loc[(testset_pred['y_target'])&(~testset_pred['y_pred']),'conf_matrix']='fn'\n",
    "testset_pred.loc[(~testset_pred['y_target'])&(~testset_pred['y_pred']),'conf_matrix']='tn'"
   ]
  },
  {
   "cell_type": "code",
   "execution_count": null,
   "metadata": {},
   "outputs": [],
   "source": [
    "pd.crosstab(testset_pred['y_pred'], testset_pred['label'].isin([2,1]))"
   ]
  },
  {
   "cell_type": "code",
   "execution_count": null,
   "metadata": {},
   "outputs": [],
   "source": [
    "pd.crosstab(testset_pred['y_pred'], testset_pred['label'])"
   ]
  },
  {
   "cell_type": "code",
   "execution_count": null,
   "metadata": {},
   "outputs": [],
   "source": [
    "testset_pred['conf_matrix'].value_counts()"
   ]
  },
  {
   "cell_type": "code",
   "execution_count": null,
   "metadata": {},
   "outputs": [],
   "source": [
    "testset_target = testset.y_data.squeeze(-1).float()\n",
    "metrics = ['prec','recall','f1','f2','specificity',\n",
    "                     'tn','fp','fn','tp',\n",
    "                     'auroc','auprc']\n",
    "calculate_any_metrics(testset_target, metrics, probs=y_prob, threshold=0.5)"
   ]
  },
  {
   "cell_type": "code",
   "execution_count": null,
   "metadata": {},
   "outputs": [],
   "source": [
    "pd.Series(y_prob).hist()"
   ]
  },
  {
   "cell_type": "code",
   "execution_count": null,
   "metadata": {},
   "outputs": [],
   "source": [
    "dat"
   ]
  },
  {
   "cell_type": "code",
   "execution_count": null,
   "metadata": {},
   "outputs": [],
   "source": [
    "dat['hospital_id_patient_id'].str[0]"
   ]
  },
  {
   "cell_type": "code",
   "execution_count": null,
   "metadata": {},
   "outputs": [],
   "source": [
    "dat['data'].head().apply(lambda x: np.nanmedian(x, axis=0))"
   ]
  },
  {
   "cell_type": "code",
   "execution_count": null,
   "metadata": {},
   "outputs": [],
   "source": []
  }
 ],
 "metadata": {
  "kernelspec": {
   "display_name": "Python 3.8.12 64-bit",
   "language": "python",
   "name": "python3"
  },
  "language_info": {
   "codemirror_mode": {
    "name": "ipython",
    "version": 3
   },
   "file_extension": ".py",
   "mimetype": "text/x-python",
   "name": "python",
   "nbconvert_exporter": "python",
   "pygments_lexer": "ipython3",
   "version": "3.8.12"
  },
  "orig_nbformat": 4,
  "vscode": {
   "interpreter": {
    "hash": "767d51c1340bd893661ea55ea3124f6de3c7a262a8b4abca0554b478b1e2ff90"
   }
  }
 },
 "nbformat": 4,
 "nbformat_minor": 2
}
