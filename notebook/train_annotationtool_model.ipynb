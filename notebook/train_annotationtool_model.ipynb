{
 "cells": [
  {
   "cell_type": "code",
   "execution_count": 1,
   "metadata": {},
   "outputs": [],
   "source": [
    "import os\n",
    "import glob\n",
    "import os.path as osp\n",
    "import torch\n",
    "import torch.nn as nn\n",
    "import torch.nn.functional as F\n",
    "import numpy as np\n",
    "import pandas as pd\n",
    "from torchsummary import summary\n",
    "\n",
    "os.chdir('/VOLUME/nia_vent_asynchrony')\n",
    "from module.datasets import preprocess_data#, set_dataloader, CustomDataset\n",
    "from module.utils import load_and_stack_data, EarlyStopping\n",
    "from model.VAE import VAE\n",
    "from model.AsynchModel import AsynchModel\n",
    "from module.metrics import calculate_any_metrics\n",
    "from module.loss import calculate_vae_loss, calculate_bce_loss\n",
    "import module.utils as cutils\n"
   ]
  },
  {
   "cell_type": "code",
   "execution_count": 2,
   "metadata": {},
   "outputs": [],
   "source": [
    "# os.environ['CUDA_LAUNCH_BLOCKING'] = \"1\"\n",
    "os.environ[\"CUDA_DEVICE_ORDER\"]=\"PCI_BUS_ID\"  # Arrange GPU devices starting from 0\n",
    "os.environ[\"CUDA_VISIBLE_DEVICES\"]= \"2,3\" "
   ]
  },
  {
   "cell_type": "code",
   "execution_count": 3,
   "metadata": {},
   "outputs": [
    {
     "name": "stdout",
     "output_type": "stream",
     "text": [
      "Current cuda device: 0\n",
      "Count of using GPUs: 2\n"
     ]
    }
   ],
   "source": [
    "print('Current cuda device:', torch.cuda.current_device())\n",
    "print('Count of using GPUs:', torch.cuda.device_count())"
   ]
  },
  {
   "cell_type": "code",
   "execution_count": 4,
   "metadata": {},
   "outputs": [
    {
     "data": {
      "text/plain": [
       "True"
      ]
     },
     "execution_count": 4,
     "metadata": {},
     "output_type": "execute_result"
    }
   ],
   "source": [
    "torch.cuda.is_available()"
   ]
  },
  {
   "cell_type": "code",
   "execution_count": 5,
   "metadata": {},
   "outputs": [
    {
     "name": "stdout",
     "output_type": "stream",
     "text": [
      "----------------------------------------------------------------\n",
      "        Layer (type)               Output Shape         Param #\n",
      "================================================================\n",
      "            Conv1d-1              [-1, 16, 480]             176\n",
      "       BatchNorm1d-2              [-1, 16, 480]              32\n",
      "              ReLU-3              [-1, 16, 480]               0\n",
      "         MaxPool1d-4              [-1, 16, 120]               0\n",
      "            Conv1d-5              [-1, 32, 120]           2,592\n",
      "       BatchNorm1d-6              [-1, 32, 120]              64\n",
      "              ReLU-7              [-1, 32, 120]               0\n",
      "         MaxPool1d-8               [-1, 32, 30]               0\n",
      "            Conv1d-9               [-1, 64, 30]          10,304\n",
      "      BatchNorm1d-10               [-1, 64, 30]             128\n",
      "             ReLU-11               [-1, 64, 30]               0\n",
      "           Linear-12                  [-1, 128]           3,968\n",
      "           Linear-13                  [-1, 128]           3,968\n",
      "           Linear-14                   [-1, 30]           3,870\n",
      "  ConvTranspose1d-15               [-1, 32, 30]          10,272\n",
      "      BatchNorm1d-16               [-1, 32, 30]              64\n",
      "             ReLU-17               [-1, 32, 30]               0\n",
      "         Upsample-18              [-1, 32, 120]               0\n",
      "  ConvTranspose1d-19              [-1, 16, 120]           2,576\n",
      "      BatchNorm1d-20              [-1, 16, 120]              32\n",
      "             ReLU-21              [-1, 16, 120]               0\n",
      "         Upsample-22              [-1, 16, 480]               0\n",
      "  ConvTranspose1d-23               [-1, 2, 480]             162\n",
      "      BatchNorm1d-24               [-1, 2, 480]               4\n",
      "             ReLU-25               [-1, 2, 480]               0\n",
      "================================================================\n",
      "Total params: 38,212\n",
      "Trainable params: 38,212\n",
      "Non-trainable params: 0\n",
      "----------------------------------------------------------------\n",
      "Input size (MB): 0.00\n",
      "Forward/backward pass size (MB): 0.51\n",
      "Params size (MB): 0.15\n",
      "Estimated Total Size (MB): 0.66\n",
      "----------------------------------------------------------------\n"
     ]
    },
    {
     "name": "stderr",
     "output_type": "stream",
     "text": [
      "/usr/local/lib/python3.8/dist-packages/torch/nn/functional.py:3609: UserWarning: Default upsampling behavior when mode=linear is changed to align_corners=False since 0.4.0. Please specify align_corners=True if the old behavior is desired. See the documentation of nn.Upsample for details.\n",
      "  warnings.warn(\n"
     ]
    }
   ],
   "source": [
    "vae = VAE().cuda()\n",
    "summary(vae, input_size=(2, 480), device='cuda')"
   ]
  },
  {
   "cell_type": "code",
   "execution_count": 4,
   "metadata": {},
   "outputs": [],
   "source": [
    "dat_snu = pd.read_pickle('/VOLUME/nia_vent_asynchrony/data/processed_data/snu/instance_with_label_snu.pkl')\n",
    "dat_aju = pd.read_pickle('/VOLUME/nia_vent_asynchrony/data/processed_data/aju/instance_with_label_aju_2022-08-23.pkl')\n",
    "dat = pd.concat([dat_snu, dat_aju], axis=0)"
   ]
  },
  {
   "cell_type": "code",
   "execution_count": 3,
   "metadata": {},
   "outputs": [],
   "source": [
    "dat_snu = pd.read_pickle('/VOLUME/nia_vent_asynchrony/data/processed_data/snu/instance_with_label_snu_239107_2022-08-25.pkl')\n",
    "dat_aju = pd.read_pickle('/VOLUME/nia_vent_asynchrony/data/processed_data/aju/instance_with_label_aju_295433_2022-08-25.pkl')\n",
    "dat = pd.concat([dat_snu, dat_aju], axis=0)"
   ]
  },
  {
   "cell_type": "code",
   "execution_count": null,
   "metadata": {},
   "outputs": [],
   "source": [
    "print(dat_aju['flow_path'].nunique())\n",
    "print(dat_aju['hospital_id_patient_id'].nunique())"
   ]
  },
  {
   "cell_type": "code",
   "execution_count": 5,
   "metadata": {},
   "outputs": [],
   "source": [
    "num_na = dat['data'].apply(lambda x: np.isnan(x).sum())"
   ]
  },
  {
   "cell_type": "code",
   "execution_count": 6,
   "metadata": {},
   "outputs": [
    {
     "data": {
      "text/plain": [
       "0      372239\n",
       "2       33268\n",
       "8       31187\n",
       "4       26309\n",
       "10      24296\n",
       "12      22652\n",
       "6       22406\n",
       "960     18214\n",
       "32        206\n",
       "30        185\n",
       "34        120\n",
       "38        117\n",
       "40        105\n",
       "36        103\n",
       "42         83\n",
       "962        73\n",
       "958        68\n",
       "198        18\n",
       "98         17\n",
       "96         17\n",
       "Name: data, dtype: int64"
      ]
     },
     "execution_count": 6,
     "metadata": {},
     "output_type": "execute_result"
    }
   ],
   "source": [
    "num_na.value_counts().head(20)"
   ]
  },
  {
   "cell_type": "code",
   "execution_count": 5,
   "metadata": {},
   "outputs": [
    {
     "data": {
      "text/html": [
       "<div>\n",
       "<style scoped>\n",
       "    .dataframe tbody tr th:only-of-type {\n",
       "        vertical-align: middle;\n",
       "    }\n",
       "\n",
       "    .dataframe tbody tr th {\n",
       "        vertical-align: top;\n",
       "    }\n",
       "\n",
       "    .dataframe thead th {\n",
       "        text-align: right;\n",
       "    }\n",
       "</style>\n",
       "<table border=\"1\" class=\"dataframe\">\n",
       "  <thead>\n",
       "    <tr style=\"text-align: right;\">\n",
       "      <th></th>\n",
       "      <th>flow_path</th>\n",
       "      <th>starttime</th>\n",
       "      <th>endtime</th>\n",
       "      <th>data</th>\n",
       "      <th>hospital_id_patient_id</th>\n",
       "      <th>wav_number</th>\n",
       "      <th>instance_index</th>\n",
       "      <th>label</th>\n",
       "    </tr>\n",
       "  </thead>\n",
       "  <tbody>\n",
       "    <tr>\n",
       "      <th>0</th>\n",
       "      <td>/VOLUME/nia_vent_asynchrony/data/raw_data/base...</td>\n",
       "      <td>2021-09-28 02:00:21.831158+09:00</td>\n",
       "      <td>2021-09-28 02:00:29.814651+09:00</td>\n",
       "      <td>[[40.69999694824219, -0.1450004577636718], [40...</td>\n",
       "      <td>1-002</td>\n",
       "      <td>91</td>\n",
       "      <td>0</td>\n",
       "      <td>0</td>\n",
       "    </tr>\n",
       "    <tr>\n",
       "      <th>1</th>\n",
       "      <td>/VOLUME/nia_vent_asynchrony/data/raw_data/base...</td>\n",
       "      <td>2021-09-28 02:00:29.831318+09:00</td>\n",
       "      <td>2021-09-28 02:00:37.814811+09:00</td>\n",
       "      <td>[[42.600006103515625, 8.299999237060547], [39....</td>\n",
       "      <td>1-002</td>\n",
       "      <td>91</td>\n",
       "      <td>1</td>\n",
       "      <td>0</td>\n",
       "    </tr>\n",
       "    <tr>\n",
       "      <th>2</th>\n",
       "      <td>/VOLUME/nia_vent_asynchrony/data/raw_data/base...</td>\n",
       "      <td>2021-09-28 02:00:37.831478+09:00</td>\n",
       "      <td>2021-09-28 02:00:45.814971+09:00</td>\n",
       "      <td>[[89.39999389648438, 4.47499942779541], [92.30...</td>\n",
       "      <td>1-002</td>\n",
       "      <td>91</td>\n",
       "      <td>2</td>\n",
       "      <td>0</td>\n",
       "    </tr>\n",
       "    <tr>\n",
       "      <th>3</th>\n",
       "      <td>/VOLUME/nia_vent_asynchrony/data/raw_data/base...</td>\n",
       "      <td>2021-09-28 02:00:45.831638+09:00</td>\n",
       "      <td>2021-09-28 02:00:53.815131+09:00</td>\n",
       "      <td>[[34.80000305175781, -0.0399999618530273], [35...</td>\n",
       "      <td>1-002</td>\n",
       "      <td>91</td>\n",
       "      <td>3</td>\n",
       "      <td>0</td>\n",
       "    </tr>\n",
       "    <tr>\n",
       "      <th>4</th>\n",
       "      <td>/VOLUME/nia_vent_asynchrony/data/raw_data/base...</td>\n",
       "      <td>2021-09-28 02:00:53.831798+09:00</td>\n",
       "      <td>2021-09-28 02:01:01.815291+09:00</td>\n",
       "      <td>[[40.600006103515625, -0.2350006103515625], [4...</td>\n",
       "      <td>1-002</td>\n",
       "      <td>91</td>\n",
       "      <td>4</td>\n",
       "      <td>0</td>\n",
       "    </tr>\n",
       "    <tr>\n",
       "      <th>...</th>\n",
       "      <td>...</td>\n",
       "      <td>...</td>\n",
       "      <td>...</td>\n",
       "      <td>...</td>\n",
       "      <td>...</td>\n",
       "      <td>...</td>\n",
       "      <td>...</td>\n",
       "      <td>...</td>\n",
       "    </tr>\n",
       "    <tr>\n",
       "      <th>69</th>\n",
       "      <td>/VOLUME/nia_vent_asynchrony/data/raw_data/base...</td>\n",
       "      <td>2019-04-30 16:09:11.994963+09:00</td>\n",
       "      <td>2019-04-30 16:09:19.978298+09:00</td>\n",
       "      <td>[[426.0, 900.5], [443.5, 932.5], [451.0, 958.5...</td>\n",
       "      <td>2-002</td>\n",
       "      <td>123</td>\n",
       "      <td>310268</td>\n",
       "      <td>0</td>\n",
       "    </tr>\n",
       "    <tr>\n",
       "      <th>70</th>\n",
       "      <td>/VOLUME/nia_vent_asynchrony/data/raw_data/base...</td>\n",
       "      <td>2019-04-30 16:09:19.994965+09:00</td>\n",
       "      <td>2019-04-30 16:09:27.978300+09:00</td>\n",
       "      <td>[[54.5, 470.0], [72.5, 490.0], [90.5, 510.0], ...</td>\n",
       "      <td>2-002</td>\n",
       "      <td>123</td>\n",
       "      <td>310269</td>\n",
       "      <td>0</td>\n",
       "    </tr>\n",
       "    <tr>\n",
       "      <th>71</th>\n",
       "      <td>/VOLUME/nia_vent_asynchrony/data/raw_data/base...</td>\n",
       "      <td>2019-04-30 16:09:27.994966+09:00</td>\n",
       "      <td>2019-04-30 16:09:35.978301+09:00</td>\n",
       "      <td>[[288.5, 613.5], [317.5, 636.0], [336.5, 648.0...</td>\n",
       "      <td>2-002</td>\n",
       "      <td>123</td>\n",
       "      <td>310270</td>\n",
       "      <td>0</td>\n",
       "    </tr>\n",
       "    <tr>\n",
       "      <th>72</th>\n",
       "      <td>/VOLUME/nia_vent_asynchrony/data/raw_data/base...</td>\n",
       "      <td>2019-04-30 16:09:35.994968+09:00</td>\n",
       "      <td>2019-04-30 16:09:43.978303+09:00</td>\n",
       "      <td>[[-286.0, 588.0], [-278.5, 581.0], [-269.0, 58...</td>\n",
       "      <td>2-002</td>\n",
       "      <td>123</td>\n",
       "      <td>310271</td>\n",
       "      <td>0</td>\n",
       "    </tr>\n",
       "    <tr>\n",
       "      <th>73</th>\n",
       "      <td>/VOLUME/nia_vent_asynchrony/data/raw_data/base...</td>\n",
       "      <td>2019-04-30 16:09:43.994970+09:00</td>\n",
       "      <td>2019-04-30 16:09:51.978305+09:00</td>\n",
       "      <td>[[203.0, 874.0], [208.5, 869.5], [214.5, 875.5...</td>\n",
       "      <td>2-002</td>\n",
       "      <td>123</td>\n",
       "      <td>310272</td>\n",
       "      <td>0</td>\n",
       "    </tr>\n",
       "  </tbody>\n",
       "</table>\n",
       "<p>552891 rows × 8 columns</p>\n",
       "</div>"
      ],
      "text/plain": [
       "                                            flow_path  \\\n",
       "0   /VOLUME/nia_vent_asynchrony/data/raw_data/base...   \n",
       "1   /VOLUME/nia_vent_asynchrony/data/raw_data/base...   \n",
       "2   /VOLUME/nia_vent_asynchrony/data/raw_data/base...   \n",
       "3   /VOLUME/nia_vent_asynchrony/data/raw_data/base...   \n",
       "4   /VOLUME/nia_vent_asynchrony/data/raw_data/base...   \n",
       "..                                                ...   \n",
       "69  /VOLUME/nia_vent_asynchrony/data/raw_data/base...   \n",
       "70  /VOLUME/nia_vent_asynchrony/data/raw_data/base...   \n",
       "71  /VOLUME/nia_vent_asynchrony/data/raw_data/base...   \n",
       "72  /VOLUME/nia_vent_asynchrony/data/raw_data/base...   \n",
       "73  /VOLUME/nia_vent_asynchrony/data/raw_data/base...   \n",
       "\n",
       "                          starttime                          endtime  \\\n",
       "0  2021-09-28 02:00:21.831158+09:00 2021-09-28 02:00:29.814651+09:00   \n",
       "1  2021-09-28 02:00:29.831318+09:00 2021-09-28 02:00:37.814811+09:00   \n",
       "2  2021-09-28 02:00:37.831478+09:00 2021-09-28 02:00:45.814971+09:00   \n",
       "3  2021-09-28 02:00:45.831638+09:00 2021-09-28 02:00:53.815131+09:00   \n",
       "4  2021-09-28 02:00:53.831798+09:00 2021-09-28 02:01:01.815291+09:00   \n",
       "..                              ...                              ...   \n",
       "69 2019-04-30 16:09:11.994963+09:00 2019-04-30 16:09:19.978298+09:00   \n",
       "70 2019-04-30 16:09:19.994965+09:00 2019-04-30 16:09:27.978300+09:00   \n",
       "71 2019-04-30 16:09:27.994966+09:00 2019-04-30 16:09:35.978301+09:00   \n",
       "72 2019-04-30 16:09:35.994968+09:00 2019-04-30 16:09:43.978303+09:00   \n",
       "73 2019-04-30 16:09:43.994970+09:00 2019-04-30 16:09:51.978305+09:00   \n",
       "\n",
       "                                                 data hospital_id_patient_id  \\\n",
       "0   [[40.69999694824219, -0.1450004577636718], [40...                  1-002   \n",
       "1   [[42.600006103515625, 8.299999237060547], [39....                  1-002   \n",
       "2   [[89.39999389648438, 4.47499942779541], [92.30...                  1-002   \n",
       "3   [[34.80000305175781, -0.0399999618530273], [35...                  1-002   \n",
       "4   [[40.600006103515625, -0.2350006103515625], [4...                  1-002   \n",
       "..                                                ...                    ...   \n",
       "69  [[426.0, 900.5], [443.5, 932.5], [451.0, 958.5...                  2-002   \n",
       "70  [[54.5, 470.0], [72.5, 490.0], [90.5, 510.0], ...                  2-002   \n",
       "71  [[288.5, 613.5], [317.5, 636.0], [336.5, 648.0...                  2-002   \n",
       "72  [[-286.0, 588.0], [-278.5, 581.0], [-269.0, 58...                  2-002   \n",
       "73  [[203.0, 874.0], [208.5, 869.5], [214.5, 875.5...                  2-002   \n",
       "\n",
       "    wav_number  instance_index  label  \n",
       "0           91               0      0  \n",
       "1           91               1      0  \n",
       "2           91               2      0  \n",
       "3           91               3      0  \n",
       "4           91               4      0  \n",
       "..         ...             ...    ...  \n",
       "69         123          310268      0  \n",
       "70         123          310269      0  \n",
       "71         123          310270      0  \n",
       "72         123          310271      0  \n",
       "73         123          310272      0  \n",
       "\n",
       "[552891 rows x 8 columns]"
      ]
     },
     "execution_count": 5,
     "metadata": {},
     "output_type": "execute_result"
    }
   ],
   "source": [
    "dat"
   ]
  },
  {
   "cell_type": "code",
   "execution_count": 6,
   "metadata": {},
   "outputs": [],
   "source": [
    "dat = dat[num_na<480]"
   ]
  },
  {
   "cell_type": "code",
   "execution_count": 3,
   "metadata": {},
   "outputs": [
    {
     "data": {
      "text/plain": [
       "0    239107\n",
       "Name: data, dtype: int64"
      ]
     },
     "execution_count": 3,
     "metadata": {},
     "output_type": "execute_result"
    }
   ],
   "source": [
    "dat_snu['data'].apply(lambda x : np.isnan(x).sum()).value_counts()"
   ]
  },
  {
   "cell_type": "code",
   "execution_count": 5,
   "metadata": {},
   "outputs": [],
   "source": [
    "dat = pd.read_pickle('/VOLUME/nia_vent_asynchrony/data/processed_data/snu/instance_with_label_snu_3145286_2022-08-25.pkl')"
   ]
  },
  {
   "cell_type": "code",
   "execution_count": 75,
   "metadata": {},
   "outputs": [
    {
     "data": {
      "text/plain": [
       "0      2691039\n",
       "4        96102\n",
       "2        84727\n",
       "8        73487\n",
       "6        69133\n",
       "        ...   \n",
       "684          1\n",
       "403          1\n",
       "576          1\n",
       "537          1\n",
       "363          1\n",
       "Name: data, Length: 548, dtype: int64"
      ]
     },
     "execution_count": 75,
     "metadata": {},
     "output_type": "execute_result"
    }
   ],
   "source": [
    "dat['data'].apply(lambda x :np.isnan(x).sum()).value_counts()"
   ]
  },
  {
   "cell_type": "code",
   "execution_count": 12,
   "metadata": {},
   "outputs": [
    {
     "data": {
      "text/html": [
       "<div>\n",
       "<style scoped>\n",
       "    .dataframe tbody tr th:only-of-type {\n",
       "        vertical-align: middle;\n",
       "    }\n",
       "\n",
       "    .dataframe tbody tr th {\n",
       "        vertical-align: top;\n",
       "    }\n",
       "\n",
       "    .dataframe thead th {\n",
       "        text-align: right;\n",
       "    }\n",
       "</style>\n",
       "<table border=\"1\" class=\"dataframe\">\n",
       "  <thead>\n",
       "    <tr style=\"text-align: right;\">\n",
       "      <th></th>\n",
       "      <th>flow_path</th>\n",
       "      <th>starttime</th>\n",
       "      <th>endtime</th>\n",
       "      <th>data</th>\n",
       "      <th>hospital_id_patient_id</th>\n",
       "      <th>wav_number</th>\n",
       "      <th>instance_index</th>\n",
       "      <th>label</th>\n",
       "    </tr>\n",
       "  </thead>\n",
       "  <tbody>\n",
       "    <tr>\n",
       "      <th>0</th>\n",
       "      <td>/VOLUME/nia_vent_asynchrony/data/raw_data/base...</td>\n",
       "      <td>2021-09-28 02:00:21.831158+09:00</td>\n",
       "      <td>2021-09-28 02:00:29.814651+09:00</td>\n",
       "      <td>[[40.69999694824219, -0.1450004577636718], [40...</td>\n",
       "      <td>1-002</td>\n",
       "      <td>91</td>\n",
       "      <td>0</td>\n",
       "      <td>0</td>\n",
       "    </tr>\n",
       "    <tr>\n",
       "      <th>1</th>\n",
       "      <td>/VOLUME/nia_vent_asynchrony/data/raw_data/base...</td>\n",
       "      <td>2021-09-28 02:00:29.831318+09:00</td>\n",
       "      <td>2021-09-28 02:00:37.814811+09:00</td>\n",
       "      <td>[[42.600006103515625, 8.299999237060547], [39....</td>\n",
       "      <td>1-002</td>\n",
       "      <td>91</td>\n",
       "      <td>1</td>\n",
       "      <td>0</td>\n",
       "    </tr>\n",
       "    <tr>\n",
       "      <th>2</th>\n",
       "      <td>/VOLUME/nia_vent_asynchrony/data/raw_data/base...</td>\n",
       "      <td>2021-09-28 02:00:37.831478+09:00</td>\n",
       "      <td>2021-09-28 02:00:45.814971+09:00</td>\n",
       "      <td>[[89.39999389648438, 4.47499942779541], [92.30...</td>\n",
       "      <td>1-002</td>\n",
       "      <td>91</td>\n",
       "      <td>2</td>\n",
       "      <td>0</td>\n",
       "    </tr>\n",
       "    <tr>\n",
       "      <th>3</th>\n",
       "      <td>/VOLUME/nia_vent_asynchrony/data/raw_data/base...</td>\n",
       "      <td>2021-09-28 02:00:45.831638+09:00</td>\n",
       "      <td>2021-09-28 02:00:53.815131+09:00</td>\n",
       "      <td>[[34.80000305175781, -0.0399999618530273], [35...</td>\n",
       "      <td>1-002</td>\n",
       "      <td>91</td>\n",
       "      <td>3</td>\n",
       "      <td>0</td>\n",
       "    </tr>\n",
       "    <tr>\n",
       "      <th>4</th>\n",
       "      <td>/VOLUME/nia_vent_asynchrony/data/raw_data/base...</td>\n",
       "      <td>2021-09-28 02:00:53.831798+09:00</td>\n",
       "      <td>2021-09-28 02:01:01.815291+09:00</td>\n",
       "      <td>[[40.600006103515625, -0.2350006103515625], [4...</td>\n",
       "      <td>1-002</td>\n",
       "      <td>91</td>\n",
       "      <td>4</td>\n",
       "      <td>0</td>\n",
       "    </tr>\n",
       "    <tr>\n",
       "      <th>...</th>\n",
       "      <td>...</td>\n",
       "      <td>...</td>\n",
       "      <td>...</td>\n",
       "      <td>...</td>\n",
       "      <td>...</td>\n",
       "      <td>...</td>\n",
       "      <td>...</td>\n",
       "      <td>...</td>\n",
       "    </tr>\n",
       "    <tr>\n",
       "      <th>69</th>\n",
       "      <td>/VOLUME/nia_vent_asynchrony/data/raw_data/base...</td>\n",
       "      <td>2019-04-30 16:09:11.994963+09:00</td>\n",
       "      <td>2019-04-30 16:09:19.978298+09:00</td>\n",
       "      <td>[[426.0, 900.5], [443.5, 932.5], [451.0, 958.5...</td>\n",
       "      <td>2-002</td>\n",
       "      <td>123</td>\n",
       "      <td>310268</td>\n",
       "      <td>0</td>\n",
       "    </tr>\n",
       "    <tr>\n",
       "      <th>70</th>\n",
       "      <td>/VOLUME/nia_vent_asynchrony/data/raw_data/base...</td>\n",
       "      <td>2019-04-30 16:09:19.994965+09:00</td>\n",
       "      <td>2019-04-30 16:09:27.978300+09:00</td>\n",
       "      <td>[[54.5, 470.0], [72.5, 490.0], [90.5, 510.0], ...</td>\n",
       "      <td>2-002</td>\n",
       "      <td>123</td>\n",
       "      <td>310269</td>\n",
       "      <td>0</td>\n",
       "    </tr>\n",
       "    <tr>\n",
       "      <th>71</th>\n",
       "      <td>/VOLUME/nia_vent_asynchrony/data/raw_data/base...</td>\n",
       "      <td>2019-04-30 16:09:27.994966+09:00</td>\n",
       "      <td>2019-04-30 16:09:35.978301+09:00</td>\n",
       "      <td>[[288.5, 613.5], [317.5, 636.0], [336.5, 648.0...</td>\n",
       "      <td>2-002</td>\n",
       "      <td>123</td>\n",
       "      <td>310270</td>\n",
       "      <td>0</td>\n",
       "    </tr>\n",
       "    <tr>\n",
       "      <th>72</th>\n",
       "      <td>/VOLUME/nia_vent_asynchrony/data/raw_data/base...</td>\n",
       "      <td>2019-04-30 16:09:35.994968+09:00</td>\n",
       "      <td>2019-04-30 16:09:43.978303+09:00</td>\n",
       "      <td>[[-286.0, 588.0], [-278.5, 581.0], [-269.0, 58...</td>\n",
       "      <td>2-002</td>\n",
       "      <td>123</td>\n",
       "      <td>310271</td>\n",
       "      <td>0</td>\n",
       "    </tr>\n",
       "    <tr>\n",
       "      <th>73</th>\n",
       "      <td>/VOLUME/nia_vent_asynchrony/data/raw_data/base...</td>\n",
       "      <td>2019-04-30 16:09:43.994970+09:00</td>\n",
       "      <td>2019-04-30 16:09:51.978305+09:00</td>\n",
       "      <td>[[203.0, 874.0], [208.5, 869.5], [214.5, 875.5...</td>\n",
       "      <td>2-002</td>\n",
       "      <td>123</td>\n",
       "      <td>310272</td>\n",
       "      <td>0</td>\n",
       "    </tr>\n",
       "  </tbody>\n",
       "</table>\n",
       "<p>534544 rows × 8 columns</p>\n",
       "</div>"
      ],
      "text/plain": [
       "                                            flow_path  \\\n",
       "0   /VOLUME/nia_vent_asynchrony/data/raw_data/base...   \n",
       "1   /VOLUME/nia_vent_asynchrony/data/raw_data/base...   \n",
       "2   /VOLUME/nia_vent_asynchrony/data/raw_data/base...   \n",
       "3   /VOLUME/nia_vent_asynchrony/data/raw_data/base...   \n",
       "4   /VOLUME/nia_vent_asynchrony/data/raw_data/base...   \n",
       "..                                                ...   \n",
       "69  /VOLUME/nia_vent_asynchrony/data/raw_data/base...   \n",
       "70  /VOLUME/nia_vent_asynchrony/data/raw_data/base...   \n",
       "71  /VOLUME/nia_vent_asynchrony/data/raw_data/base...   \n",
       "72  /VOLUME/nia_vent_asynchrony/data/raw_data/base...   \n",
       "73  /VOLUME/nia_vent_asynchrony/data/raw_data/base...   \n",
       "\n",
       "                          starttime                          endtime  \\\n",
       "0  2021-09-28 02:00:21.831158+09:00 2021-09-28 02:00:29.814651+09:00   \n",
       "1  2021-09-28 02:00:29.831318+09:00 2021-09-28 02:00:37.814811+09:00   \n",
       "2  2021-09-28 02:00:37.831478+09:00 2021-09-28 02:00:45.814971+09:00   \n",
       "3  2021-09-28 02:00:45.831638+09:00 2021-09-28 02:00:53.815131+09:00   \n",
       "4  2021-09-28 02:00:53.831798+09:00 2021-09-28 02:01:01.815291+09:00   \n",
       "..                              ...                              ...   \n",
       "69 2019-04-30 16:09:11.994963+09:00 2019-04-30 16:09:19.978298+09:00   \n",
       "70 2019-04-30 16:09:19.994965+09:00 2019-04-30 16:09:27.978300+09:00   \n",
       "71 2019-04-30 16:09:27.994966+09:00 2019-04-30 16:09:35.978301+09:00   \n",
       "72 2019-04-30 16:09:35.994968+09:00 2019-04-30 16:09:43.978303+09:00   \n",
       "73 2019-04-30 16:09:43.994970+09:00 2019-04-30 16:09:51.978305+09:00   \n",
       "\n",
       "                                                 data hospital_id_patient_id  \\\n",
       "0   [[40.69999694824219, -0.1450004577636718], [40...                  1-002   \n",
       "1   [[42.600006103515625, 8.299999237060547], [39....                  1-002   \n",
       "2   [[89.39999389648438, 4.47499942779541], [92.30...                  1-002   \n",
       "3   [[34.80000305175781, -0.0399999618530273], [35...                  1-002   \n",
       "4   [[40.600006103515625, -0.2350006103515625], [4...                  1-002   \n",
       "..                                                ...                    ...   \n",
       "69  [[426.0, 900.5], [443.5, 932.5], [451.0, 958.5...                  2-002   \n",
       "70  [[54.5, 470.0], [72.5, 490.0], [90.5, 510.0], ...                  2-002   \n",
       "71  [[288.5, 613.5], [317.5, 636.0], [336.5, 648.0...                  2-002   \n",
       "72  [[-286.0, 588.0], [-278.5, 581.0], [-269.0, 58...                  2-002   \n",
       "73  [[203.0, 874.0], [208.5, 869.5], [214.5, 875.5...                  2-002   \n",
       "\n",
       "    wav_number  instance_index  label  \n",
       "0           91               0      0  \n",
       "1           91               1      0  \n",
       "2           91               2      0  \n",
       "3           91               3      0  \n",
       "4           91               4      0  \n",
       "..         ...             ...    ...  \n",
       "69         123          310268      0  \n",
       "70         123          310269      0  \n",
       "71         123          310270      0  \n",
       "72         123          310271      0  \n",
       "73         123          310272      0  \n",
       "\n",
       "[534544 rows x 8 columns]"
      ]
     },
     "execution_count": 12,
     "metadata": {},
     "output_type": "execute_result"
    }
   ],
   "source": [
    "dat"
   ]
  },
  {
   "cell_type": "code",
   "execution_count": null,
   "metadata": {},
   "outputs": [
    {
     "name": "stdout",
     "output_type": "stream",
     "text": [
      "hospital_id_patient_id  label\n",
      "1-002                   0         39034\n",
      "                        2            22\n",
      "1-003                   0        167584\n",
      "                        2           351\n",
      "                        1            64\n",
      "                        3            24\n",
      "1-004                   0         35539\n",
      "2-002                   0         53970\n",
      "                        2           473\n",
      "                        3           180\n",
      "                        1            10\n",
      "2-003                   0         41981\n",
      "2-004                   0         59422\n",
      "                        2           166\n",
      "                        3           129\n",
      "2-007                   0        115661\n",
      "                        2          1750\n",
      "                        3           379\n",
      "                        1             6\n",
      "2-010                   0         35120\n",
      "                        2           836\n",
      "                        3           190\n",
      "Name: label, dtype: int64\n"
     ]
    }
   ],
   "source": [
    "print(dat.groupby('hospital_id_patient_id')['label'].value_counts())"
   ]
  },
  {
   "cell_type": "code",
   "execution_count": 126,
   "metadata": {},
   "outputs": [
    {
     "data": {
      "text/plain": [
       "2    310273\n",
       "1    242618\n",
       "Name: hospital_id_patient_id, dtype: int64"
      ]
     },
     "execution_count": 126,
     "metadata": {},
     "output_type": "execute_result"
    }
   ],
   "source": [
    "dat['hospital_id_patient_id'].str[0].value_counts()"
   ]
  },
  {
   "cell_type": "code",
   "execution_count": 5,
   "metadata": {},
   "outputs": [],
   "source": [
    "dat['split'] = 'train'\n",
    "dat.loc[dat['hospital_id_patient_id']=='2-007','split'] = 'valid'\n",
    "dat.loc[dat['hospital_id_patient_id']=='1-002','split'] = 'test'\n",
    "dat.loc[dat['hospital_id_patient_id']=='2-002','split'] = 'test'"
   ]
  },
  {
   "cell_type": "code",
   "execution_count": 8,
   "metadata": {},
   "outputs": [
    {
     "name": "stdout",
     "output_type": "stream",
     "text": [
      "                num     ratio\n",
      "split label                  \n",
      "test  0       93004  0.992689\n",
      "      2         495  0.005283\n",
      "      3         180  0.001921\n",
      "      1          10  0.000107\n",
      "train 0      339646  0.994845\n",
      "      2        1353  0.003963\n",
      "      3         343  0.001005\n",
      "      1          64  0.000187\n",
      "valid 0      115661  0.981875\n",
      "      2        1750  0.014856\n",
      "      3         379  0.003217\n",
      "      1           6  0.000051\n"
     ]
    }
   ],
   "source": [
    "labelfreq = pd.concat([dat.groupby('split')['label'].value_counts(),\n",
    "dat.groupby('split')['label'].value_counts(normalize=True)], axis=1)\n",
    "labelfreq.columns = ['num', 'ratio']\n",
    "print(labelfreq)\n",
    "labelfreq.to_csv(osp.join(result_path,'label_freq_trainvaltest.csv'))"
   ]
  },
  {
   "cell_type": "code",
   "execution_count": 63,
   "metadata": {},
   "outputs": [
    {
     "name": "stdout",
     "output_type": "stream",
     "text": [
      "0    548311\n",
      "2      3598\n",
      "3       902\n",
      "1        80\n",
      "Name: label, dtype: int64\n"
     ]
    }
   ],
   "source": [
    "print(dat['label'].value_counts())"
   ]
  },
  {
   "cell_type": "code",
   "execution_count": null,
   "metadata": {},
   "outputs": [
    {
     "data": {
      "text/plain": [
       "Index(['flow_path', 'starttime', 'endtime', 'data', 'hospital_id_patient_id',\n",
       "       'wav_number', 'instance_index', 'label', 'split'],\n",
       "      dtype='object')"
      ]
     },
     "execution_count": 64,
     "metadata": {},
     "output_type": "execute_result"
    }
   ],
   "source": [
    "dat.columns"
   ]
  },
  {
   "cell_type": "code",
   "execution_count": null,
   "metadata": {},
   "outputs": [
    {
     "data": {
      "text/plain": [
       "False    546664\n",
       "True       3671\n",
       "dtype: int64"
      ]
     },
     "execution_count": 17,
     "metadata": {},
     "output_type": "execute_result"
    }
   ],
   "source": [
    "pd.Series(label).value_counts()"
   ]
  },
  {
   "cell_type": "code",
   "execution_count": null,
   "metadata": {},
   "outputs": [
    {
     "data": {
      "text/plain": [
       "False    0.99333\n",
       "True     0.00667\n",
       "dtype: float64"
      ]
     },
     "execution_count": 19,
     "metadata": {},
     "output_type": "execute_result"
    }
   ],
   "source": [
    "pd.Series(label).value_counts(normalize=True)"
   ]
  },
  {
   "cell_type": "code",
   "execution_count": null,
   "metadata": {},
   "outputs": [
    {
     "data": {
      "text/plain": [
       "0    545763\n",
       "2      3591\n",
       "3       901\n",
       "1        80\n",
       "Name: label, dtype: int64"
      ]
     },
     "execution_count": 18,
     "metadata": {},
     "output_type": "execute_result"
    }
   ],
   "source": [
    "dat['label'].value_counts()"
   ]
  },
  {
   "cell_type": "code",
   "execution_count": null,
   "metadata": {},
   "outputs": [
    {
     "data": {
      "text/plain": [
       "0    0.991692\n",
       "2    0.006525\n",
       "3    0.001637\n",
       "1    0.000145\n",
       "Name: label, dtype: float64"
      ]
     },
     "execution_count": 20,
     "metadata": {},
     "output_type": "execute_result"
    }
   ],
   "source": [
    "dat['label'].value_counts(normalize=True)"
   ]
  },
  {
   "cell_type": "code",
   "execution_count": null,
   "metadata": {},
   "outputs": [
    {
     "data": {
      "text/plain": [
       "(550335,)"
      ]
     },
     "execution_count": 21,
     "metadata": {},
     "output_type": "execute_result"
    }
   ],
   "source": [
    "label.shape"
   ]
  },
  {
   "cell_type": "code",
   "execution_count": null,
   "metadata": {},
   "outputs": [
    {
     "data": {
      "text/plain": [
       "(550335, 480, 2)"
      ]
     },
     "execution_count": 22,
     "metadata": {},
     "output_type": "execute_result"
    }
   ],
   "source": [
    "feature.shape"
   ]
  },
  {
   "cell_type": "code",
   "execution_count": 5,
   "metadata": {},
   "outputs": [],
   "source": [
    "\n",
    "# # bce_loss = torch.nn.BCELoss(reduction='mean')\n",
    "\n",
    "# def calculate_vae_loss(out, xi, batch_size=None):\n",
    "#     bce_loss = torch.nn.BCEWithLogitsLoss(reduction='mean')\n",
    "#     loss_r = bce_loss(out, xi)\n",
    "#     # loss_r = ((out - xi)**2).sum()\n",
    "#     loss_kl = torch.mean(.5 * torch.sum(mu.pow(2) + torch.exp(logVar) - 1 - logVar, 1))\n",
    "#     # loss = torch.mean(loss_r) + loss_kl\n",
    "#     loss = loss_r + loss_kl\n",
    "#     return loss, loss_r, loss_kl\n",
    "\n",
    "# def calculate_bce_loss(out, target, pos_weight=torch.tensor([5])):\n",
    "#     if pos_weight is not None:\n",
    "#         pos_weight = pos_weight.to(target)\n",
    "#     bce_loss = torch.nn.BCEWithLogitsLoss(reduction='mean', pos_weight=pos_weight)\n",
    "#     loss = bce_loss(out, target)\n",
    "#     return loss\n"
   ]
  },
  {
   "cell_type": "code",
   "execution_count": 6,
   "metadata": {},
   "outputs": [],
   "source": [
    "nowDate = cutils.get_today_string()"
   ]
  },
  {
   "cell_type": "code",
   "execution_count": 7,
   "metadata": {},
   "outputs": [
    {
     "name": "stdout",
     "output_type": "stream",
     "text": [
      "/VOLUME/nia_vent_asynchrony/result/baseline_220818/train/2022-08-30-04-48-27\n"
     ]
    }
   ],
   "source": [
    "result_path = f'/VOLUME/nia_vent_asynchrony/result/baseline_220818/train/{nowDate}'\n",
    "os.makedirs(result_path, exist_ok=True)\n",
    "print(result_path)"
   ]
  },
  {
   "cell_type": "code",
   "execution_count": 103,
   "metadata": {},
   "outputs": [
    {
     "data": {
      "text/html": [
       "<div>\n",
       "<style scoped>\n",
       "    .dataframe tbody tr th:only-of-type {\n",
       "        vertical-align: middle;\n",
       "    }\n",
       "\n",
       "    .dataframe tbody tr th {\n",
       "        vertical-align: top;\n",
       "    }\n",
       "\n",
       "    .dataframe thead th {\n",
       "        text-align: right;\n",
       "    }\n",
       "</style>\n",
       "<table border=\"1\" class=\"dataframe\">\n",
       "  <thead>\n",
       "    <tr style=\"text-align: right;\">\n",
       "      <th></th>\n",
       "      <th>flow_path</th>\n",
       "      <th>starttime</th>\n",
       "      <th>endtime</th>\n",
       "      <th>data</th>\n",
       "      <th>hospital_id_patient_id</th>\n",
       "      <th>wav_number</th>\n",
       "      <th>instance_index</th>\n",
       "      <th>label</th>\n",
       "      <th>split</th>\n",
       "    </tr>\n",
       "  </thead>\n",
       "  <tbody>\n",
       "    <tr>\n",
       "      <th>0</th>\n",
       "      <td>/VOLUME/nia_vent_asynchrony/data/raw_data/base...</td>\n",
       "      <td>2021-09-28 02:00:21.831158+09:00</td>\n",
       "      <td>2021-09-28 02:00:29.814651+09:00</td>\n",
       "      <td>[[40.69999694824219, -0.1450004577636718], [40...</td>\n",
       "      <td>1-002</td>\n",
       "      <td>91</td>\n",
       "      <td>0</td>\n",
       "      <td>0</td>\n",
       "      <td>test</td>\n",
       "    </tr>\n",
       "    <tr>\n",
       "      <th>1</th>\n",
       "      <td>/VOLUME/nia_vent_asynchrony/data/raw_data/base...</td>\n",
       "      <td>2021-09-28 02:00:29.831318+09:00</td>\n",
       "      <td>2021-09-28 02:00:37.814811+09:00</td>\n",
       "      <td>[[42.600006103515625, 8.299999237060547], [39....</td>\n",
       "      <td>1-002</td>\n",
       "      <td>91</td>\n",
       "      <td>1</td>\n",
       "      <td>0</td>\n",
       "      <td>test</td>\n",
       "    </tr>\n",
       "    <tr>\n",
       "      <th>2</th>\n",
       "      <td>/VOLUME/nia_vent_asynchrony/data/raw_data/base...</td>\n",
       "      <td>2021-09-28 02:00:37.831478+09:00</td>\n",
       "      <td>2021-09-28 02:00:45.814971+09:00</td>\n",
       "      <td>[[89.39999389648438, 4.47499942779541], [92.30...</td>\n",
       "      <td>1-002</td>\n",
       "      <td>91</td>\n",
       "      <td>2</td>\n",
       "      <td>0</td>\n",
       "      <td>test</td>\n",
       "    </tr>\n",
       "    <tr>\n",
       "      <th>3</th>\n",
       "      <td>/VOLUME/nia_vent_asynchrony/data/raw_data/base...</td>\n",
       "      <td>2021-09-28 02:00:45.831638+09:00</td>\n",
       "      <td>2021-09-28 02:00:53.815131+09:00</td>\n",
       "      <td>[[34.80000305175781, -0.0399999618530273], [35...</td>\n",
       "      <td>1-002</td>\n",
       "      <td>91</td>\n",
       "      <td>3</td>\n",
       "      <td>0</td>\n",
       "      <td>test</td>\n",
       "    </tr>\n",
       "    <tr>\n",
       "      <th>4</th>\n",
       "      <td>/VOLUME/nia_vent_asynchrony/data/raw_data/base...</td>\n",
       "      <td>2021-09-28 02:00:53.831798+09:00</td>\n",
       "      <td>2021-09-28 02:01:01.815291+09:00</td>\n",
       "      <td>[[40.600006103515625, -0.2350006103515625], [4...</td>\n",
       "      <td>1-002</td>\n",
       "      <td>91</td>\n",
       "      <td>4</td>\n",
       "      <td>0</td>\n",
       "      <td>test</td>\n",
       "    </tr>\n",
       "    <tr>\n",
       "      <th>...</th>\n",
       "      <td>...</td>\n",
       "      <td>...</td>\n",
       "      <td>...</td>\n",
       "      <td>...</td>\n",
       "      <td>...</td>\n",
       "      <td>...</td>\n",
       "      <td>...</td>\n",
       "      <td>...</td>\n",
       "      <td>...</td>\n",
       "    </tr>\n",
       "    <tr>\n",
       "      <th>69</th>\n",
       "      <td>/VOLUME/nia_vent_asynchrony/data/raw_data/base...</td>\n",
       "      <td>2019-04-30 16:09:11.994963+09:00</td>\n",
       "      <td>2019-04-30 16:09:19.978298+09:00</td>\n",
       "      <td>[[426.0, 900.5], [443.5, 932.5], [451.0, 958.5...</td>\n",
       "      <td>2-002</td>\n",
       "      <td>123</td>\n",
       "      <td>310268</td>\n",
       "      <td>0</td>\n",
       "      <td>test</td>\n",
       "    </tr>\n",
       "    <tr>\n",
       "      <th>70</th>\n",
       "      <td>/VOLUME/nia_vent_asynchrony/data/raw_data/base...</td>\n",
       "      <td>2019-04-30 16:09:19.994965+09:00</td>\n",
       "      <td>2019-04-30 16:09:27.978300+09:00</td>\n",
       "      <td>[[54.5, 470.0], [72.5, 490.0], [90.5, 510.0], ...</td>\n",
       "      <td>2-002</td>\n",
       "      <td>123</td>\n",
       "      <td>310269</td>\n",
       "      <td>0</td>\n",
       "      <td>test</td>\n",
       "    </tr>\n",
       "    <tr>\n",
       "      <th>71</th>\n",
       "      <td>/VOLUME/nia_vent_asynchrony/data/raw_data/base...</td>\n",
       "      <td>2019-04-30 16:09:27.994966+09:00</td>\n",
       "      <td>2019-04-30 16:09:35.978301+09:00</td>\n",
       "      <td>[[288.5, 613.5], [317.5, 636.0], [336.5, 648.0...</td>\n",
       "      <td>2-002</td>\n",
       "      <td>123</td>\n",
       "      <td>310270</td>\n",
       "      <td>0</td>\n",
       "      <td>test</td>\n",
       "    </tr>\n",
       "    <tr>\n",
       "      <th>72</th>\n",
       "      <td>/VOLUME/nia_vent_asynchrony/data/raw_data/base...</td>\n",
       "      <td>2019-04-30 16:09:35.994968+09:00</td>\n",
       "      <td>2019-04-30 16:09:43.978303+09:00</td>\n",
       "      <td>[[-286.0, 588.0], [-278.5, 581.0], [-269.0, 58...</td>\n",
       "      <td>2-002</td>\n",
       "      <td>123</td>\n",
       "      <td>310271</td>\n",
       "      <td>0</td>\n",
       "      <td>test</td>\n",
       "    </tr>\n",
       "    <tr>\n",
       "      <th>73</th>\n",
       "      <td>/VOLUME/nia_vent_asynchrony/data/raw_data/base...</td>\n",
       "      <td>2019-04-30 16:09:43.994970+09:00</td>\n",
       "      <td>2019-04-30 16:09:51.978305+09:00</td>\n",
       "      <td>[[203.0, 874.0], [208.5, 869.5], [214.5, 875.5...</td>\n",
       "      <td>2-002</td>\n",
       "      <td>123</td>\n",
       "      <td>310272</td>\n",
       "      <td>0</td>\n",
       "      <td>test</td>\n",
       "    </tr>\n",
       "  </tbody>\n",
       "</table>\n",
       "<p>552891 rows × 9 columns</p>\n",
       "</div>"
      ],
      "text/plain": [
       "                                            flow_path  \\\n",
       "0   /VOLUME/nia_vent_asynchrony/data/raw_data/base...   \n",
       "1   /VOLUME/nia_vent_asynchrony/data/raw_data/base...   \n",
       "2   /VOLUME/nia_vent_asynchrony/data/raw_data/base...   \n",
       "3   /VOLUME/nia_vent_asynchrony/data/raw_data/base...   \n",
       "4   /VOLUME/nia_vent_asynchrony/data/raw_data/base...   \n",
       "..                                                ...   \n",
       "69  /VOLUME/nia_vent_asynchrony/data/raw_data/base...   \n",
       "70  /VOLUME/nia_vent_asynchrony/data/raw_data/base...   \n",
       "71  /VOLUME/nia_vent_asynchrony/data/raw_data/base...   \n",
       "72  /VOLUME/nia_vent_asynchrony/data/raw_data/base...   \n",
       "73  /VOLUME/nia_vent_asynchrony/data/raw_data/base...   \n",
       "\n",
       "                          starttime                          endtime  \\\n",
       "0  2021-09-28 02:00:21.831158+09:00 2021-09-28 02:00:29.814651+09:00   \n",
       "1  2021-09-28 02:00:29.831318+09:00 2021-09-28 02:00:37.814811+09:00   \n",
       "2  2021-09-28 02:00:37.831478+09:00 2021-09-28 02:00:45.814971+09:00   \n",
       "3  2021-09-28 02:00:45.831638+09:00 2021-09-28 02:00:53.815131+09:00   \n",
       "4  2021-09-28 02:00:53.831798+09:00 2021-09-28 02:01:01.815291+09:00   \n",
       "..                              ...                              ...   \n",
       "69 2019-04-30 16:09:11.994963+09:00 2019-04-30 16:09:19.978298+09:00   \n",
       "70 2019-04-30 16:09:19.994965+09:00 2019-04-30 16:09:27.978300+09:00   \n",
       "71 2019-04-30 16:09:27.994966+09:00 2019-04-30 16:09:35.978301+09:00   \n",
       "72 2019-04-30 16:09:35.994968+09:00 2019-04-30 16:09:43.978303+09:00   \n",
       "73 2019-04-30 16:09:43.994970+09:00 2019-04-30 16:09:51.978305+09:00   \n",
       "\n",
       "                                                 data hospital_id_patient_id  \\\n",
       "0   [[40.69999694824219, -0.1450004577636718], [40...                  1-002   \n",
       "1   [[42.600006103515625, 8.299999237060547], [39....                  1-002   \n",
       "2   [[89.39999389648438, 4.47499942779541], [92.30...                  1-002   \n",
       "3   [[34.80000305175781, -0.0399999618530273], [35...                  1-002   \n",
       "4   [[40.600006103515625, -0.2350006103515625], [4...                  1-002   \n",
       "..                                                ...                    ...   \n",
       "69  [[426.0, 900.5], [443.5, 932.5], [451.0, 958.5...                  2-002   \n",
       "70  [[54.5, 470.0], [72.5, 490.0], [90.5, 510.0], ...                  2-002   \n",
       "71  [[288.5, 613.5], [317.5, 636.0], [336.5, 648.0...                  2-002   \n",
       "72  [[-286.0, 588.0], [-278.5, 581.0], [-269.0, 58...                  2-002   \n",
       "73  [[203.0, 874.0], [208.5, 869.5], [214.5, 875.5...                  2-002   \n",
       "\n",
       "    wav_number  instance_index  label split  \n",
       "0           91               0      0  test  \n",
       "1           91               1      0  test  \n",
       "2           91               2      0  test  \n",
       "3           91               3      0  test  \n",
       "4           91               4      0  test  \n",
       "..         ...             ...    ...   ...  \n",
       "69         123          310268      0  test  \n",
       "70         123          310269      0  test  \n",
       "71         123          310270      0  test  \n",
       "72         123          310271      0  test  \n",
       "73         123          310272      0  test  \n",
       "\n",
       "[552891 rows x 9 columns]"
      ]
     },
     "execution_count": 103,
     "metadata": {},
     "output_type": "execute_result"
    }
   ],
   "source": [
    "dat"
   ]
  },
  {
   "cell_type": "code",
   "execution_count": 74,
   "metadata": {},
   "outputs": [],
   "source": [
    "dat['split']='train'"
   ]
  },
  {
   "cell_type": "code",
   "execution_count": null,
   "metadata": {},
   "outputs": [],
   "source": [
    "train_dataloader, val_dataloader, test_dataloader = preprocess_data(dat, set_train_weightedsampler=False, scale=True)"
   ]
  },
  {
   "cell_type": "code",
   "execution_count": 76,
   "metadata": {},
   "outputs": [
    {
     "name": "stdout",
     "output_type": "stream",
     "text": [
      "cuda\n",
      "Epoch 0\n"
     ]
    },
    {
     "name": "stderr",
     "output_type": "stream",
     "text": [
      "/usr/local/lib/python3.8/dist-packages/torch/nn/functional.py:3609: UserWarning: Default upsampling behavior when mode=linear is changed to align_corners=False since 0.4.0. Please specify align_corners=True if the old behavior is desired. See the documentation of nn.Upsample for details.\n",
      "  warnings.warn(\n"
     ]
    },
    {
     "name": "stdout",
     "output_type": "stream",
     "text": [
      "step 0 loss 16.741785049438477 loss_r 0.7645362019538879 loss_kl 15.977249145507812\n",
      "step 100 loss 1.2549030780792236 loss_r 0.6828201413154602 loss_kl 0.5720829963684082\n",
      "step 200 loss 0.9288325309753418 loss_r 0.6805084347724915 loss_kl 0.24832412600517273\n",
      "step 300 loss 0.8118099570274353 loss_r 0.6833440661430359 loss_kl 0.12846587598323822\n",
      "step 400 loss 0.7619965672492981 loss_r 0.6858094930648804 loss_kl 0.07618707418441772\n",
      "step 500 loss 0.7431113719940186 loss_r 0.6886036396026611 loss_kl 0.05450774356722832\n",
      "step 600 loss 0.7313200235366821 loss_r 0.6903666257858276 loss_kl 0.040953412652015686\n",
      "step 700 loss 0.7213893532752991 loss_r 0.6907889246940613 loss_kl 0.030600422993302345\n",
      "step 800 loss 0.714242160320282 loss_r 0.691209077835083 loss_kl 0.023033108562231064\n",
      "step 900 loss 0.7108907103538513 loss_r 0.691788911819458 loss_kl 0.019101807847619057\n",
      "step 1000 loss 0.7102294564247131 loss_r 0.692378044128418 loss_kl 0.017851408571004868\n",
      "step 1100 loss 0.7041040658950806 loss_r 0.691781759262085 loss_kl 0.012322280555963516\n",
      "step 1200 loss 0.7026920914649963 loss_r 0.6926043629646301 loss_kl 0.010087726637721062\n",
      "step 1300 loss 0.700890839099884 loss_r 0.6925259828567505 loss_kl 0.008364874869585037\n",
      "step 1400 loss 0.6999991536140442 loss_r 0.6925128102302551 loss_kl 0.007486327551305294\n",
      "step 1500 loss 0.6994680762290955 loss_r 0.692718505859375 loss_kl 0.006749576888978481\n",
      "step 1600 loss 0.6990088820457458 loss_r 0.692859947681427 loss_kl 0.006148932036012411\n",
      "step 1700 loss 0.6984241604804993 loss_r 0.6926815509796143 loss_kl 0.005742626264691353\n",
      "step 1800 loss 0.6973394155502319 loss_r 0.6927391290664673 loss_kl 0.004600268788635731\n",
      "step 1900 loss 0.6975430846214294 loss_r 0.692768931388855 loss_kl 0.004774182103574276\n",
      "step 2000 loss 0.6953312754631042 loss_r 0.6922227144241333 loss_kl 0.0031085838563740253\n",
      "step 2100 loss 0.6972060799598694 loss_r 0.6936138272285461 loss_kl 0.003592240624129772\n",
      "step 2200 loss 0.6956802010536194 loss_r 0.6925855278968811 loss_kl 0.003094678744673729\n",
      "step 2300 loss 0.6955699324607849 loss_r 0.6928986310958862 loss_kl 0.002671328606083989\n",
      "step 2400 loss 0.6950590014457703 loss_r 0.6926323175430298 loss_kl 0.0024266554974019527\n",
      "step 2500 loss 0.6947716474533081 loss_r 0.6927525997161865 loss_kl 0.0020190279465168715\n",
      "step 2600 loss 0.6949663758277893 loss_r 0.6924707293510437 loss_kl 0.0024956492707133293\n",
      "step 2700 loss 0.6942146420478821 loss_r 0.6921994686126709 loss_kl 0.002015186008065939\n",
      "step 2800 loss 0.6945539116859436 loss_r 0.6928272843360901 loss_kl 0.0017266084905713797\n",
      "step 2900 loss 0.6941976547241211 loss_r 0.6928089261054993 loss_kl 0.0013887386303395033\n",
      "step 3000 loss 0.6937737464904785 loss_r 0.6925863027572632 loss_kl 0.0011874204501509666\n",
      "step 3100 loss 0.6937320232391357 loss_r 0.6926259994506836 loss_kl 0.0011060312390327454\n",
      "step 3200 loss 0.6933218240737915 loss_r 0.6923387050628662 loss_kl 0.0009831422939896584\n",
      "step 3300 loss 0.6936066746711731 loss_r 0.6923990249633789 loss_kl 0.0012076768325641751\n",
      "step 3400 loss 0.6933322548866272 loss_r 0.6924305558204651 loss_kl 0.0009016836993396282\n",
      "step 3500 loss 0.6938502192497253 loss_r 0.69239741563797 loss_kl 0.0014528189785778522\n",
      "step 3600 loss 0.6938806772232056 loss_r 0.6932092308998108 loss_kl 0.0006714457413181663\n",
      "step 3700 loss 0.6935849785804749 loss_r 0.6928470730781555 loss_kl 0.0007379056187346578\n",
      "step 3800 loss 0.6925376653671265 loss_r 0.691880464553833 loss_kl 0.0006571945268660784\n",
      "step 3900 loss 0.6932689547538757 loss_r 0.6927075386047363 loss_kl 0.0005614438559859991\n",
      "step 4000 loss 0.692930281162262 loss_r 0.692369818687439 loss_kl 0.0005604802863672376\n",
      "step 4100 loss 0.6935100555419922 loss_r 0.6929588913917542 loss_kl 0.0005511794006451964\n",
      "step 4200 loss 0.6930909156799316 loss_r 0.6925107836723328 loss_kl 0.0005801082588732243\n",
      "step 4300 loss 0.6927645206451416 loss_r 0.6923337578773499 loss_kl 0.00043076276779174805\n",
      "step 4400 loss 0.6934590935707092 loss_r 0.6931198239326477 loss_kl 0.0003392586368136108\n",
      "step 4500 loss 0.6923040151596069 loss_r 0.6919660568237305 loss_kl 0.00033792975591495633\n",
      "step 4600 loss 0.6926766633987427 loss_r 0.6923508644104004 loss_kl 0.00032578728860244155\n",
      "step 4700 loss 0.693260669708252 loss_r 0.6929371356964111 loss_kl 0.00032352859852835536\n",
      "step 4800 loss 0.6930732727050781 loss_r 0.6927951574325562 loss_kl 0.0002781334624160081\n",
      "step 4900 loss 0.6933410167694092 loss_r 0.6931079030036926 loss_kl 0.00023310945834964514\n",
      "step 5000 loss 0.6925421357154846 loss_r 0.6922917366027832 loss_kl 0.0002503873547539115\n",
      "step 5100 loss 0.6927715539932251 loss_r 0.6926013231277466 loss_kl 0.00017021025996655226\n",
      "step 5200 loss 0.693302571773529 loss_r 0.6931135654449463 loss_kl 0.00018901201838161796\n",
      "step 5300 loss 0.69282066822052 loss_r 0.6926766633987427 loss_kl 0.000143995406688191\n",
      "step 5400 loss 0.6927768588066101 loss_r 0.6926158666610718 loss_kl 0.0001609655882930383\n",
      "step 5500 loss 0.6929506063461304 loss_r 0.6928207874298096 loss_kl 0.00012980375322513282\n",
      "step 5600 loss 0.6933887600898743 loss_r 0.6932711601257324 loss_kl 0.00011758790060412139\n",
      "step 5700 loss 0.6924697160720825 loss_r 0.6923717260360718 loss_kl 9.801117266761139e-05\n",
      "step 5800 loss 0.6925151944160461 loss_r 0.6923971176147461 loss_kl 0.00011808866111095995\n",
      "step 5900 loss 0.6932970285415649 loss_r 0.6932159662246704 loss_kl 8.105045708362013e-05\n",
      "step 6000 loss 0.6930566430091858 loss_r 0.6929939389228821 loss_kl 6.272229802561924e-05\n",
      "step 6100 loss 0.6928431987762451 loss_r 0.6927797198295593 loss_kl 6.345626024994999e-05\n",
      "step 6200 loss 0.6927913427352905 loss_r 0.6927363276481628 loss_kl 5.504339060280472e-05\n",
      "step 6300 loss 0.6924540996551514 loss_r 0.6924024820327759 loss_kl 5.15895699209068e-05\n",
      "step 6400 loss 0.6935903429985046 loss_r 0.6935347318649292 loss_kl 5.561161378864199e-05\n",
      "step 6500 loss 0.6923314929008484 loss_r 0.6922966837882996 loss_kl 3.483577165752649e-05\n",
      "step 6600 loss 0.6927623748779297 loss_r 0.6927459836006165 loss_kl 1.6409192539867945e-05\n",
      "step 6700 loss 0.6922847032546997 loss_r 0.692258358001709 loss_kl 2.6337407689425163e-05\n",
      "step 6800 loss 0.6926078200340271 loss_r 0.6925915479660034 loss_kl 1.626316225156188e-05\n",
      "step 6900 loss 0.6921014189720154 loss_r 0.6920953989028931 loss_kl 6.043343091732822e-06\n",
      "step 7000 loss 0.6925177574157715 loss_r 0.6925152540206909 loss_kl 2.4956229935924057e-06\n",
      "step 7100 loss 0.6928768754005432 loss_r 0.6928763389587402 loss_kl 5.415344048742554e-07\n",
      "step 7200 loss 0.6927828192710876 loss_r 0.6927780508995056 loss_kl 4.749927029479295e-06\n",
      "step 7300 loss 0.6925704479217529 loss_r 0.6925691962242126 loss_kl 1.2229313597345026e-06\n",
      "step 7400 loss 0.693035900592804 loss_r 0.6930356621742249 loss_kl 2.171842794496115e-07\n",
      "step 7500 loss 0.6924235224723816 loss_r 0.6924214363098145 loss_kl 2.1086148080939893e-06\n",
      "step 7600 loss 0.6926800012588501 loss_r 0.6926796436309814 loss_kl 3.799794967562775e-07\n",
      "step 7700 loss 0.6923539638519287 loss_r 0.6923505663871765 loss_kl 3.4267836781509686e-06\n",
      "step 7800 loss 0.6925552487373352 loss_r 0.6925554275512695 loss_kl -1.871861314839407e-07\n",
      "step 7900 loss 0.6933160424232483 loss_r 0.6933158040046692 loss_kl 2.2929719989406294e-07\n",
      "step 8000 loss 0.691962480545044 loss_r 0.6919620633125305 loss_kl 4.042757382194395e-07\n",
      "step 8100 loss 0.6928714513778687 loss_r 0.6928713917732239 loss_kl 8.222336589369661e-08\n",
      "step 8200 loss 0.6924949884414673 loss_r 0.6924942135810852 loss_kl 7.843642606530921e-07\n",
      "step 8300 loss 0.6925150156021118 loss_r 0.6925147175788879 loss_kl 2.800641709654883e-07\n",
      "step 8400 loss 0.692155122756958 loss_r 0.692155122756958 loss_kl -2.3302035856431758e-09\n",
      "step 8500 loss 0.692484438419342 loss_r 0.692481279373169 loss_kl 3.1627205316908658e-06\n",
      "step 8600 loss 0.6929023265838623 loss_r 0.6929020881652832 loss_kl 2.096820423957979e-07\n",
      "step 8700 loss 0.6928273439407349 loss_r 0.6928266286849976 loss_kl 7.327680577873252e-07\n",
      "step 8800 loss 0.6923321485519409 loss_r 0.6923307180404663 loss_kl 1.4576053217751905e-06\n",
      "step 8900 loss 0.6929410099983215 loss_r 0.6929409503936768 loss_kl 6.2036605186222e-08\n",
      "step 9000 loss 0.692986786365509 loss_r 0.692986786365509 loss_kl -9.036716264176903e-09\n",
      "step 9100 loss 0.6921228170394897 loss_r 0.6921226978302002 loss_kl 1.0395982030786399e-07\n",
      "step 9200 loss 0.692415177822113 loss_r 0.6924151182174683 loss_kl 4.195830172193382e-08\n",
      "step 9300 loss 0.6927799582481384 loss_r 0.6927798390388489 loss_kl 1.0915522352661355e-07\n",
      "step 9400 loss 0.6921342611312866 loss_r 0.6921295523643494 loss_kl 4.715157501777867e-06\n",
      "step 9500 loss 0.6923739314079285 loss_r 0.692373514175415 loss_kl 3.890470452461159e-07\n",
      "step 9600 loss 0.6927915215492249 loss_r 0.6927911043167114 loss_kl 4.437199265794334e-07\n"
     ]
    },
    {
     "ename": "TypeError",
     "evalue": "'NoneType' object is not iterable",
     "output_type": "error",
     "traceback": [
      "\u001b[0;31m---------------------------------------------------------------------------\u001b[0m",
      "\u001b[0;31mTypeError\u001b[0m                                 Traceback (most recent call last)",
      "\u001b[0;32m/tmp/ipykernel_81516/4090366130.py\u001b[0m in \u001b[0;36m<module>\u001b[0;34m\u001b[0m\n\u001b[1;32m     55\u001b[0m     \u001b[0my_prob\u001b[0m \u001b[0;34m=\u001b[0m \u001b[0;32mNone\u001b[0m\u001b[0;34m\u001b[0m\u001b[0;34m\u001b[0m\u001b[0m\n\u001b[1;32m     56\u001b[0m     \u001b[0my_target\u001b[0m \u001b[0;34m=\u001b[0m \u001b[0;32mNone\u001b[0m\u001b[0;34m\u001b[0m\u001b[0;34m\u001b[0m\u001b[0m\n\u001b[0;32m---> 57\u001b[0;31m     \u001b[0;32mfor\u001b[0m \u001b[0mi_step\u001b[0m\u001b[0;34m,\u001b[0m \u001b[0mdata\u001b[0m \u001b[0;32min\u001b[0m \u001b[0menumerate\u001b[0m\u001b[0;34m(\u001b[0m\u001b[0mval_dataloader\u001b[0m\u001b[0;34m)\u001b[0m \u001b[0;34m:\u001b[0m\u001b[0;34m\u001b[0m\u001b[0;34m\u001b[0m\u001b[0m\n\u001b[0m\u001b[1;32m     58\u001b[0m         \u001b[0mxi\u001b[0m\u001b[0;34m,\u001b[0m \u001b[0mtarget\u001b[0m \u001b[0;34m=\u001b[0m \u001b[0mdata\u001b[0m\u001b[0;34m\u001b[0m\u001b[0;34m\u001b[0m\u001b[0m\n\u001b[1;32m     59\u001b[0m         \u001b[0mxi\u001b[0m \u001b[0;34m=\u001b[0m \u001b[0mxi\u001b[0m\u001b[0;34m.\u001b[0m\u001b[0mto\u001b[0m\u001b[0;34m(\u001b[0m\u001b[0mdevice\u001b[0m\u001b[0;34m)\u001b[0m\u001b[0;34m\u001b[0m\u001b[0;34m\u001b[0m\u001b[0m\n",
      "\u001b[0;31mTypeError\u001b[0m: 'NoneType' object is not iterable"
     ]
    }
   ],
   "source": [
    "# train VAE\n",
    "learning_rate = 1e-3\n",
    "n_epochs = 1\n",
    "device = torch.device('cuda' if torch.cuda.is_available() else 'cpu')\n",
    "print(device)\n",
    "\n",
    "\"\"\"\n",
    "Initialize the network and the Adam optimizer\n",
    "\"\"\"\n",
    "vae_model = VAE().to(device)\n",
    "optimizer = torch.optim.Adam(vae_model.parameters(), lr=learning_rate)\n",
    "early_stopping = EarlyStopping(patience = 5, verbose = True, path = result_path, checkpoint_name='vae_model.pt')\n",
    "\n",
    "\n",
    "\n",
    "\"\"\"\n",
    "Training the network for a given number of epochs\n",
    "The loss after every epoch is printed\n",
    "\"\"\"\n",
    "# 모델이 학습되는 동안 trainning loss를 track\n",
    "train_losses = []\n",
    "# 모델이 학습되는 동안 validation loss를 track\n",
    "valid_losses = []\n",
    "# epoch당 average training loss를 track\n",
    "avg_train_losses = []\n",
    "# epoch당 average validation loss를 track\n",
    "avg_valid_losses = []\n",
    "\n",
    "\n",
    "for epoch in range(n_epochs):\n",
    "    print(f'Epoch {epoch}')\n",
    "    vae_model.train()\n",
    "    for i_step, data in enumerate(train_dataloader):\n",
    "        xi, target = data\n",
    "        xi = xi.to(device)\n",
    "        batch_size = len(xi) \n",
    "        # Feeding a batch of images into the network to obtain the output image, mu, and logVar\n",
    "        out, mu, logVar = vae_model(xi)\n",
    "        assert (~out.isnan()).sum()>0\n",
    "        # The loss is the BCE loss combined with the KL divergence to ensure the distribution is learnt\n",
    "        # kl_divergence = 0.5 * torch.sum(-1 - logVar + mu.pow(2) + logVar.exp())\n",
    "        # loss = F.binary_cross_entropy(out, xi, size_average=False) + kl_divergence\n",
    "        loss, loss_r, loss_kl = calculate_vae_loss(out, mu, logVar, xi, batch_size)\n",
    "\n",
    "        # Backpropagation based on the loss\n",
    "        optimizer.zero_grad()\n",
    "        loss.backward()\n",
    "        optimizer.step()\n",
    "        if i_step%100==0: print('step', i_step, 'loss', loss.item(), 'loss_r', loss_r.item(), 'loss_kl', loss_kl.item())\n",
    "\n",
    "    ######################    \n",
    "    # validate the model #\n",
    "    ######################\n",
    "    vae_model.eval() # prep model for evaluation\n",
    "    y_prob = None\n",
    "    y_target = None\n",
    "    for i_step, data in enumerate(val_dataloader) :\n",
    "        xi, target = data\n",
    "        xi = xi.to(device)\n",
    "        batch_size = len(xi)\n",
    "\n",
    "        out, mu, logVar = vae_model(xi)\n",
    "        loss, loss_r, loss_kl = calculate_vae_loss(out, mu, logVar, xi, batch_size)\n",
    "\n",
    "        valid_losses.append(loss.item())\n",
    "\n",
    "\n",
    "    train_loss = np.average(train_losses)\n",
    "    valid_loss = np.average(valid_losses)\n",
    "        \n",
    "    epoch_len = len(str(n_epochs))\n",
    "\n",
    "\n",
    "    print_msg = (f'[{epoch:>{epoch_len}}/{n_epochs:>{epoch_len}}] ' +\n",
    "                    f'train_loss: {train_loss:.5f} ' +\n",
    "                    f'valid_loss: {valid_loss:.5f}')\n",
    "\n",
    "    print(print_msg)\n",
    "\n",
    "    # clear lists to track next epoch\n",
    "    train_losses = []\n",
    "    valid_losses = []\n",
    "\n",
    "    early_stopping(valid_loss, vae_model)\n",
    "    if early_stopping.early_stop:\n",
    "        print(\"Early stopping\")\n",
    "        break\n"
   ]
  },
  {
   "cell_type": "code",
   "execution_count": 16,
   "metadata": {},
   "outputs": [
    {
     "data": {
      "text/plain": [
       "VAE(\n",
       "  (encoder_conv): Sequential(\n",
       "    (0): Conv1d(2, 16, kernel_size=(5,), stride=(1,), padding=same, padding_mode=replicate)\n",
       "    (1): BatchNorm1d(16, eps=1e-05, momentum=0.1, affine=True, track_running_stats=True)\n",
       "    (2): ReLU()\n",
       "    (3): MaxPool1d(kernel_size=4, stride=4, padding=0, dilation=1, ceil_mode=False)\n",
       "    (4): Conv1d(16, 32, kernel_size=(5,), stride=(1,), padding=same, padding_mode=replicate)\n",
       "    (5): BatchNorm1d(32, eps=1e-05, momentum=0.1, affine=True, track_running_stats=True)\n",
       "    (6): ReLU()\n",
       "    (7): MaxPool1d(kernel_size=4, stride=4, padding=0, dilation=1, ceil_mode=False)\n",
       "    (8): Conv1d(32, 64, kernel_size=(5,), stride=(1,), padding=same, padding_mode=replicate)\n",
       "    (9): BatchNorm1d(64, eps=1e-05, momentum=0.1, affine=True, track_running_stats=True)\n",
       "    (10): ReLU()\n",
       "  )\n",
       "  (decoder_conv): Sequential(\n",
       "    (0): ConvTranspose1d(64, 32, kernel_size=(5,), stride=(1,), padding=(2,))\n",
       "    (1): BatchNorm1d(32, eps=1e-05, momentum=0.1, affine=True, track_running_stats=True)\n",
       "    (2): ReLU()\n",
       "    (3): Upsample(scale_factor=4.0, mode=linear)\n",
       "    (4): ConvTranspose1d(32, 16, kernel_size=(5,), stride=(1,), padding=(2,))\n",
       "    (5): BatchNorm1d(16, eps=1e-05, momentum=0.1, affine=True, track_running_stats=True)\n",
       "    (6): ReLU()\n",
       "    (7): Upsample(scale_factor=4.0, mode=linear)\n",
       "    (8): ConvTranspose1d(16, 2, kernel_size=(5,), stride=(1,), padding=(2,))\n",
       "    (9): BatchNorm1d(2, eps=1e-05, momentum=0.1, affine=True, track_running_stats=True)\n",
       "    (10): ReLU()\n",
       "  )\n",
       "  (encFC1): Linear(in_features=30, out_features=128, bias=True)\n",
       "  (encFC2): Linear(in_features=30, out_features=128, bias=True)\n",
       "  (decFC1): Linear(in_features=128, out_features=30, bias=True)\n",
       ")"
      ]
     },
     "execution_count": 16,
     "metadata": {},
     "output_type": "execute_result"
    }
   ],
   "source": [
    "vae_model.eval()"
   ]
  },
  {
   "cell_type": "code",
   "execution_count": 8,
   "metadata": {},
   "outputs": [
    {
     "name": "stdout",
     "output_type": "stream",
     "text": [
      "cuda\n"
     ]
    }
   ],
   "source": [
    "device = torch.device('cuda' if torch.cuda.is_available() else 'cpu')\n",
    "print(device)"
   ]
  },
  {
   "cell_type": "code",
   "execution_count": 9,
   "metadata": {},
   "outputs": [],
   "source": [
    "ventdys_model = AsynchModel(input_dim=2, padding_mode='replicate').to(device)"
   ]
  },
  {
   "cell_type": "code",
   "execution_count": 78,
   "metadata": {},
   "outputs": [
    {
     "data": {
      "text/plain": [
       "_IncompatibleKeys(missing_keys=['classifier.0.weight', 'classifier.0.bias', 'classifier.2.weight', 'classifier.2.bias'], unexpected_keys=['decoder_conv.0.weight', 'decoder_conv.0.bias', 'decoder_conv.1.weight', 'decoder_conv.1.bias', 'decoder_conv.1.running_mean', 'decoder_conv.1.running_var', 'decoder_conv.1.num_batches_tracked', 'decoder_conv.4.weight', 'decoder_conv.4.bias', 'decoder_conv.5.weight', 'decoder_conv.5.bias', 'decoder_conv.5.running_mean', 'decoder_conv.5.running_var', 'decoder_conv.5.num_batches_tracked', 'decoder_conv.8.weight', 'decoder_conv.8.bias', 'decoder_conv.9.weight', 'decoder_conv.9.bias', 'decoder_conv.9.running_mean', 'decoder_conv.9.running_var', 'decoder_conv.9.num_batches_tracked', 'encFC1.weight', 'encFC1.bias', 'encFC2.weight', 'encFC2.bias', 'decFC1.weight', 'decFC1.bias'])"
      ]
     },
     "execution_count": 78,
     "metadata": {},
     "output_type": "execute_result"
    }
   ],
   "source": [
    "ventdys_model.load_state_dict(vae_model.state_dict(), strict=False)"
   ]
  },
  {
   "cell_type": "code",
   "execution_count": 73,
   "metadata": {},
   "outputs": [
    {
     "name": "stdout",
     "output_type": "stream",
     "text": [
      "----------------------------------------------------------------\n",
      "        Layer (type)               Output Shape         Param #\n",
      "================================================================\n",
      "            Conv1d-1              [-1, 16, 480]             176\n",
      "       BatchNorm1d-2              [-1, 16, 480]              32\n",
      "              ReLU-3              [-1, 16, 480]               0\n",
      "         MaxPool1d-4              [-1, 16, 120]               0\n",
      "            Conv1d-5              [-1, 32, 120]           2,592\n",
      "       BatchNorm1d-6              [-1, 32, 120]              64\n",
      "              ReLU-7              [-1, 32, 120]               0\n",
      "         MaxPool1d-8               [-1, 32, 30]               0\n",
      "            Conv1d-9               [-1, 64, 30]          10,304\n",
      "      BatchNorm1d-10               [-1, 64, 30]             128\n",
      "             ReLU-11               [-1, 64, 30]               0\n",
      "AdaptiveAvgPool1d-12                [-1, 64, 1]               0\n",
      "          Flatten-13                   [-1, 64]               0\n",
      "           Linear-14                   [-1, 32]           2,080\n",
      "             ReLU-15                   [-1, 32]               0\n",
      "           Linear-16                    [-1, 2]              66\n",
      "================================================================\n",
      "Total params: 15,442\n",
      "Trainable params: 15,442\n",
      "Non-trainable params: 0\n",
      "----------------------------------------------------------------\n",
      "Input size (MB): 0.00\n",
      "Forward/backward pass size (MB): 0.33\n",
      "Params size (MB): 0.06\n",
      "Estimated Total Size (MB): 0.39\n",
      "----------------------------------------------------------------\n"
     ]
    }
   ],
   "source": [
    "summary(ventdys_model, input_size=(2, 480), device='cuda')"
   ]
  },
  {
   "cell_type": "code",
   "execution_count": 26,
   "metadata": {},
   "outputs": [],
   "source": [
    "dat_snu = pd.read_pickle('/VOLUME/nia_vent_asynchrony/data/processed_data/snu/instance_with_label_snu_239107_2022-08-25.pkl')\n",
    "dat_aju = pd.read_pickle('/VOLUME/nia_vent_asynchrony/data/processed_data/aju/instance_with_label_aju_295433_2022-08-25.pkl')\n",
    "dat = pd.concat([dat_snu, dat_aju], axis=0)"
   ]
  },
  {
   "cell_type": "code",
   "execution_count": 4,
   "metadata": {},
   "outputs": [],
   "source": [
    "dat['split'] = 'train'\n",
    "dat.loc[dat['hospital_id_patient_id']=='2-007','split'] = 'valid'\n",
    "dat.loc[dat['hospital_id_patient_id']=='1-002','split'] = 'test'\n",
    "dat.loc[dat['hospital_id_patient_id']=='2-002','split'] = 'test'"
   ]
  },
  {
   "cell_type": "code",
   "execution_count": 37,
   "metadata": {},
   "outputs": [
    {
     "data": {
      "text/plain": [
       "train    340296\n",
       "valid    106935\n",
       "test      86888\n",
       "Name: split, dtype: int64"
      ]
     },
     "execution_count": 37,
     "metadata": {},
     "output_type": "execute_result"
    }
   ],
   "source": [
    "dat['split'].value_counts()"
   ]
  },
  {
   "cell_type": "code",
   "execution_count": 45,
   "metadata": {},
   "outputs": [
    {
     "data": {
      "text/html": [
       "<div>\n",
       "<style scoped>\n",
       "    .dataframe tbody tr th:only-of-type {\n",
       "        vertical-align: middle;\n",
       "    }\n",
       "\n",
       "    .dataframe tbody tr th {\n",
       "        vertical-align: top;\n",
       "    }\n",
       "\n",
       "    .dataframe thead th {\n",
       "        text-align: right;\n",
       "    }\n",
       "</style>\n",
       "<table border=\"1\" class=\"dataframe\">\n",
       "  <thead>\n",
       "    <tr style=\"text-align: right;\">\n",
       "      <th>split</th>\n",
       "      <th>test</th>\n",
       "      <th>train</th>\n",
       "      <th>valid</th>\n",
       "    </tr>\n",
       "    <tr>\n",
       "      <th>label</th>\n",
       "      <th></th>\n",
       "      <th></th>\n",
       "      <th></th>\n",
       "    </tr>\n",
       "  </thead>\n",
       "  <tbody>\n",
       "    <tr>\n",
       "      <th>0</th>\n",
       "      <td>86441</td>\n",
       "      <td>338538</td>\n",
       "      <td>104826</td>\n",
       "    </tr>\n",
       "    <tr>\n",
       "      <th>1</th>\n",
       "      <td>10</td>\n",
       "      <td>63</td>\n",
       "      <td>6</td>\n",
       "    </tr>\n",
       "    <tr>\n",
       "      <th>2</th>\n",
       "      <td>339</td>\n",
       "      <td>1353</td>\n",
       "      <td>1750</td>\n",
       "    </tr>\n",
       "    <tr>\n",
       "      <th>3</th>\n",
       "      <td>98</td>\n",
       "      <td>342</td>\n",
       "      <td>353</td>\n",
       "    </tr>\n",
       "  </tbody>\n",
       "</table>\n",
       "</div>"
      ],
      "text/plain": [
       "split   test   train   valid\n",
       "label                       \n",
       "0      86441  338538  104826\n",
       "1         10      63       6\n",
       "2        339    1353    1750\n",
       "3         98     342     353"
      ]
     },
     "execution_count": 45,
     "metadata": {},
     "output_type": "execute_result"
    }
   ],
   "source": [
    "pd.crosstab(dat['label'], dat['split'])"
   ]
  },
  {
   "cell_type": "code",
   "execution_count": 10,
   "metadata": {},
   "outputs": [
    {
     "name": "stdout",
     "output_type": "stream",
     "text": [
      "no of train, val, test 339439 117633 93263\n"
     ]
    },
    {
     "name": "stderr",
     "output_type": "stream",
     "text": [
      "/VOLUME/nia_vent_asynchrony/module/datasets.py:83: RuntimeWarning: All-NaN slice encountered\n",
      "  min_stat = np.nanmin(X_test, axis=1) # (instance, 2)\n",
      "/VOLUME/nia_vent_asynchrony/module/datasets.py:84: RuntimeWarning: All-NaN slice encountered\n",
      "  max_stat = np.nanmax(X_test, axis=1) # (instance, 2)\n"
     ]
    },
    {
     "name": "stdout",
     "output_type": "stream",
     "text": [
      "x_data (339439, 480, 2)\n",
      "trans x_data torch.Size([339439, 2, 480])\n",
      "trans y_data torch.Size([339439, 1, 1])\n",
      "x_data (93263, 480, 2)\n",
      "trans x_data torch.Size([93263, 2, 480])\n",
      "trans y_data torch.Size([93263, 1, 1])\n",
      "x_data (117633, 480, 2)\n",
      "trans x_data torch.Size([117633, 2, 480])\n",
      "trans y_data torch.Size([117633, 1, 1])\n",
      "X.shape (339439, 480, 2) (117633, 480, 2) (93263, 480, 2)\n",
      "Y class distribution 0.004159804853254987 0.014927783857482353 0.005393349982958568\n"
     ]
    }
   ],
   "source": [
    "train_dataloader, val_dataloader, test_dataloader = preprocess_data(dat, set_train_weightedsampler=True, scale=True)"
   ]
  },
  {
   "cell_type": "code",
   "execution_count": 13,
   "metadata": {},
   "outputs": [
    {
     "data": {
      "text/plain": [
       "'/VOLUME/nia_vent_asynchrony/result/baseline_220818/train/2022-08-26-10-32-15'"
      ]
     },
     "execution_count": 13,
     "metadata": {},
     "output_type": "execute_result"
    }
   ],
   "source": [
    "result_path"
   ]
  },
  {
   "cell_type": "code",
   "execution_count": 14,
   "metadata": {},
   "outputs": [
    {
     "name": "stdout",
     "output_type": "stream",
     "text": [
      "Epoch 0\n",
      "epoch 0 loss 0.35173720121383667\n",
      "[ 0/50] train_loss: 0.72927 valid_loss: 2.26298\n",
      "Validation loss decreased (inf --> 2.262985).  Saving model ...\n",
      "Epoch 1\n",
      "epoch 1 loss 0.31655657291412354\n",
      "[ 1/50] train_loss: 0.42231 valid_loss: 2.27667\n",
      "EarlyStopping counter: 1 out of 10\n",
      "Epoch 2\n",
      "epoch 2 loss 0.3059040606021881\n",
      "[ 2/50] train_loss: 0.30515 valid_loss: 1.64345\n",
      "Validation loss decreased (2.262985 --> 1.643449).  Saving model ...\n",
      "Epoch 3\n",
      "epoch 3 loss 0.23901963233947754\n",
      "[ 3/50] train_loss: 0.26836 valid_loss: 2.59644\n",
      "EarlyStopping counter: 1 out of 10\n",
      "Epoch 4\n",
      "epoch 4 loss 0.1927817463874817\n",
      "[ 4/50] train_loss: 0.24735 valid_loss: 2.00475\n",
      "EarlyStopping counter: 2 out of 10\n",
      "Epoch 5\n",
      "epoch 5 loss 0.22639068961143494\n",
      "[ 5/50] train_loss: 0.22329 valid_loss: 0.59842\n",
      "Validation loss decreased (1.643449 --> 0.598416).  Saving model ...\n",
      "Epoch 6\n",
      "epoch 6 loss 0.13956838846206665\n",
      "[ 6/50] train_loss: 0.19086 valid_loss: 1.18545\n",
      "EarlyStopping counter: 1 out of 10\n",
      "Epoch 7\n",
      "epoch 7 loss 0.13200461864471436\n",
      "[ 7/50] train_loss: 0.19623 valid_loss: 0.56965\n",
      "Validation loss decreased (0.598416 --> 0.569650).  Saving model ...\n",
      "Epoch 8\n",
      "epoch 8 loss 0.18110337853431702\n",
      "[ 8/50] train_loss: 0.16305 valid_loss: 0.44435\n",
      "Validation loss decreased (0.569650 --> 0.444351).  Saving model ...\n",
      "Epoch 9\n",
      "epoch 9 loss 0.12480317056179047\n",
      "[ 9/50] train_loss: 0.16405 valid_loss: 0.41142\n",
      "Validation loss decreased (0.444351 --> 0.411418).  Saving model ...\n",
      "Epoch 10\n",
      "epoch 10 loss 0.18324171006679535\n",
      "[10/50] train_loss: 0.12853 valid_loss: 0.66132\n",
      "EarlyStopping counter: 1 out of 10\n",
      "Epoch 11\n",
      "epoch 11 loss 0.0672471672296524\n",
      "[11/50] train_loss: 0.13661 valid_loss: 0.43788\n",
      "EarlyStopping counter: 2 out of 10\n",
      "Epoch 12\n",
      "epoch 12 loss 0.20844438672065735\n",
      "[12/50] train_loss: 0.11546 valid_loss: 1.15821\n",
      "EarlyStopping counter: 3 out of 10\n",
      "Epoch 13\n",
      "epoch 13 loss 0.06300193816423416\n",
      "[13/50] train_loss: 0.12117 valid_loss: 0.33254\n",
      "Validation loss decreased (0.411418 --> 0.332537).  Saving model ...\n",
      "Epoch 14\n",
      "epoch 14 loss 0.05858047679066658\n",
      "[14/50] train_loss: 0.11930 valid_loss: 0.92300\n",
      "EarlyStopping counter: 1 out of 10\n",
      "Epoch 15\n",
      "epoch 15 loss 0.1561875343322754\n",
      "[15/50] train_loss: 0.09472 valid_loss: 0.58605\n",
      "EarlyStopping counter: 2 out of 10\n",
      "Epoch 16\n",
      "epoch 16 loss 0.053264591842889786\n",
      "[16/50] train_loss: 0.09845 valid_loss: 0.57097\n",
      "EarlyStopping counter: 3 out of 10\n",
      "Epoch 17\n",
      "epoch 17 loss 0.06110747158527374\n",
      "[17/50] train_loss: 0.07847 valid_loss: 0.60298\n",
      "EarlyStopping counter: 4 out of 10\n",
      "Epoch 18\n",
      "epoch 18 loss 0.11835459619760513\n",
      "[18/50] train_loss: 0.08873 valid_loss: 0.21108\n",
      "Validation loss decreased (0.332537 --> 0.211084).  Saving model ...\n",
      "Epoch 19\n",
      "epoch 19 loss 0.029570966958999634\n",
      "[19/50] train_loss: 0.06906 valid_loss: 0.27495\n",
      "EarlyStopping counter: 1 out of 10\n",
      "Epoch 20\n",
      "epoch 20 loss 0.03426411375403404\n",
      "[20/50] train_loss: 0.07263 valid_loss: 0.49445\n",
      "EarlyStopping counter: 2 out of 10\n",
      "Epoch 21\n",
      "epoch 21 loss 0.03840940445661545\n",
      "[21/50] train_loss: 0.06413 valid_loss: 1.31476\n",
      "EarlyStopping counter: 3 out of 10\n",
      "Epoch 22\n",
      "epoch 22 loss 0.020722342655062675\n",
      "[22/50] train_loss: 0.08239 valid_loss: 0.23441\n",
      "EarlyStopping counter: 4 out of 10\n",
      "Epoch 23\n",
      "epoch 23 loss 0.10317683964967728\n",
      "[23/50] train_loss: 0.07463 valid_loss: 0.99404\n",
      "EarlyStopping counter: 5 out of 10\n",
      "Epoch 24\n",
      "epoch 24 loss 0.05567855015397072\n",
      "[24/50] train_loss: 0.06412 valid_loss: 0.15614\n",
      "Validation loss decreased (0.211084 --> 0.156144).  Saving model ...\n",
      "Epoch 25\n",
      "epoch 25 loss 0.10173938423395157\n",
      "[25/50] train_loss: 0.06017 valid_loss: 0.33779\n",
      "EarlyStopping counter: 1 out of 10\n",
      "Epoch 26\n",
      "epoch 26 loss 0.01917027123272419\n",
      "[26/50] train_loss: 0.07587 valid_loss: 0.26133\n",
      "EarlyStopping counter: 2 out of 10\n",
      "Epoch 27\n",
      "epoch 27 loss 0.08274739235639572\n",
      "[27/50] train_loss: 0.05955 valid_loss: 0.96328\n",
      "EarlyStopping counter: 3 out of 10\n",
      "Epoch 28\n",
      "epoch 28 loss 0.27070921659469604\n",
      "[28/50] train_loss: 0.08726 valid_loss: 3.95304\n",
      "EarlyStopping counter: 4 out of 10\n",
      "Epoch 29\n",
      "epoch 29 loss 0.029315713793039322\n",
      "[29/50] train_loss: 0.07128 valid_loss: 0.17832\n",
      "EarlyStopping counter: 5 out of 10\n",
      "Epoch 30\n",
      "epoch 30 loss 0.05489754676818848\n",
      "[30/50] train_loss: 0.04240 valid_loss: 0.20004\n",
      "EarlyStopping counter: 6 out of 10\n",
      "Epoch 31\n",
      "epoch 31 loss 0.07286296784877777\n",
      "[31/50] train_loss: 0.04004 valid_loss: 0.40718\n",
      "EarlyStopping counter: 7 out of 10\n",
      "Epoch 32\n",
      "epoch 32 loss 0.06546958535909653\n",
      "[32/50] train_loss: 0.05434 valid_loss: 0.20353\n",
      "EarlyStopping counter: 8 out of 10\n",
      "Epoch 33\n",
      "epoch 33 loss 0.04707718268036842\n",
      "[33/50] train_loss: 0.04056 valid_loss: 0.29015\n",
      "EarlyStopping counter: 9 out of 10\n",
      "Epoch 34\n",
      "epoch 34 loss 0.02939513325691223\n",
      "[34/50] train_loss: 0.03392 valid_loss: 0.22396\n",
      "EarlyStopping counter: 10 out of 10\n",
      "Early stopping\n"
     ]
    }
   ],
   "source": [
    "n_epochs = 50\n",
    "learning_rate = 1e-3\n",
    "optimizer = torch.optim.Adam(ventdys_model.parameters(), lr=learning_rate)\n",
    "early_stopping = EarlyStopping(patience = 10, verbose = True, path = result_path, checkpoint_name='ventdys_model.pt')\n",
    "\n",
    "\n",
    "\"\"\"\n",
    "Training the network for a given number of epochs\n",
    "The loss after every epoch is printed\n",
    "\"\"\"\n",
    "# 모델이 학습되는 동안 trainning loss를 track\n",
    "train_losses = []\n",
    "# 모델이 학습되는 동안 validation loss를 track\n",
    "valid_losses = []\n",
    "# epoch당 average training loss를 track\n",
    "avg_train_losses = []\n",
    "# epoch당 average validation loss를 track\n",
    "avg_valid_losses = []\n",
    "\n",
    "\n",
    "for epoch in range(n_epochs):\n",
    "    print(f'Epoch {epoch}')\n",
    "\n",
    "    ventdys_model.train()\n",
    "    for i_step, data in enumerate(train_dataloader):\n",
    "        xi, target = data\n",
    "        xi = xi.to(device)\n",
    "        target = target.to(device).squeeze(-1).squeeze(-1).float()\n",
    "        out = ventdys_model(xi)\n",
    "\n",
    "        loss = calculate_bce_loss(out[:,1], target)\n",
    "\n",
    "        optimizer.zero_grad()\n",
    "        loss.backward()\n",
    "        optimizer.step()\n",
    "\n",
    "        train_losses.append(loss.item())\n",
    "\n",
    "        # print('step', i_step, 'loss', loss.item())\n",
    "    print('epoch', epoch, 'loss', loss.item())\n",
    "    \n",
    "    ######################    \n",
    "    # validate the model #\n",
    "    ######################\n",
    "    ventdys_model.eval() # prep model for evaluation\n",
    "    # y_prob = None\n",
    "    # y_target = None\n",
    "    for i_step, data in enumerate(val_dataloader) :\n",
    "        xi, target = data\n",
    "        xi = xi.to(device)\n",
    "        batch_size = len(xi)\n",
    "        target = target.to(device).squeeze(-1).squeeze(-1).float()\n",
    "        out = ventdys_model(xi)\n",
    "        loss = calculate_bce_loss(out[:,1], target)\n",
    "        \n",
    "        valid_losses.append(loss.item())\n",
    "\n",
    "\n",
    "    train_loss = np.average(train_losses)\n",
    "    valid_loss = np.average(valid_losses)\n",
    "        \n",
    "    epoch_len = len(str(n_epochs))\n",
    "\n",
    "\n",
    "    print_msg = (f'[{epoch:>{epoch_len}}/{n_epochs:>{epoch_len}}] ' +\n",
    "                    f'train_loss: {train_loss:.5f} ' +\n",
    "                    f'valid_loss: {valid_loss:.5f}')\n",
    "\n",
    "    print(print_msg)\n",
    "\n",
    "    # clear lists to track next epoch\n",
    "    train_losses = []\n",
    "    valid_losses = []\n",
    "\n",
    "    early_stopping(valid_loss, ventdys_model)\n",
    "    if early_stopping.early_stop:\n",
    "        print(\"Early stopping\")\n",
    "        break\n",
    "\n"
   ]
  },
  {
   "cell_type": "code",
   "execution_count": 15,
   "metadata": {},
   "outputs": [
    {
     "data": {
      "text/plain": [
       "34"
      ]
     },
     "execution_count": 15,
     "metadata": {},
     "output_type": "execute_result"
    }
   ],
   "source": [
    "epoch"
   ]
  },
  {
   "cell_type": "code",
   "execution_count": 12,
   "metadata": {},
   "outputs": [
    {
     "name": "stdout",
     "output_type": "stream",
     "text": [
      "step 0 loss 0.7082130908966064\n"
     ]
    }
   ],
   "source": [
    "# predict testset \n",
    "ventdys_model.eval()\n",
    "\n",
    "y_prob = None\n",
    "for i_step, data in enumerate(test_dataloader):\n",
    "    xi, target = data\n",
    "    xi = xi.to(device)\n",
    "    target = target.to(device).squeeze(-1).squeeze(-1).float() # torch.Size([bs, 1])\n",
    "    out = ventdys_model(xi)\n",
    "\n",
    "    \n",
    "    loss = calculate_bce_loss(out[:,1], target)\n",
    "\n",
    "    prob = F.softmax(out, dim=1)[:,1].detach().cpu()\n",
    "    # pred = y_proba>0.5\n",
    "    y_prob = prob if y_prob is None else torch.cat([y_prob, prob])\n",
    "\n",
    "    # pred_list.append(out.detach().cpu().numpy())\n",
    "    if i_step%1000==0: print('step', i_step, 'loss', loss.item())\n"
   ]
  },
  {
   "cell_type": "code",
   "execution_count": 11,
   "metadata": {},
   "outputs": [],
   "source": [
    "testset = test_dataloader.dataset"
   ]
  },
  {
   "cell_type": "code",
   "execution_count": 18,
   "metadata": {},
   "outputs": [
    {
     "data": {
      "text/plain": [
       "{'auroc': 0.74,\n",
       " 'auprc': 0.01,\n",
       " 'prec': 0.0,\n",
       " 'recall': 0.01,\n",
       " 'f1': 0.0,\n",
       " 'f2': 0.0,\n",
       " 'specificity': 0.98,\n",
       " 'tn': 91228.0,\n",
       " 'fp': 1856.0,\n",
       " 'fn': 178.0,\n",
       " 'tp': 1.0,\n",
       " 'auprcf1': 0.01}"
      ]
     },
     "execution_count": 18,
     "metadata": {},
     "output_type": "execute_result"
    }
   ],
   "source": [
    "# vae 안했을때 \n",
    "# 아마 /VOLUME/nia_vent_asynchrony/result/baseline_220818/train/2022-08-23-09-40-08/checkpoint.pt\n",
    "# testset_target = abnomal_testset.y_data.squeeze(-1).float()\n",
    "testset_target = testset.y_data.squeeze(-1).float()\n",
    "metrics = ['prec','recall','f1','f2','specificity',\n",
    "                     'tn','fp','fn','tp',\n",
    "                     'auroc','auprc']\n",
    "test_perf = calculate_any_metrics(testset_target, metrics, probs=y_prob, threshold=0.5)\n",
    "test_perf"
   ]
  },
  {
   "cell_type": "code",
   "execution_count": 16,
   "metadata": {},
   "outputs": [],
   "source": [
    "# vae 안했을때 \n",
    "# 아마 /VOLUME/nia_vent_asynchrony/result/baseline_220818/train/2022-08-23-09-40-08/checkpoint.pt\n",
    "# testset_target = abnomal_testset.y_data.squeeze(-1).float()\n",
    "testset_target = testset.y_data.squeeze(-1).float()\n",
    "metrics = ['prec','recall','f1','f2','specificity',\n",
    "                     'tn','fp','fn','tp',\n",
    "                     'auroc','auprc']\n",
    "test_perf = calculate_any_metrics(testset_target, metrics, probs=y_prob, threshold=0.5)"
   ]
  },
  {
   "cell_type": "code",
   "execution_count": 90,
   "metadata": {},
   "outputs": [
    {
     "data": {
      "text/plain": [
       "{'auroc': 0.47,\n",
       " 'auprc': 0.0,\n",
       " 'prec': 0.0,\n",
       " 'recall': 0.08,\n",
       " 'f1': 0.0,\n",
       " 'f2': 0.01,\n",
       " 'specificity': 0.82,\n",
       " 'tn': 75772.0,\n",
       " 'fp': 16988.0,\n",
       " 'fn': 462.0,\n",
       " 'tp': 41.0,\n",
       " 'auprcf1': 0.01}"
      ]
     },
     "execution_count": 90,
     "metadata": {},
     "output_type": "execute_result"
    }
   ],
   "source": [
    "# vae 했을때 \n",
    "\n",
    "# testset_target = abnomal_testset.y_data.squeeze(-1).float()\n",
    "testset_target = testset.y_data.squeeze(-1).float()\n",
    "metrics = ['prec','recall','f1','f2','specificity',\n",
    "                     'tn','fp','fn','tp',\n",
    "                     'auroc','auprc']\n",
    "test_perf = calculate_any_metrics(testset_target, metrics, probs=y_prob, threshold=0.5)\n",
    "test_perf"
   ]
  },
  {
   "cell_type": "code",
   "execution_count": 25,
   "metadata": {},
   "outputs": [
    {
     "data": {
      "text/plain": [
       "{'auroc': 0.74,\n",
       " 'auprc': 0.01,\n",
       " 'prec': 0.01,\n",
       " 'recall': 0.5,\n",
       " 'f1': 0.01,\n",
       " 'f2': 0.03,\n",
       " 'specificity': 0.85,\n",
       " 'tn': 79530.0,\n",
       " 'fp': 13554.0,\n",
       " 'fn': 89.0,\n",
       " 'tp': 90.0,\n",
       " 'auprcf1': 0.02}"
      ]
     },
     "execution_count": 25,
     "metadata": {},
     "output_type": "execute_result"
    }
   ],
   "source": [
    "# vae 왕창 했을때 \n",
    "# testset_target = abnomal_testset.y_data.squeeze(-1).float()\n",
    "testset_target = testset.y_data.squeeze(-1).float()\n",
    "metrics = ['prec','recall','f1','f2','specificity',\n",
    "                     'tn','fp','fn','tp',\n",
    "                     'auroc','auprc']\n",
    "test_perf = calculate_any_metrics(testset_target, metrics, probs=y_prob, threshold=0.001)\n",
    "test_perf"
   ]
  },
  {
   "cell_type": "code",
   "execution_count": 23,
   "metadata": {},
   "outputs": [
    {
     "data": {
      "text/plain": [
       "(7,)"
      ]
     },
     "execution_count": 23,
     "metadata": {},
     "output_type": "execute_result"
    }
   ],
   "source": [
    "np.percentile(y_prob, perc).shape"
   ]
  },
  {
   "cell_type": "code",
   "execution_count": 27,
   "metadata": {},
   "outputs": [
    {
     "data": {
      "text/plain": [
       "tensor(1.0000)"
      ]
     },
     "execution_count": 27,
     "metadata": {},
     "output_type": "execute_result"
    }
   ],
   "source": [
    "y_prob.max()"
   ]
  },
  {
   "cell_type": "code",
   "execution_count": 13,
   "metadata": {},
   "outputs": [
    {
     "data": {
      "text/html": [
       "<div>\n",
       "<style scoped>\n",
       "    .dataframe tbody tr th:only-of-type {\n",
       "        vertical-align: middle;\n",
       "    }\n",
       "\n",
       "    .dataframe tbody tr th {\n",
       "        vertical-align: top;\n",
       "    }\n",
       "\n",
       "    .dataframe thead th {\n",
       "        text-align: right;\n",
       "    }\n",
       "</style>\n",
       "<table border=\"1\" class=\"dataframe\">\n",
       "  <thead>\n",
       "    <tr style=\"text-align: right;\">\n",
       "      <th></th>\n",
       "      <th>0.05</th>\n",
       "      <th>0.10</th>\n",
       "      <th>0.25</th>\n",
       "      <th>0.50</th>\n",
       "      <th>0.75</th>\n",
       "      <th>0.90</th>\n",
       "      <th>0.95</th>\n",
       "    </tr>\n",
       "  </thead>\n",
       "  <tbody>\n",
       "    <tr>\n",
       "      <th>y_prob</th>\n",
       "      <td>0.548583</td>\n",
       "      <td>0.548583</td>\n",
       "      <td>0.548583</td>\n",
       "      <td>0.548583</td>\n",
       "      <td>0.548583</td>\n",
       "      <td>0.548583</td>\n",
       "      <td>0.548583</td>\n",
       "    </tr>\n",
       "  </tbody>\n",
       "</table>\n",
       "</div>"
      ],
      "text/plain": [
       "            0.05      0.10      0.25      0.50      0.75      0.90      0.95\n",
       "y_prob  0.548583  0.548583  0.548583  0.548583  0.548583  0.548583  0.548583"
      ]
     },
     "execution_count": 13,
     "metadata": {},
     "output_type": "execute_result"
    }
   ],
   "source": [
    "perc =  [.05, .1 , .25, .5, .75, .9, .95]\n",
    "percentile = pd.DataFrame(np.percentile(y_prob, perc).reshape(1, -1), columns=perc, index=['y_prob'])\n",
    "percentile.to_csv(osp.join(result_path, 'y_prob_percentile.csv'))\n",
    "percentile"
   ]
  },
  {
   "cell_type": "code",
   "execution_count": 20,
   "metadata": {},
   "outputs": [
    {
     "data": {
      "text/plain": [
       "1.2509244473808495e-25"
      ]
     },
     "execution_count": 20,
     "metadata": {},
     "output_type": "execute_result"
    }
   ],
   "source": [
    "np.percentile(y_prob, .3)"
   ]
  },
  {
   "cell_type": "code",
   "execution_count": 21,
   "metadata": {},
   "outputs": [
    {
     "data": {
      "text/plain": [
       "<AxesSubplot:>"
      ]
     },
     "execution_count": 21,
     "metadata": {},
     "output_type": "execute_result"
    },
    {
     "data": {
      "image/png": "[encoded data removed]",
      "text/plain": [
       "<Figure size 432x288 with 1 Axes>"
      ]
     },
     "metadata": {
      "needs_background": "light"
     },
     "output_type": "display_data"
    }
   ],
   "source": [
    "pd.Series(y_prob).hist()"
   ]
  },
  {
   "cell_type": "code",
   "execution_count": 50,
   "metadata": {},
   "outputs": [
    {
     "name": "stderr",
     "output_type": "stream",
     "text": [
      "/tmp/ipykernel_151376/2223798902.py:1: DeprecationWarning: Calling np.sum(generator) is deprecated, and in the future will give a different result. Use np.sum(np.fromiter(generator)) or the python sum builtin instead.\n",
      "  np.sum(test_perf[i] for i in ['tn','tp','fn','fp'])\n"
     ]
    },
    {
     "data": {
      "text/plain": [
       "110067.0"
      ]
     },
     "execution_count": 50,
     "metadata": {},
     "output_type": "execute_result"
    }
   ],
   "source": [
    "np.sum(test_perf[i] for i in ['tn','tp','fn','fp'])"
   ]
  },
  {
   "cell_type": "code",
   "execution_count": 26,
   "metadata": {},
   "outputs": [
    {
     "name": "stderr",
     "output_type": "stream",
     "text": [
      "/tmp/ipykernel_120761/217727981.py:1: DeprecationWarning: Calling np.sum(generator) is deprecated, and in the future will give a different result. Use np.sum(np.fromiter(generator)) or the python sum builtin instead.\n",
      "  test_perf.update({'total_number': np.sum(test_perf[i] for i in ['tn','tp','fn','fp'])})\n"
     ]
    }
   ],
   "source": [
    "test_perf.update({'total_number': np.sum(test_perf[i] for i in ['tn','tp','fn','fp'])})\n",
    "pd.DataFrame(test_perf, index=['testset']).to_csv(osp.join(result_path, 'test_set_performance.csv'))"
   ]
  },
  {
   "cell_type": "code",
   "execution_count": 93,
   "metadata": {},
   "outputs": [
    {
     "data": {
      "text/plain": [
       "{'auroc': 0.47,\n",
       " 'auprc': 0.0,\n",
       " 'prec': 0.0,\n",
       " 'recall': 0.08,\n",
       " 'f1': 0.0,\n",
       " 'f2': 0.01,\n",
       " 'specificity': 0.82,\n",
       " 'tn': 75772.0,\n",
       " 'fp': 16988.0,\n",
       " 'fn': 462.0,\n",
       " 'tp': 41.0,\n",
       " 'auprcf1': 0.01,\n",
       " 'total_number': 93263.0}"
      ]
     },
     "execution_count": 93,
     "metadata": {},
     "output_type": "execute_result"
    }
   ],
   "source": [
    "test_perf"
   ]
  },
  {
   "cell_type": "code",
   "execution_count": null,
   "metadata": {},
   "outputs": [],
   "source": [
    "# vae 왕창 했을때 \n",
    "# testset_target = abnomal_testset.y_data.squeeze(-1).float()\n",
    "testset_target = testset.y_data.squeeze(-1).float()\n",
    "metrics = ['prec','recall','f1','f2','specificity',\n",
    "                     'tn','fp','fn','tp',\n",
    "                     'auroc','auprc']\n",
    "calculate_any_metrics(testset_target, metrics, probs=y_prob, threshold=0.8)"
   ]
  },
  {
   "cell_type": "markdown",
   "metadata": {},
   "source": [
    "testset의 예측=1 인 metainfo 찾아서 그리기\n",
    "label 있으면 표시하기\n",
    "파일명: "
   ]
  },
  {
   "cell_type": "code",
   "execution_count": 9,
   "metadata": {},
   "outputs": [],
   "source": [
    "ckpt_path = '/VOLUME/nia_vent_asynchrony/result/baseline_220818/train/2022-08-24-04-29-23/ventdys_model.pt'\n",
    "ckpt_path = '/VOLUME/nia_vent_asynchrony/result/baseline_220818/train/2022-08-26-10-32-15/ventdys_model.pt'\n",
    "ckpt_dict = torch.load(ckpt_path)"
   ]
  },
  {
   "cell_type": "code",
   "execution_count": 10,
   "metadata": {},
   "outputs": [
    {
     "name": "stdout",
     "output_type": "stream",
     "text": [
      "cuda\n"
     ]
    }
   ],
   "source": [
    "device = torch.device('cuda' if torch.cuda.is_available() else 'cpu')\n",
    "print(device)"
   ]
  },
  {
   "cell_type": "code",
   "execution_count": 11,
   "metadata": {},
   "outputs": [
    {
     "data": {
      "text/plain": [
       "<All keys matched successfully>"
      ]
     },
     "execution_count": 11,
     "metadata": {},
     "output_type": "execute_result"
    }
   ],
   "source": [
    "ventdys_model = AsynchModel(input_dim=2, padding_mode='replicate').to(device)\n",
    "ventdys_model.load_state_dict(ckpt_dict, strict=False)"
   ]
  },
  {
   "cell_type": "code",
   "execution_count": 59,
   "metadata": {},
   "outputs": [],
   "source": [
    "dat_infer = pd.concat([pd.read_pickle('/VOLUME/nia_vent_asynchrony/data/processed_data/snu/instance_snu_723989_2022-08-26.pkl'),\n",
    "    pd.read_pickle('/VOLUME/nia_vent_asynchrony/data/processed_data/snu/instance_snu_519403_2022-08-26.pkl')\n",
    "])"
   ]
  },
  {
   "cell_type": "code",
   "execution_count": 3,
   "metadata": {},
   "outputs": [],
   "source": [
    "# dat_infer = pd.read_pickle('/VOLUME/nia_vent_asynchrony/data/processed_data/snu/instance_with_label_snu_3145286_2022-08-25.pkl')\n",
    "# dat_infer = pd.read_pickle('/VOLUME/nia_vent_asynchrony/data/processed_data/aju/instance_aju_2-001_2-099_2582998_2022-09-02.pkl')\n",
    "# dat_infer = pd.read_pickle('/VOLUME/nia_vent_asynchrony/data/processed_data/snu/instance_snu_1-100_1-177_4972675_2022-09-03.pkl') # 4972675 rows 메모리 떄문에 한번에 못돌림\n",
    "# dat_infer = pd.read_pickle('/VOLUME/nia_vent_asynchrony/data/processed_data/snu/instance_snu_1-178_1-379_1953563_2022-09-02.pkl') # \n",
    "# dat_infer = pd.read_pickle('/VOLUME/nia_vent_asynchrony/data/processed_data/aju/instance_aju_2-100_2-249_3160686_2022-09-03.pkl')\n",
    "dat_infer = pd.read_pickle('/VOLUME/nia_vent_asynchrony/data/processed_data/snu/instance_snu_1-001_1-099_7382836_2022-09-03.pkl') # TODO"
   ]
  },
  {
   "cell_type": "code",
   "execution_count": 5,
   "metadata": {},
   "outputs": [
    {
     "data": {
      "text/plain": [
       "7382836"
      ]
     },
     "execution_count": 5,
     "metadata": {},
     "output_type": "execute_result"
    }
   ],
   "source": [
    "len(dat_infer)"
   ]
  },
  {
   "cell_type": "code",
   "execution_count": 4,
   "metadata": {},
   "outputs": [
    {
     "data": {
      "text/plain": [
       "99"
      ]
     },
     "execution_count": 4,
     "metadata": {},
     "output_type": "execute_result"
    }
   ],
   "source": [
    "dat_infer['hospital_id_patient_id'].nunique()"
   ]
  },
  {
   "cell_type": "code",
   "execution_count": null,
   "metadata": {},
   "outputs": [],
   "source": [
    "# dat_infer['hospital_id_patient_id'].drop_duplicates().sort_values().tolist()"
   ]
  },
  {
   "cell_type": "code",
   "execution_count": 4,
   "metadata": {},
   "outputs": [],
   "source": [
    "dat_infer['split'] = 'test'"
   ]
  },
  {
   "cell_type": "code",
   "execution_count": 45,
   "metadata": {},
   "outputs": [],
   "source": [
    "dat_infer_bak = dat_infer.copy()\n",
    "# dat_infer = dat_infer_bak"
   ]
  },
  {
   "cell_type": "code",
   "execution_count": 57,
   "metadata": {},
   "outputs": [
    {
     "data": {
      "text/html": [
       "<div>\n",
       "<style scoped>\n",
       "    .dataframe tbody tr th:only-of-type {\n",
       "        vertical-align: middle;\n",
       "    }\n",
       "\n",
       "    .dataframe tbody tr th {\n",
       "        vertical-align: top;\n",
       "    }\n",
       "\n",
       "    .dataframe thead th {\n",
       "        text-align: right;\n",
       "    }\n",
       "</style>\n",
       "<table border=\"1\" class=\"dataframe\">\n",
       "  <thead>\n",
       "    <tr style=\"text-align: right;\">\n",
       "      <th></th>\n",
       "      <th>flow_path</th>\n",
       "      <th>starttime</th>\n",
       "      <th>endtime</th>\n",
       "      <th>data</th>\n",
       "      <th>hospital_id</th>\n",
       "      <th>patient_id</th>\n",
       "      <th>wav_number</th>\n",
       "      <th>hospital_id_patient_id</th>\n",
       "      <th>split</th>\n",
       "    </tr>\n",
       "  </thead>\n",
       "  <tbody>\n",
       "    <tr>\n",
       "      <th>249</th>\n",
       "      <td>/ext_ssd/nia_vent/snu/20220831/1-045/AWF/1-045...</td>\n",
       "      <td>2021-11-18 10:33:34.559600+09:00</td>\n",
       "      <td>2021-11-18 10:33:42.543093+09:00</td>\n",
       "      <td>[[27.44000244140625, 10.760000228881836], [26....</td>\n",
       "      <td>1</td>\n",
       "      <td>045</td>\n",
       "      <td>256</td>\n",
       "      <td>1-045</td>\n",
       "      <td>test</td>\n",
       "    </tr>\n",
       "    <tr>\n",
       "      <th>250</th>\n",
       "      <td>/ext_ssd/nia_vent/snu/20220831/1-045/AWF/1-045...</td>\n",
       "      <td>2021-11-18 10:33:42.559760+09:00</td>\n",
       "      <td>2021-11-18 10:33:50.543253+09:00</td>\n",
       "      <td>[[-7.040008544921875, 5.104999542236328], [-6....</td>\n",
       "      <td>1</td>\n",
       "      <td>045</td>\n",
       "      <td>256</td>\n",
       "      <td>1-045</td>\n",
       "      <td>test</td>\n",
       "    </tr>\n",
       "    <tr>\n",
       "      <th>251</th>\n",
       "      <td>/ext_ssd/nia_vent/snu/20220831/1-045/AWF/1-045...</td>\n",
       "      <td>2021-11-18 10:33:50.559920+09:00</td>\n",
       "      <td>2021-11-18 10:33:58.543413+09:00</td>\n",
       "      <td>[[49.27999877929688, 11.225000381469728], [48....</td>\n",
       "      <td>1</td>\n",
       "      <td>045</td>\n",
       "      <td>256</td>\n",
       "      <td>1-045</td>\n",
       "      <td>test</td>\n",
       "    </tr>\n",
       "    <tr>\n",
       "      <th>252</th>\n",
       "      <td>/ext_ssd/nia_vent/snu/20220831/1-045/AWF/1-045...</td>\n",
       "      <td>2021-11-18 10:33:58.560080+09:00</td>\n",
       "      <td>2021-11-18 10:34:06.543573+09:00</td>\n",
       "      <td>[[-38.56000518798828, 6.994998931884766], [-36...</td>\n",
       "      <td>1</td>\n",
       "      <td>045</td>\n",
       "      <td>256</td>\n",
       "      <td>1-045</td>\n",
       "      <td>test</td>\n",
       "    </tr>\n",
       "    <tr>\n",
       "      <th>253</th>\n",
       "      <td>/ext_ssd/nia_vent/snu/20220831/1-045/AWF/1-045...</td>\n",
       "      <td>2021-11-18 10:34:06.560240+09:00</td>\n",
       "      <td>2021-11-18 10:34:14.543733+09:00</td>\n",
       "      <td>[[-37.36000061035156, 7.114999771118164], [-34...</td>\n",
       "      <td>1</td>\n",
       "      <td>045</td>\n",
       "      <td>256</td>\n",
       "      <td>1-045</td>\n",
       "      <td>test</td>\n",
       "    </tr>\n",
       "    <tr>\n",
       "      <th>...</th>\n",
       "      <td>...</td>\n",
       "      <td>...</td>\n",
       "      <td>...</td>\n",
       "      <td>...</td>\n",
       "      <td>...</td>\n",
       "      <td>...</td>\n",
       "      <td>...</td>\n",
       "      <td>...</td>\n",
       "      <td>...</td>\n",
       "    </tr>\n",
       "    <tr>\n",
       "      <th>268</th>\n",
       "      <td>/ext_ssd/nia_vent/snu/20220831/1-086/AWF/1-086...</td>\n",
       "      <td>2022-01-16 09:35:44.220021+09:00</td>\n",
       "      <td>2022-01-16 09:35:52.203514+09:00</td>\n",
       "      <td>[[57.19999694824219, 23.98999786376953], [56.6...</td>\n",
       "      <td>1</td>\n",
       "      <td>086</td>\n",
       "      <td>66</td>\n",
       "      <td>1-086</td>\n",
       "      <td>test</td>\n",
       "    </tr>\n",
       "    <tr>\n",
       "      <th>269</th>\n",
       "      <td>/ext_ssd/nia_vent/snu/20220831/1-086/AWF/1-086...</td>\n",
       "      <td>2022-01-16 09:35:52.220181+09:00</td>\n",
       "      <td>2022-01-16 09:36:00.203674+09:00</td>\n",
       "      <td>[[-40.17000579833984, 9.619998931884766], [-33...</td>\n",
       "      <td>1</td>\n",
       "      <td>086</td>\n",
       "      <td>66</td>\n",
       "      <td>1-086</td>\n",
       "      <td>test</td>\n",
       "    </tr>\n",
       "    <tr>\n",
       "      <th>270</th>\n",
       "      <td>/ext_ssd/nia_vent/snu/20220831/1-086/AWF/1-086...</td>\n",
       "      <td>2022-01-16 09:36:00.220341+09:00</td>\n",
       "      <td>2022-01-16 09:36:08.203834+09:00</td>\n",
       "      <td>[[-15.275001525878906, 8.65999984741211], [-14...</td>\n",
       "      <td>1</td>\n",
       "      <td>086</td>\n",
       "      <td>66</td>\n",
       "      <td>1-086</td>\n",
       "      <td>test</td>\n",
       "    </tr>\n",
       "    <tr>\n",
       "      <th>271</th>\n",
       "      <td>/ext_ssd/nia_vent/snu/20220831/1-086/AWF/1-086...</td>\n",
       "      <td>2022-01-16 09:36:08.220501+09:00</td>\n",
       "      <td>2022-01-16 09:36:16.203994+09:00</td>\n",
       "      <td>[[3.5749969482421875, 6.979999542236328], [9.4...</td>\n",
       "      <td>1</td>\n",
       "      <td>086</td>\n",
       "      <td>66</td>\n",
       "      <td>1-086</td>\n",
       "      <td>test</td>\n",
       "    </tr>\n",
       "    <tr>\n",
       "      <th>272</th>\n",
       "      <td>/ext_ssd/nia_vent/snu/20220831/1-086/AWF/1-086...</td>\n",
       "      <td>2022-01-16 09:36:16.220661+09:00</td>\n",
       "      <td>2022-01-16 09:36:24.204154+09:00</td>\n",
       "      <td>[[7.019989013671875, 22.294998168945312], [5.0...</td>\n",
       "      <td>1</td>\n",
       "      <td>086</td>\n",
       "      <td>66</td>\n",
       "      <td>1-086</td>\n",
       "      <td>test</td>\n",
       "    </tr>\n",
       "  </tbody>\n",
       "</table>\n",
       "<p>1500000 rows × 9 columns</p>\n",
       "</div>"
      ],
      "text/plain": [
       "                                             flow_path  \\\n",
       "249  /ext_ssd/nia_vent/snu/20220831/1-045/AWF/1-045...   \n",
       "250  /ext_ssd/nia_vent/snu/20220831/1-045/AWF/1-045...   \n",
       "251  /ext_ssd/nia_vent/snu/20220831/1-045/AWF/1-045...   \n",
       "252  /ext_ssd/nia_vent/snu/20220831/1-045/AWF/1-045...   \n",
       "253  /ext_ssd/nia_vent/snu/20220831/1-045/AWF/1-045...   \n",
       "..                                                 ...   \n",
       "268  /ext_ssd/nia_vent/snu/20220831/1-086/AWF/1-086...   \n",
       "269  /ext_ssd/nia_vent/snu/20220831/1-086/AWF/1-086...   \n",
       "270  /ext_ssd/nia_vent/snu/20220831/1-086/AWF/1-086...   \n",
       "271  /ext_ssd/nia_vent/snu/20220831/1-086/AWF/1-086...   \n",
       "272  /ext_ssd/nia_vent/snu/20220831/1-086/AWF/1-086...   \n",
       "\n",
       "                           starttime                          endtime  \\\n",
       "249 2021-11-18 10:33:34.559600+09:00 2021-11-18 10:33:42.543093+09:00   \n",
       "250 2021-11-18 10:33:42.559760+09:00 2021-11-18 10:33:50.543253+09:00   \n",
       "251 2021-11-18 10:33:50.559920+09:00 2021-11-18 10:33:58.543413+09:00   \n",
       "252 2021-11-18 10:33:58.560080+09:00 2021-11-18 10:34:06.543573+09:00   \n",
       "253 2021-11-18 10:34:06.560240+09:00 2021-11-18 10:34:14.543733+09:00   \n",
       "..                               ...                              ...   \n",
       "268 2022-01-16 09:35:44.220021+09:00 2022-01-16 09:35:52.203514+09:00   \n",
       "269 2022-01-16 09:35:52.220181+09:00 2022-01-16 09:36:00.203674+09:00   \n",
       "270 2022-01-16 09:36:00.220341+09:00 2022-01-16 09:36:08.203834+09:00   \n",
       "271 2022-01-16 09:36:08.220501+09:00 2022-01-16 09:36:16.203994+09:00   \n",
       "272 2022-01-16 09:36:16.220661+09:00 2022-01-16 09:36:24.204154+09:00   \n",
       "\n",
       "                                                  data hospital_id patient_id  \\\n",
       "249  [[27.44000244140625, 10.760000228881836], [26....           1        045   \n",
       "250  [[-7.040008544921875, 5.104999542236328], [-6....           1        045   \n",
       "251  [[49.27999877929688, 11.225000381469728], [48....           1        045   \n",
       "252  [[-38.56000518798828, 6.994998931884766], [-36...           1        045   \n",
       "253  [[-37.36000061035156, 7.114999771118164], [-34...           1        045   \n",
       "..                                                 ...         ...        ...   \n",
       "268  [[57.19999694824219, 23.98999786376953], [56.6...           1        086   \n",
       "269  [[-40.17000579833984, 9.619998931884766], [-33...           1        086   \n",
       "270  [[-15.275001525878906, 8.65999984741211], [-14...           1        086   \n",
       "271  [[3.5749969482421875, 6.979999542236328], [9.4...           1        086   \n",
       "272  [[7.019989013671875, 22.294998168945312], [5.0...           1        086   \n",
       "\n",
       "     wav_number hospital_id_patient_id split  \n",
       "249         256                  1-045  test  \n",
       "250         256                  1-045  test  \n",
       "251         256                  1-045  test  \n",
       "252         256                  1-045  test  \n",
       "253         256                  1-045  test  \n",
       "..          ...                    ...   ...  \n",
       "268          66                  1-086  test  \n",
       "269          66                  1-086  test  \n",
       "270          66                  1-086  test  \n",
       "271          66                  1-086  test  \n",
       "272          66                  1-086  test  \n",
       "\n",
       "[1500000 rows x 9 columns]"
      ]
     },
     "execution_count": 57,
     "metadata": {},
     "output_type": "execute_result"
    }
   ],
   "source": [
    "dat_infer"
   ]
  },
  {
   "cell_type": "code",
   "execution_count": 5,
   "metadata": {},
   "outputs": [],
   "source": [
    "dat_infer = dat_infer.iloc[6000000:,:]\n",
    "# dat_infer = dat_infer.iloc[:700000,:]"
   ]
  },
  {
   "cell_type": "code",
   "execution_count": 6,
   "metadata": {},
   "outputs": [
    {
     "data": {
      "text/plain": [
       "1382836"
      ]
     },
     "execution_count": 6,
     "metadata": {},
     "output_type": "execute_result"
    }
   ],
   "source": [
    "len(dat_infer)"
   ]
  },
  {
   "cell_type": "code",
   "execution_count": 7,
   "metadata": {},
   "outputs": [
    {
     "name": "stdout",
     "output_type": "stream",
     "text": [
      "no of train, val, test 0 0 1370486\n",
      "x_data (1370486, 480, 2)\n",
      "trans x_data torch.Size([1370486, 2, 480])\n",
      "trans y_data torch.Size([1370486, 1, 1])\n",
      "X.shape (0, 480, 2) (1370486, 480, 2)\n",
      "Y class distribution 0.0 0.0\n"
     ]
    }
   ],
   "source": [
    "# testset = ...\n",
    "_, _, test_dataloader = preprocess_data(dat_infer, scale=True)\n",
    "# 1,000,000 rows, elapsed "
   ]
  },
  {
   "cell_type": "code",
   "execution_count": 12,
   "metadata": {},
   "outputs": [
    {
     "name": "stdout",
     "output_type": "stream",
     "text": [
      "step 0 loss -1.5914945619566495e+21\n",
      "step 1000 loss -1.0794100923142085e+21\n"
     ]
    }
   ],
   "source": [
    "# predict testset \n",
    "ventdys_model.eval()\n",
    "\n",
    "y_prob = None\n",
    "for i_step, data in enumerate(test_dataloader):\n",
    "    xi, target = data\n",
    "    xi = xi.to(device)\n",
    "    target = target.to(device).squeeze(-1).squeeze(-1).float() # torch.Size([bs, 1])\n",
    "    out = ventdys_model(xi)\n",
    "\n",
    "    \n",
    "    loss = calculate_bce_loss(out[:,1], target)\n",
    "\n",
    "    prob = F.softmax(out, dim=1)[:,1].detach().cpu()\n",
    "    # pred = y_proba>0.5\n",
    "    y_prob = prob if y_prob is None else torch.cat([y_prob, prob])\n",
    "\n",
    "    # pred_list.append(out.detach().cpu().numpy())\n",
    "    if i_step%1000==0: print('step', i_step, 'loss', loss.item())\n"
   ]
  },
  {
   "cell_type": "code",
   "execution_count": 13,
   "metadata": {},
   "outputs": [],
   "source": [
    "testset = test_dataloader.dataset"
   ]
  },
  {
   "cell_type": "code",
   "execution_count": 27,
   "metadata": {},
   "outputs": [],
   "source": [
    "# test_metainfo = testset.metainfo\n",
    "# test_metainfo"
   ]
  },
  {
   "cell_type": "code",
   "execution_count": 14,
   "metadata": {},
   "outputs": [],
   "source": [
    "testset_pred = testset.metainfo\n",
    "testset_pred['y_pred_prob'] = y_prob\n",
    "testset_pred['y_pred'] = y_prob>0.5\n",
    "if 'label' in testset_pred.columns:\n",
    "    testset_pred['y_target'] = testset_pred['label'].isin([2,1])"
   ]
  },
  {
   "cell_type": "code",
   "execution_count": 15,
   "metadata": {},
   "outputs": [
    {
     "data": {
      "text/html": [
       "<div>\n",
       "<style scoped>\n",
       "    .dataframe tbody tr th:only-of-type {\n",
       "        vertical-align: middle;\n",
       "    }\n",
       "\n",
       "    .dataframe tbody tr th {\n",
       "        vertical-align: top;\n",
       "    }\n",
       "\n",
       "    .dataframe thead th {\n",
       "        text-align: right;\n",
       "    }\n",
       "</style>\n",
       "<table border=\"1\" class=\"dataframe\">\n",
       "  <thead>\n",
       "    <tr style=\"text-align: right;\">\n",
       "      <th></th>\n",
       "      <th>flow_path</th>\n",
       "      <th>starttime</th>\n",
       "      <th>endtime</th>\n",
       "      <th>hospital_id</th>\n",
       "      <th>patient_id</th>\n",
       "      <th>wav_number</th>\n",
       "      <th>hospital_id_patient_id</th>\n",
       "      <th>split</th>\n",
       "      <th>y_pred_prob</th>\n",
       "      <th>y_pred</th>\n",
       "    </tr>\n",
       "  </thead>\n",
       "  <tbody>\n",
       "    <tr>\n",
       "      <th>180</th>\n",
       "      <td>/ext_ssd/nia_vent/snu/20220831/1-068/AWF/1-068...</td>\n",
       "      <td>2021-12-11 09:24:22.359846+09:00</td>\n",
       "      <td>2021-12-11 09:24:30.343339+09:00</td>\n",
       "      <td>1</td>\n",
       "      <td>068</td>\n",
       "      <td>15</td>\n",
       "      <td>1-068</td>\n",
       "      <td>test</td>\n",
       "      <td>6.550997e-08</td>\n",
       "      <td>False</td>\n",
       "    </tr>\n",
       "    <tr>\n",
       "      <th>181</th>\n",
       "      <td>/ext_ssd/nia_vent/snu/20220831/1-068/AWF/1-068...</td>\n",
       "      <td>2021-12-11 09:24:30.360006+09:00</td>\n",
       "      <td>2021-12-11 09:24:38.343499+09:00</td>\n",
       "      <td>1</td>\n",
       "      <td>068</td>\n",
       "      <td>15</td>\n",
       "      <td>1-068</td>\n",
       "      <td>test</td>\n",
       "      <td>2.518153e-10</td>\n",
       "      <td>False</td>\n",
       "    </tr>\n",
       "    <tr>\n",
       "      <th>182</th>\n",
       "      <td>/ext_ssd/nia_vent/snu/20220831/1-068/AWF/1-068...</td>\n",
       "      <td>2021-12-11 09:24:38.360166+09:00</td>\n",
       "      <td>2021-12-11 09:24:46.343659+09:00</td>\n",
       "      <td>1</td>\n",
       "      <td>068</td>\n",
       "      <td>15</td>\n",
       "      <td>1-068</td>\n",
       "      <td>test</td>\n",
       "      <td>8.974237e-13</td>\n",
       "      <td>False</td>\n",
       "    </tr>\n",
       "    <tr>\n",
       "      <th>183</th>\n",
       "      <td>/ext_ssd/nia_vent/snu/20220831/1-068/AWF/1-068...</td>\n",
       "      <td>2021-12-11 09:24:46.360326+09:00</td>\n",
       "      <td>2021-12-11 09:24:54.343819+09:00</td>\n",
       "      <td>1</td>\n",
       "      <td>068</td>\n",
       "      <td>15</td>\n",
       "      <td>1-068</td>\n",
       "      <td>test</td>\n",
       "      <td>5.991095e-10</td>\n",
       "      <td>False</td>\n",
       "    </tr>\n",
       "    <tr>\n",
       "      <th>184</th>\n",
       "      <td>/ext_ssd/nia_vent/snu/20220831/1-068/AWF/1-068...</td>\n",
       "      <td>2021-12-11 09:24:54.360486+09:00</td>\n",
       "      <td>2021-12-11 09:25:02.343979+09:00</td>\n",
       "      <td>1</td>\n",
       "      <td>068</td>\n",
       "      <td>15</td>\n",
       "      <td>1-068</td>\n",
       "      <td>test</td>\n",
       "      <td>1.708195e-10</td>\n",
       "      <td>False</td>\n",
       "    </tr>\n",
       "    <tr>\n",
       "      <th>...</th>\n",
       "      <td>...</td>\n",
       "      <td>...</td>\n",
       "      <td>...</td>\n",
       "      <td>...</td>\n",
       "      <td>...</td>\n",
       "      <td>...</td>\n",
       "      <td>...</td>\n",
       "      <td>...</td>\n",
       "      <td>...</td>\n",
       "      <td>...</td>\n",
       "    </tr>\n",
       "    <tr>\n",
       "      <th>439</th>\n",
       "      <td>/ext_ssd/nia_vent/snu/20220831/1-026/AWF/1-026...</td>\n",
       "      <td>2021-10-18 11:58:53.991592+09:00</td>\n",
       "      <td>2021-10-18 11:59:01.975085+09:00</td>\n",
       "      <td>1</td>\n",
       "      <td>026</td>\n",
       "      <td>144</td>\n",
       "      <td>1-026</td>\n",
       "      <td>test</td>\n",
       "      <td>1.098263e-10</td>\n",
       "      <td>False</td>\n",
       "    </tr>\n",
       "    <tr>\n",
       "      <th>440</th>\n",
       "      <td>/ext_ssd/nia_vent/snu/20220831/1-026/AWF/1-026...</td>\n",
       "      <td>2021-10-18 11:59:01.991752+09:00</td>\n",
       "      <td>2021-10-18 11:59:09.975245+09:00</td>\n",
       "      <td>1</td>\n",
       "      <td>026</td>\n",
       "      <td>144</td>\n",
       "      <td>1-026</td>\n",
       "      <td>test</td>\n",
       "      <td>5.706872e-07</td>\n",
       "      <td>False</td>\n",
       "    </tr>\n",
       "    <tr>\n",
       "      <th>441</th>\n",
       "      <td>/ext_ssd/nia_vent/snu/20220831/1-026/AWF/1-026...</td>\n",
       "      <td>2021-10-18 11:59:09.991912+09:00</td>\n",
       "      <td>2021-10-18 11:59:17.975405+09:00</td>\n",
       "      <td>1</td>\n",
       "      <td>026</td>\n",
       "      <td>144</td>\n",
       "      <td>1-026</td>\n",
       "      <td>test</td>\n",
       "      <td>1.943615e-06</td>\n",
       "      <td>False</td>\n",
       "    </tr>\n",
       "    <tr>\n",
       "      <th>442</th>\n",
       "      <td>/ext_ssd/nia_vent/snu/20220831/1-026/AWF/1-026...</td>\n",
       "      <td>2021-10-18 11:59:17.992072+09:00</td>\n",
       "      <td>2021-10-18 11:59:25.975565+09:00</td>\n",
       "      <td>1</td>\n",
       "      <td>026</td>\n",
       "      <td>144</td>\n",
       "      <td>1-026</td>\n",
       "      <td>test</td>\n",
       "      <td>7.631979e-07</td>\n",
       "      <td>False</td>\n",
       "    </tr>\n",
       "    <tr>\n",
       "      <th>443</th>\n",
       "      <td>/ext_ssd/nia_vent/snu/20220831/1-026/AWF/1-026...</td>\n",
       "      <td>2021-10-18 11:59:25.992232+09:00</td>\n",
       "      <td>2021-10-18 11:59:33.975725+09:00</td>\n",
       "      <td>1</td>\n",
       "      <td>026</td>\n",
       "      <td>144</td>\n",
       "      <td>1-026</td>\n",
       "      <td>test</td>\n",
       "      <td>1.564248e-03</td>\n",
       "      <td>False</td>\n",
       "    </tr>\n",
       "  </tbody>\n",
       "</table>\n",
       "<p>1370486 rows × 10 columns</p>\n",
       "</div>"
      ],
      "text/plain": [
       "                                             flow_path  \\\n",
       "180  /ext_ssd/nia_vent/snu/20220831/1-068/AWF/1-068...   \n",
       "181  /ext_ssd/nia_vent/snu/20220831/1-068/AWF/1-068...   \n",
       "182  /ext_ssd/nia_vent/snu/20220831/1-068/AWF/1-068...   \n",
       "183  /ext_ssd/nia_vent/snu/20220831/1-068/AWF/1-068...   \n",
       "184  /ext_ssd/nia_vent/snu/20220831/1-068/AWF/1-068...   \n",
       "..                                                 ...   \n",
       "439  /ext_ssd/nia_vent/snu/20220831/1-026/AWF/1-026...   \n",
       "440  /ext_ssd/nia_vent/snu/20220831/1-026/AWF/1-026...   \n",
       "441  /ext_ssd/nia_vent/snu/20220831/1-026/AWF/1-026...   \n",
       "442  /ext_ssd/nia_vent/snu/20220831/1-026/AWF/1-026...   \n",
       "443  /ext_ssd/nia_vent/snu/20220831/1-026/AWF/1-026...   \n",
       "\n",
       "                           starttime                          endtime  \\\n",
       "180 2021-12-11 09:24:22.359846+09:00 2021-12-11 09:24:30.343339+09:00   \n",
       "181 2021-12-11 09:24:30.360006+09:00 2021-12-11 09:24:38.343499+09:00   \n",
       "182 2021-12-11 09:24:38.360166+09:00 2021-12-11 09:24:46.343659+09:00   \n",
       "183 2021-12-11 09:24:46.360326+09:00 2021-12-11 09:24:54.343819+09:00   \n",
       "184 2021-12-11 09:24:54.360486+09:00 2021-12-11 09:25:02.343979+09:00   \n",
       "..                               ...                              ...   \n",
       "439 2021-10-18 11:58:53.991592+09:00 2021-10-18 11:59:01.975085+09:00   \n",
       "440 2021-10-18 11:59:01.991752+09:00 2021-10-18 11:59:09.975245+09:00   \n",
       "441 2021-10-18 11:59:09.991912+09:00 2021-10-18 11:59:17.975405+09:00   \n",
       "442 2021-10-18 11:59:17.992072+09:00 2021-10-18 11:59:25.975565+09:00   \n",
       "443 2021-10-18 11:59:25.992232+09:00 2021-10-18 11:59:33.975725+09:00   \n",
       "\n",
       "    hospital_id patient_id  wav_number hospital_id_patient_id split  \\\n",
       "180           1        068          15                  1-068  test   \n",
       "181           1        068          15                  1-068  test   \n",
       "182           1        068          15                  1-068  test   \n",
       "183           1        068          15                  1-068  test   \n",
       "184           1        068          15                  1-068  test   \n",
       "..          ...        ...         ...                    ...   ...   \n",
       "439           1        026         144                  1-026  test   \n",
       "440           1        026         144                  1-026  test   \n",
       "441           1        026         144                  1-026  test   \n",
       "442           1        026         144                  1-026  test   \n",
       "443           1        026         144                  1-026  test   \n",
       "\n",
       "      y_pred_prob  y_pred  \n",
       "180  6.550997e-08   False  \n",
       "181  2.518153e-10   False  \n",
       "182  8.974237e-13   False  \n",
       "183  5.991095e-10   False  \n",
       "184  1.708195e-10   False  \n",
       "..            ...     ...  \n",
       "439  1.098263e-10   False  \n",
       "440  5.706872e-07   False  \n",
       "441  1.943615e-06   False  \n",
       "442  7.631979e-07   False  \n",
       "443  1.564248e-03   False  \n",
       "\n",
       "[1370486 rows x 10 columns]"
      ]
     },
     "execution_count": 15,
     "metadata": {},
     "output_type": "execute_result"
    }
   ],
   "source": [
    "testset_pred"
   ]
  },
  {
   "cell_type": "code",
   "execution_count": 16,
   "metadata": {},
   "outputs": [
    {
     "data": {
      "text/plain": [
       "array(['1-068', '1-024', '1-020', '1-090', '1-040', '1-015', '1-002',\n",
       "       '1-063', '1-031', '1-046', '1-057', '1-053', '1-087', '1-097',\n",
       "       '1-074', '1-093', '1-088', '1-028', '1-026'], dtype=object)"
      ]
     },
     "execution_count": 16,
     "metadata": {},
     "output_type": "execute_result"
    }
   ],
   "source": [
    "testset_pred['hospital_id_patient_id'].unique()"
   ]
  },
  {
   "cell_type": "code",
   "execution_count": 31,
   "metadata": {},
   "outputs": [],
   "source": [
    "# testset_pred = testset_pred_bak"
   ]
  },
  {
   "cell_type": "code",
   "execution_count": 23,
   "metadata": {},
   "outputs": [],
   "source": [
    "# testset_pred = pd.concat([testset_pred, testset_pred_bak])"
   ]
  },
  {
   "cell_type": "code",
   "execution_count": 24,
   "metadata": {},
   "outputs": [],
   "source": [
    "# testset_pred = testset_pred_bak"
   ]
  },
  {
   "cell_type": "code",
   "execution_count": 25,
   "metadata": {},
   "outputs": [],
   "source": [
    "# testset_pred_bak = testset_pred.copy()"
   ]
  },
  {
   "cell_type": "code",
   "execution_count": 17,
   "metadata": {},
   "outputs": [
    {
     "data": {
      "text/html": [
       "<div>\n",
       "<style scoped>\n",
       "    .dataframe tbody tr th:only-of-type {\n",
       "        vertical-align: middle;\n",
       "    }\n",
       "\n",
       "    .dataframe tbody tr th {\n",
       "        vertical-align: top;\n",
       "    }\n",
       "\n",
       "    .dataframe thead th {\n",
       "        text-align: right;\n",
       "    }\n",
       "</style>\n",
       "<table border=\"1\" class=\"dataframe\">\n",
       "  <thead>\n",
       "    <tr style=\"text-align: right;\">\n",
       "      <th></th>\n",
       "      <th>0.050</th>\n",
       "      <th>0.100</th>\n",
       "      <th>0.250</th>\n",
       "      <th>0.500</th>\n",
       "      <th>0.750</th>\n",
       "      <th>0.900</th>\n",
       "      <th>0.950</th>\n",
       "      <th>0.990</th>\n",
       "      <th>0.999</th>\n",
       "    </tr>\n",
       "  </thead>\n",
       "  <tbody>\n",
       "    <tr>\n",
       "      <th>y_prob</th>\n",
       "      <td>6.374082e-31</td>\n",
       "      <td>1.310866e-27</td>\n",
       "      <td>2.209457e-24</td>\n",
       "      <td>1.623765e-22</td>\n",
       "      <td>1.669417e-21</td>\n",
       "      <td>4.488612e-21</td>\n",
       "      <td>5.949174e-21</td>\n",
       "      <td>7.561986e-21</td>\n",
       "      <td>7.964497e-21</td>\n",
       "    </tr>\n",
       "  </tbody>\n",
       "</table>\n",
       "</div>"
      ],
      "text/plain": [
       "               0.050         0.100         0.250         0.500         0.750  \\\n",
       "y_prob  6.374082e-31  1.310866e-27  2.209457e-24  1.623765e-22  1.669417e-21   \n",
       "\n",
       "               0.900         0.950         0.990         0.999  \n",
       "y_prob  4.488612e-21  5.949174e-21  7.561986e-21  7.964497e-21  "
      ]
     },
     "execution_count": 17,
     "metadata": {},
     "output_type": "execute_result"
    }
   ],
   "source": [
    "perc =  [.05, .1 , .25, .5, .75, .9, .95, .99, .999]\n",
    "percentile = pd.DataFrame(np.percentile(testset_pred['y_pred_prob'], perc).reshape(1, -1), columns=perc, index=['y_prob'])\n",
    "percentile"
   ]
  },
  {
   "cell_type": "code",
   "execution_count": null,
   "metadata": {},
   "outputs": [
    {
     "data": {
      "text/plain": [
       "<AxesSubplot:>"
      ]
     },
     "execution_count": 33,
     "metadata": {},
     "output_type": "execute_result"
    },
    {
     "data": {
      "image/png": "[encoded data removed]",
      "text/plain": [
       "<Figure size 432x288 with 1 Axes>"
      ]
     },
     "metadata": {
      "needs_background": "light"
     },
     "output_type": "display_data"
    }
   ],
   "source": [
    "testset_pred['y_pred_prob'].hist()"
   ]
  },
  {
   "cell_type": "code",
   "execution_count": null,
   "metadata": {},
   "outputs": [
    {
     "data": {
      "text/plain": [
       "False    1943204\n",
       "True       38901\n",
       "Name: y_pred, dtype: int64"
      ]
     },
     "execution_count": 38,
     "metadata": {},
     "output_type": "execute_result"
    }
   ],
   "source": [
    "testset_pred['y_pred'].value_counts()"
   ]
  },
  {
   "cell_type": "code",
   "execution_count": null,
   "metadata": {},
   "outputs": [
    {
     "data": {
      "text/plain": [
       "False    0.980374\n",
       "True     0.019626\n",
       "Name: y_pred, dtype: float64"
      ]
     },
     "execution_count": 39,
     "metadata": {},
     "output_type": "execute_result"
    }
   ],
   "source": [
    "testset_pred['y_pred'].value_counts(normalize=True)"
   ]
  },
  {
   "cell_type": "code",
   "execution_count": null,
   "metadata": {},
   "outputs": [
    {
     "data": {
      "text/html": [
       "<div>\n",
       "<style scoped>\n",
       "    .dataframe tbody tr th:only-of-type {\n",
       "        vertical-align: middle;\n",
       "    }\n",
       "\n",
       "    .dataframe tbody tr th {\n",
       "        vertical-align: top;\n",
       "    }\n",
       "\n",
       "    .dataframe thead th {\n",
       "        text-align: right;\n",
       "    }\n",
       "</style>\n",
       "<table border=\"1\" class=\"dataframe\">\n",
       "  <thead>\n",
       "    <tr style=\"text-align: right;\">\n",
       "      <th></th>\n",
       "      <th>flow_path</th>\n",
       "      <th>starttime</th>\n",
       "      <th>endtime</th>\n",
       "      <th>hospital_id</th>\n",
       "      <th>patient_id</th>\n",
       "      <th>wav_number</th>\n",
       "      <th>hospital_id_patient_id</th>\n",
       "      <th>split</th>\n",
       "      <th>y_pred_prob</th>\n",
       "      <th>y_pred</th>\n",
       "    </tr>\n",
       "  </thead>\n",
       "  <tbody>\n",
       "    <tr>\n",
       "      <th>0</th>\n",
       "      <td>/ext_ssd/nia_vent/snu/20220831/1-055/AWF/1-055...</td>\n",
       "      <td>2021-11-24 20:00:23.682564+09:00</td>\n",
       "      <td>2021-11-24 20:00:31.666057+09:00</td>\n",
       "      <td>1</td>\n",
       "      <td>055</td>\n",
       "      <td>74</td>\n",
       "      <td>1-055</td>\n",
       "      <td>test</td>\n",
       "      <td>1.794760e-08</td>\n",
       "      <td>False</td>\n",
       "    </tr>\n",
       "    <tr>\n",
       "      <th>1</th>\n",
       "      <td>/ext_ssd/nia_vent/snu/20220831/1-055/AWF/1-055...</td>\n",
       "      <td>2021-11-24 20:00:31.682724+09:00</td>\n",
       "      <td>2021-11-24 20:00:39.666217+09:00</td>\n",
       "      <td>1</td>\n",
       "      <td>055</td>\n",
       "      <td>74</td>\n",
       "      <td>1-055</td>\n",
       "      <td>test</td>\n",
       "      <td>1.458113e-05</td>\n",
       "      <td>False</td>\n",
       "    </tr>\n",
       "    <tr>\n",
       "      <th>2</th>\n",
       "      <td>/ext_ssd/nia_vent/snu/20220831/1-055/AWF/1-055...</td>\n",
       "      <td>2021-11-24 20:00:39.682884+09:00</td>\n",
       "      <td>2021-11-24 20:00:47.666377+09:00</td>\n",
       "      <td>1</td>\n",
       "      <td>055</td>\n",
       "      <td>74</td>\n",
       "      <td>1-055</td>\n",
       "      <td>test</td>\n",
       "      <td>2.259394e-10</td>\n",
       "      <td>False</td>\n",
       "    </tr>\n",
       "    <tr>\n",
       "      <th>3</th>\n",
       "      <td>/ext_ssd/nia_vent/snu/20220831/1-055/AWF/1-055...</td>\n",
       "      <td>2021-11-24 20:00:47.683044+09:00</td>\n",
       "      <td>2021-11-24 20:00:55.666537+09:00</td>\n",
       "      <td>1</td>\n",
       "      <td>055</td>\n",
       "      <td>74</td>\n",
       "      <td>1-055</td>\n",
       "      <td>test</td>\n",
       "      <td>3.269175e-08</td>\n",
       "      <td>False</td>\n",
       "    </tr>\n",
       "    <tr>\n",
       "      <th>4</th>\n",
       "      <td>/ext_ssd/nia_vent/snu/20220831/1-055/AWF/1-055...</td>\n",
       "      <td>2021-11-24 20:00:55.683204+09:00</td>\n",
       "      <td>2021-11-24 20:01:03.666697+09:00</td>\n",
       "      <td>1</td>\n",
       "      <td>055</td>\n",
       "      <td>74</td>\n",
       "      <td>1-055</td>\n",
       "      <td>test</td>\n",
       "      <td>1.217398e-07</td>\n",
       "      <td>False</td>\n",
       "    </tr>\n",
       "    <tr>\n",
       "      <th>...</th>\n",
       "      <td>...</td>\n",
       "      <td>...</td>\n",
       "      <td>...</td>\n",
       "      <td>...</td>\n",
       "      <td>...</td>\n",
       "      <td>...</td>\n",
       "      <td>...</td>\n",
       "      <td>...</td>\n",
       "      <td>...</td>\n",
       "      <td>...</td>\n",
       "    </tr>\n",
       "    <tr>\n",
       "      <th>242</th>\n",
       "      <td>/ext_ssd/nia_vent/snu/20220831/1-070/AWF/1-070...</td>\n",
       "      <td>2021-12-15 13:32:37.873628+09:00</td>\n",
       "      <td>2021-12-15 13:32:45.857121+09:00</td>\n",
       "      <td>1</td>\n",
       "      <td>070</td>\n",
       "      <td>26</td>\n",
       "      <td>1-070</td>\n",
       "      <td>test</td>\n",
       "      <td>2.703266e-08</td>\n",
       "      <td>False</td>\n",
       "    </tr>\n",
       "    <tr>\n",
       "      <th>243</th>\n",
       "      <td>/ext_ssd/nia_vent/snu/20220831/1-070/AWF/1-070...</td>\n",
       "      <td>2021-12-15 13:32:45.873788+09:00</td>\n",
       "      <td>2021-12-15 13:32:53.857281+09:00</td>\n",
       "      <td>1</td>\n",
       "      <td>070</td>\n",
       "      <td>26</td>\n",
       "      <td>1-070</td>\n",
       "      <td>test</td>\n",
       "      <td>1.082545e-08</td>\n",
       "      <td>False</td>\n",
       "    </tr>\n",
       "    <tr>\n",
       "      <th>244</th>\n",
       "      <td>/ext_ssd/nia_vent/snu/20220831/1-070/AWF/1-070...</td>\n",
       "      <td>2021-12-15 13:32:53.873948+09:00</td>\n",
       "      <td>2021-12-15 13:33:01.857441+09:00</td>\n",
       "      <td>1</td>\n",
       "      <td>070</td>\n",
       "      <td>26</td>\n",
       "      <td>1-070</td>\n",
       "      <td>test</td>\n",
       "      <td>1.986270e-07</td>\n",
       "      <td>False</td>\n",
       "    </tr>\n",
       "    <tr>\n",
       "      <th>245</th>\n",
       "      <td>/ext_ssd/nia_vent/snu/20220831/1-070/AWF/1-070...</td>\n",
       "      <td>2021-12-15 13:33:01.874108+09:00</td>\n",
       "      <td>2021-12-15 13:33:09.857601+09:00</td>\n",
       "      <td>1</td>\n",
       "      <td>070</td>\n",
       "      <td>26</td>\n",
       "      <td>1-070</td>\n",
       "      <td>test</td>\n",
       "      <td>3.888555e-08</td>\n",
       "      <td>False</td>\n",
       "    </tr>\n",
       "    <tr>\n",
       "      <th>246</th>\n",
       "      <td>/ext_ssd/nia_vent/snu/20220831/1-070/AWF/1-070...</td>\n",
       "      <td>2021-12-15 13:33:09.874268+09:00</td>\n",
       "      <td>2021-12-15 13:33:17.857761+09:00</td>\n",
       "      <td>1</td>\n",
       "      <td>070</td>\n",
       "      <td>26</td>\n",
       "      <td>1-070</td>\n",
       "      <td>test</td>\n",
       "      <td>2.499154e-08</td>\n",
       "      <td>False</td>\n",
       "    </tr>\n",
       "  </tbody>\n",
       "</table>\n",
       "<p>1982105 rows × 10 columns</p>\n",
       "</div>"
      ],
      "text/plain": [
       "                                             flow_path  \\\n",
       "0    /ext_ssd/nia_vent/snu/20220831/1-055/AWF/1-055...   \n",
       "1    /ext_ssd/nia_vent/snu/20220831/1-055/AWF/1-055...   \n",
       "2    /ext_ssd/nia_vent/snu/20220831/1-055/AWF/1-055...   \n",
       "3    /ext_ssd/nia_vent/snu/20220831/1-055/AWF/1-055...   \n",
       "4    /ext_ssd/nia_vent/snu/20220831/1-055/AWF/1-055...   \n",
       "..                                                 ...   \n",
       "242  /ext_ssd/nia_vent/snu/20220831/1-070/AWF/1-070...   \n",
       "243  /ext_ssd/nia_vent/snu/20220831/1-070/AWF/1-070...   \n",
       "244  /ext_ssd/nia_vent/snu/20220831/1-070/AWF/1-070...   \n",
       "245  /ext_ssd/nia_vent/snu/20220831/1-070/AWF/1-070...   \n",
       "246  /ext_ssd/nia_vent/snu/20220831/1-070/AWF/1-070...   \n",
       "\n",
       "                           starttime                          endtime  \\\n",
       "0   2021-11-24 20:00:23.682564+09:00 2021-11-24 20:00:31.666057+09:00   \n",
       "1   2021-11-24 20:00:31.682724+09:00 2021-11-24 20:00:39.666217+09:00   \n",
       "2   2021-11-24 20:00:39.682884+09:00 2021-11-24 20:00:47.666377+09:00   \n",
       "3   2021-11-24 20:00:47.683044+09:00 2021-11-24 20:00:55.666537+09:00   \n",
       "4   2021-11-24 20:00:55.683204+09:00 2021-11-24 20:01:03.666697+09:00   \n",
       "..                               ...                              ...   \n",
       "242 2021-12-15 13:32:37.873628+09:00 2021-12-15 13:32:45.857121+09:00   \n",
       "243 2021-12-15 13:32:45.873788+09:00 2021-12-15 13:32:53.857281+09:00   \n",
       "244 2021-12-15 13:32:53.873948+09:00 2021-12-15 13:33:01.857441+09:00   \n",
       "245 2021-12-15 13:33:01.874108+09:00 2021-12-15 13:33:09.857601+09:00   \n",
       "246 2021-12-15 13:33:09.874268+09:00 2021-12-15 13:33:17.857761+09:00   \n",
       "\n",
       "    hospital_id patient_id  wav_number hospital_id_patient_id split  \\\n",
       "0             1        055          74                  1-055  test   \n",
       "1             1        055          74                  1-055  test   \n",
       "2             1        055          74                  1-055  test   \n",
       "3             1        055          74                  1-055  test   \n",
       "4             1        055          74                  1-055  test   \n",
       "..          ...        ...         ...                    ...   ...   \n",
       "242           1        070          26                  1-070  test   \n",
       "243           1        070          26                  1-070  test   \n",
       "244           1        070          26                  1-070  test   \n",
       "245           1        070          26                  1-070  test   \n",
       "246           1        070          26                  1-070  test   \n",
       "\n",
       "      y_pred_prob  y_pred  \n",
       "0    1.794760e-08   False  \n",
       "1    1.458113e-05   False  \n",
       "2    2.259394e-10   False  \n",
       "3    3.269175e-08   False  \n",
       "4    1.217398e-07   False  \n",
       "..            ...     ...  \n",
       "242  2.703266e-08   False  \n",
       "243  1.082545e-08   False  \n",
       "244  1.986270e-07   False  \n",
       "245  3.888555e-08   False  \n",
       "246  2.499154e-08   False  \n",
       "\n",
       "[1982105 rows x 10 columns]"
      ]
     },
     "execution_count": 40,
     "metadata": {},
     "output_type": "execute_result"
    }
   ],
   "source": [
    "testset_pred"
   ]
  },
  {
   "cell_type": "code",
   "execution_count": 41,
   "metadata": {},
   "outputs": [
    {
     "data": {
      "text/plain": [
       "'1-008_1-099'"
      ]
     },
     "execution_count": 41,
     "metadata": {},
     "output_type": "execute_result"
    }
   ],
   "source": [
    "testset_pred['hospital_id_patient_id'].min()+'_'+testset_pred['hospital_id_patient_id'].max()"
   ]
  },
  {
   "cell_type": "code",
   "execution_count": 19,
   "metadata": {},
   "outputs": [],
   "source": [
    "result_path = '/VOLUME/nia_vent_asynchrony/result/baseline_220818/infer'"
   ]
  },
  {
   "cell_type": "code",
   "execution_count": 29,
   "metadata": {},
   "outputs": [
    {
     "data": {
      "text/plain": [
       "'/VOLUME/nia_vent_asynchrony/result/baseline_220818/infer/testset_1-001_1-099_5334684_pred.csv'"
      ]
     },
     "execution_count": 29,
     "metadata": {},
     "output_type": "execute_result"
    }
   ],
   "source": [
    "path = osp.join(result_path, f'testset_{testset_pred[\"hospital_id_patient_id\"].min()+\"_\"+testset_pred[\"hospital_id_patient_id\"].max()}_{len(testset_pred)}_pred.csv')\n",
    "testset_pred.to_csv(path)\n",
    "path"
   ]
  },
  {
   "cell_type": "code",
   "execution_count": 23,
   "metadata": {},
   "outputs": [],
   "source": [
    "fn = glob.glob(result_path+'/test*_tmp*')\n",
    "ls = []\n",
    "for fi in fn:\n",
    "    ls.append(pd.read_csv(fi, index_col=0))"
   ]
  },
  {
   "cell_type": "code",
   "execution_count": 24,
   "metadata": {},
   "outputs": [],
   "source": [
    "testset_pred = pd.concat(ls)"
   ]
  },
  {
   "cell_type": "code",
   "execution_count": 26,
   "metadata": {},
   "outputs": [
    {
     "data": {
      "text/plain": [
       "99"
      ]
     },
     "execution_count": 26,
     "metadata": {},
     "output_type": "execute_result"
    }
   ],
   "source": [
    "testset_pred['hospital_id_patient_id'].nunique()"
   ]
  },
  {
   "cell_type": "code",
   "execution_count": 27,
   "metadata": {},
   "outputs": [
    {
     "data": {
      "text/plain": [
       "'1-001'"
      ]
     },
     "execution_count": 27,
     "metadata": {},
     "output_type": "execute_result"
    }
   ],
   "source": [
    "testset_pred['hospital_id_patient_id'].min()"
   ]
  },
  {
   "cell_type": "code",
   "execution_count": 28,
   "metadata": {},
   "outputs": [
    {
     "data": {
      "text/plain": [
       "'1-099'"
      ]
     },
     "execution_count": 28,
     "metadata": {},
     "output_type": "execute_result"
    }
   ],
   "source": [
    "testset_pred['hospital_id_patient_id'].max()"
   ]
  },
  {
   "cell_type": "code",
   "execution_count": 46,
   "metadata": {},
   "outputs": [],
   "source": [
    "testset_pred['conf_matrix'] = ''\n",
    "testset_pred.loc[(testset_pred['y_target'])&(testset_pred['y_pred']),'conf_matrix']='tp'\n",
    "testset_pred.loc[(~testset_pred['y_target'])&(testset_pred['y_pred']),'conf_matrix']='fp'\n",
    "testset_pred.loc[(testset_pred['y_target'])&(~testset_pred['y_pred']),'conf_matrix']='fn'\n",
    "testset_pred.loc[(~testset_pred['y_target'])&(~testset_pred['y_pred']),'conf_matrix']='tn'"
   ]
  },
  {
   "cell_type": "code",
   "execution_count": 47,
   "metadata": {},
   "outputs": [
    {
     "data": {
      "text/html": [
       "<div>\n",
       "<style scoped>\n",
       "    .dataframe tbody tr th:only-of-type {\n",
       "        vertical-align: middle;\n",
       "    }\n",
       "\n",
       "    .dataframe tbody tr th {\n",
       "        vertical-align: top;\n",
       "    }\n",
       "\n",
       "    .dataframe thead th {\n",
       "        text-align: right;\n",
       "    }\n",
       "</style>\n",
       "<table border=\"1\" class=\"dataframe\">\n",
       "  <thead>\n",
       "    <tr style=\"text-align: right;\">\n",
       "      <th>label</th>\n",
       "      <th>False</th>\n",
       "      <th>True</th>\n",
       "    </tr>\n",
       "    <tr>\n",
       "      <th>y_pred</th>\n",
       "      <th></th>\n",
       "      <th></th>\n",
       "    </tr>\n",
       "  </thead>\n",
       "  <tbody>\n",
       "    <tr>\n",
       "      <th>False</th>\n",
       "      <td>47852</td>\n",
       "      <td>170</td>\n",
       "    </tr>\n",
       "    <tr>\n",
       "      <th>True</th>\n",
       "      <td>44908</td>\n",
       "      <td>333</td>\n",
       "    </tr>\n",
       "  </tbody>\n",
       "</table>\n",
       "</div>"
      ],
      "text/plain": [
       "label   False  True\n",
       "y_pred             \n",
       "False   47852   170\n",
       "True    44908   333"
      ]
     },
     "execution_count": 47,
     "metadata": {},
     "output_type": "execute_result"
    }
   ],
   "source": [
    "pd.crosstab(testset_pred['y_pred'], testset_pred['label'].isin([2,1]))"
   ]
  },
  {
   "cell_type": "code",
   "execution_count": 48,
   "metadata": {},
   "outputs": [
    {
     "data": {
      "text/html": [
       "<div>\n",
       "<style scoped>\n",
       "    .dataframe tbody tr th:only-of-type {\n",
       "        vertical-align: middle;\n",
       "    }\n",
       "\n",
       "    .dataframe tbody tr th {\n",
       "        vertical-align: top;\n",
       "    }\n",
       "\n",
       "    .dataframe thead th {\n",
       "        text-align: right;\n",
       "    }\n",
       "</style>\n",
       "<table border=\"1\" class=\"dataframe\">\n",
       "  <thead>\n",
       "    <tr style=\"text-align: right;\">\n",
       "      <th>label</th>\n",
       "      <th>0</th>\n",
       "      <th>1</th>\n",
       "      <th>2</th>\n",
       "      <th>3</th>\n",
       "    </tr>\n",
       "    <tr>\n",
       "      <th>y_pred</th>\n",
       "      <th></th>\n",
       "      <th></th>\n",
       "      <th></th>\n",
       "      <th></th>\n",
       "    </tr>\n",
       "  </thead>\n",
       "  <tbody>\n",
       "    <tr>\n",
       "      <th>False</th>\n",
       "      <td>47769</td>\n",
       "      <td>0</td>\n",
       "      <td>170</td>\n",
       "      <td>83</td>\n",
       "    </tr>\n",
       "    <tr>\n",
       "      <th>True</th>\n",
       "      <td>44812</td>\n",
       "      <td>10</td>\n",
       "      <td>323</td>\n",
       "      <td>96</td>\n",
       "    </tr>\n",
       "  </tbody>\n",
       "</table>\n",
       "</div>"
      ],
      "text/plain": [
       "label       0   1    2   3\n",
       "y_pred                    \n",
       "False   47769   0  170  83\n",
       "True    44812  10  323  96"
      ]
     },
     "execution_count": 48,
     "metadata": {},
     "output_type": "execute_result"
    }
   ],
   "source": [
    "pd.crosstab(testset_pred['y_pred'], testset_pred['label'])"
   ]
  },
  {
   "cell_type": "code",
   "execution_count": 50,
   "metadata": {},
   "outputs": [
    {
     "data": {
      "text/plain": [
       "tn    47852\n",
       "fp    44908\n",
       "tp      333\n",
       "fn      170\n",
       "Name: conf_matrix, dtype: int64"
      ]
     },
     "execution_count": 50,
     "metadata": {},
     "output_type": "execute_result"
    }
   ],
   "source": [
    "testset_pred['conf_matrix'].value_counts()"
   ]
  },
  {
   "cell_type": "code",
   "execution_count": 14,
   "metadata": {},
   "outputs": [
    {
     "data": {
      "text/plain": [
       "{'auroc': 0.64,\n",
       " 'auprc': 0.0,\n",
       " 'prec': 0.0,\n",
       " 'recall': 0.01,\n",
       " 'f1': 0.0,\n",
       " 'f2': 0.0,\n",
       " 'specificity': 0.95,\n",
       " 'tn': 88467.0,\n",
       " 'fp': 4617.0,\n",
       " 'fn': 177.0,\n",
       " 'tp': 2.0,\n",
       " 'auprcf1': 0.0}"
      ]
     },
     "execution_count": 14,
     "metadata": {},
     "output_type": "execute_result"
    }
   ],
   "source": [
    "testset_target = testset.y_data.squeeze(-1).float()\n",
    "metrics = ['prec','recall','f1','f2','specificity',\n",
    "                     'tn','fp','fn','tp',\n",
    "                     'auroc','auprc']\n",
    "calculate_any_metrics(testset_target, metrics, probs=y_prob, threshold=0.5)"
   ]
  },
  {
   "cell_type": "code",
   "execution_count": 161,
   "metadata": {},
   "outputs": [
    {
     "data": {
      "text/plain": [
       "<AxesSubplot:>"
      ]
     },
     "execution_count": 161,
     "metadata": {},
     "output_type": "execute_result"
    },
    {
     "data": {
      "image/png": "[encoded data removed]",
      "text/plain": [
       "<Figure size 432x288 with 1 Axes>"
      ]
     },
     "metadata": {
      "needs_background": "light"
     },
     "output_type": "display_data"
    }
   ],
   "source": [
    "pd.Series(y_prob).hist()"
   ]
  },
  {
   "cell_type": "code",
   "execution_count": 163,
   "metadata": {},
   "outputs": [
    {
     "data": {
      "text/html": [
       "<div>\n",
       "<style scoped>\n",
       "    .dataframe tbody tr th:only-of-type {\n",
       "        vertical-align: middle;\n",
       "    }\n",
       "\n",
       "    .dataframe tbody tr th {\n",
       "        vertical-align: top;\n",
       "    }\n",
       "\n",
       "    .dataframe thead th {\n",
       "        text-align: right;\n",
       "    }\n",
       "</style>\n",
       "<table border=\"1\" class=\"dataframe\">\n",
       "  <thead>\n",
       "    <tr style=\"text-align: right;\">\n",
       "      <th></th>\n",
       "      <th>flow_path</th>\n",
       "      <th>starttime</th>\n",
       "      <th>endtime</th>\n",
       "      <th>data</th>\n",
       "      <th>hospital_id_patient_id</th>\n",
       "      <th>wav_number</th>\n",
       "      <th>instance_index</th>\n",
       "      <th>label</th>\n",
       "      <th>split</th>\n",
       "    </tr>\n",
       "  </thead>\n",
       "  <tbody>\n",
       "    <tr>\n",
       "      <th>0</th>\n",
       "      <td>/VOLUME/nia_vent_asynchrony/data/raw_data/base...</td>\n",
       "      <td>2021-09-28 02:00:21.831158+09:00</td>\n",
       "      <td>2021-09-28 02:00:29.814651+09:00</td>\n",
       "      <td>[[40.69999694824219, -0.1450004577636718], [40...</td>\n",
       "      <td>1-002</td>\n",
       "      <td>91</td>\n",
       "      <td>0</td>\n",
       "      <td>0</td>\n",
       "      <td>test</td>\n",
       "    </tr>\n",
       "    <tr>\n",
       "      <th>1</th>\n",
       "      <td>/VOLUME/nia_vent_asynchrony/data/raw_data/base...</td>\n",
       "      <td>2021-09-28 02:00:29.831318+09:00</td>\n",
       "      <td>2021-09-28 02:00:37.814811+09:00</td>\n",
       "      <td>[[42.600006103515625, 8.299999237060547], [39....</td>\n",
       "      <td>1-002</td>\n",
       "      <td>91</td>\n",
       "      <td>1</td>\n",
       "      <td>0</td>\n",
       "      <td>test</td>\n",
       "    </tr>\n",
       "    <tr>\n",
       "      <th>2</th>\n",
       "      <td>/VOLUME/nia_vent_asynchrony/data/raw_data/base...</td>\n",
       "      <td>2021-09-28 02:00:37.831478+09:00</td>\n",
       "      <td>2021-09-28 02:00:45.814971+09:00</td>\n",
       "      <td>[[89.39999389648438, 4.47499942779541], [92.30...</td>\n",
       "      <td>1-002</td>\n",
       "      <td>91</td>\n",
       "      <td>2</td>\n",
       "      <td>0</td>\n",
       "      <td>test</td>\n",
       "    </tr>\n",
       "    <tr>\n",
       "      <th>3</th>\n",
       "      <td>/VOLUME/nia_vent_asynchrony/data/raw_data/base...</td>\n",
       "      <td>2021-09-28 02:00:45.831638+09:00</td>\n",
       "      <td>2021-09-28 02:00:53.815131+09:00</td>\n",
       "      <td>[[34.80000305175781, -0.0399999618530273], [35...</td>\n",
       "      <td>1-002</td>\n",
       "      <td>91</td>\n",
       "      <td>3</td>\n",
       "      <td>0</td>\n",
       "      <td>test</td>\n",
       "    </tr>\n",
       "    <tr>\n",
       "      <th>4</th>\n",
       "      <td>/VOLUME/nia_vent_asynchrony/data/raw_data/base...</td>\n",
       "      <td>2021-09-28 02:00:53.831798+09:00</td>\n",
       "      <td>2021-09-28 02:01:01.815291+09:00</td>\n",
       "      <td>[[40.600006103515625, -0.2350006103515625], [4...</td>\n",
       "      <td>1-002</td>\n",
       "      <td>91</td>\n",
       "      <td>4</td>\n",
       "      <td>0</td>\n",
       "      <td>test</td>\n",
       "    </tr>\n",
       "    <tr>\n",
       "      <th>...</th>\n",
       "      <td>...</td>\n",
       "      <td>...</td>\n",
       "      <td>...</td>\n",
       "      <td>...</td>\n",
       "      <td>...</td>\n",
       "      <td>...</td>\n",
       "      <td>...</td>\n",
       "      <td>...</td>\n",
       "      <td>...</td>\n",
       "    </tr>\n",
       "    <tr>\n",
       "      <th>69</th>\n",
       "      <td>/VOLUME/nia_vent_asynchrony/data/raw_data/base...</td>\n",
       "      <td>2019-04-30 16:09:11.994963+09:00</td>\n",
       "      <td>2019-04-30 16:09:19.978298+09:00</td>\n",
       "      <td>[[426.0, 900.5], [443.5, 932.5], [451.0, 958.5...</td>\n",
       "      <td>2-002</td>\n",
       "      <td>123</td>\n",
       "      <td>310268</td>\n",
       "      <td>0</td>\n",
       "      <td>test</td>\n",
       "    </tr>\n",
       "    <tr>\n",
       "      <th>70</th>\n",
       "      <td>/VOLUME/nia_vent_asynchrony/data/raw_data/base...</td>\n",
       "      <td>2019-04-30 16:09:19.994965+09:00</td>\n",
       "      <td>2019-04-30 16:09:27.978300+09:00</td>\n",
       "      <td>[[54.5, 470.0], [72.5, 490.0], [90.5, 510.0], ...</td>\n",
       "      <td>2-002</td>\n",
       "      <td>123</td>\n",
       "      <td>310269</td>\n",
       "      <td>0</td>\n",
       "      <td>test</td>\n",
       "    </tr>\n",
       "    <tr>\n",
       "      <th>71</th>\n",
       "      <td>/VOLUME/nia_vent_asynchrony/data/raw_data/base...</td>\n",
       "      <td>2019-04-30 16:09:27.994966+09:00</td>\n",
       "      <td>2019-04-30 16:09:35.978301+09:00</td>\n",
       "      <td>[[288.5, 613.5], [317.5, 636.0], [336.5, 648.0...</td>\n",
       "      <td>2-002</td>\n",
       "      <td>123</td>\n",
       "      <td>310270</td>\n",
       "      <td>0</td>\n",
       "      <td>test</td>\n",
       "    </tr>\n",
       "    <tr>\n",
       "      <th>72</th>\n",
       "      <td>/VOLUME/nia_vent_asynchrony/data/raw_data/base...</td>\n",
       "      <td>2019-04-30 16:09:35.994968+09:00</td>\n",
       "      <td>2019-04-30 16:09:43.978303+09:00</td>\n",
       "      <td>[[-286.0, 588.0], [-278.5, 581.0], [-269.0, 58...</td>\n",
       "      <td>2-002</td>\n",
       "      <td>123</td>\n",
       "      <td>310271</td>\n",
       "      <td>0</td>\n",
       "      <td>test</td>\n",
       "    </tr>\n",
       "    <tr>\n",
       "      <th>73</th>\n",
       "      <td>/VOLUME/nia_vent_asynchrony/data/raw_data/base...</td>\n",
       "      <td>2019-04-30 16:09:43.994970+09:00</td>\n",
       "      <td>2019-04-30 16:09:51.978305+09:00</td>\n",
       "      <td>[[203.0, 874.0], [208.5, 869.5], [214.5, 875.5...</td>\n",
       "      <td>2-002</td>\n",
       "      <td>123</td>\n",
       "      <td>310272</td>\n",
       "      <td>0</td>\n",
       "      <td>test</td>\n",
       "    </tr>\n",
       "  </tbody>\n",
       "</table>\n",
       "<p>552891 rows × 9 columns</p>\n",
       "</div>"
      ],
      "text/plain": [
       "                                            flow_path  \\\n",
       "0   /VOLUME/nia_vent_asynchrony/data/raw_data/base...   \n",
       "1   /VOLUME/nia_vent_asynchrony/data/raw_data/base...   \n",
       "2   /VOLUME/nia_vent_asynchrony/data/raw_data/base...   \n",
       "3   /VOLUME/nia_vent_asynchrony/data/raw_data/base...   \n",
       "4   /VOLUME/nia_vent_asynchrony/data/raw_data/base...   \n",
       "..                                                ...   \n",
       "69  /VOLUME/nia_vent_asynchrony/data/raw_data/base...   \n",
       "70  /VOLUME/nia_vent_asynchrony/data/raw_data/base...   \n",
       "71  /VOLUME/nia_vent_asynchrony/data/raw_data/base...   \n",
       "72  /VOLUME/nia_vent_asynchrony/data/raw_data/base...   \n",
       "73  /VOLUME/nia_vent_asynchrony/data/raw_data/base...   \n",
       "\n",
       "                          starttime                          endtime  \\\n",
       "0  2021-09-28 02:00:21.831158+09:00 2021-09-28 02:00:29.814651+09:00   \n",
       "1  2021-09-28 02:00:29.831318+09:00 2021-09-28 02:00:37.814811+09:00   \n",
       "2  2021-09-28 02:00:37.831478+09:00 2021-09-28 02:00:45.814971+09:00   \n",
       "3  2021-09-28 02:00:45.831638+09:00 2021-09-28 02:00:53.815131+09:00   \n",
       "4  2021-09-28 02:00:53.831798+09:00 2021-09-28 02:01:01.815291+09:00   \n",
       "..                              ...                              ...   \n",
       "69 2019-04-30 16:09:11.994963+09:00 2019-04-30 16:09:19.978298+09:00   \n",
       "70 2019-04-30 16:09:19.994965+09:00 2019-04-30 16:09:27.978300+09:00   \n",
       "71 2019-04-30 16:09:27.994966+09:00 2019-04-30 16:09:35.978301+09:00   \n",
       "72 2019-04-30 16:09:35.994968+09:00 2019-04-30 16:09:43.978303+09:00   \n",
       "73 2019-04-30 16:09:43.994970+09:00 2019-04-30 16:09:51.978305+09:00   \n",
       "\n",
       "                                                 data hospital_id_patient_id  \\\n",
       "0   [[40.69999694824219, -0.1450004577636718], [40...                  1-002   \n",
       "1   [[42.600006103515625, 8.299999237060547], [39....                  1-002   \n",
       "2   [[89.39999389648438, 4.47499942779541], [92.30...                  1-002   \n",
       "3   [[34.80000305175781, -0.0399999618530273], [35...                  1-002   \n",
       "4   [[40.600006103515625, -0.2350006103515625], [4...                  1-002   \n",
       "..                                                ...                    ...   \n",
       "69  [[426.0, 900.5], [443.5, 932.5], [451.0, 958.5...                  2-002   \n",
       "70  [[54.5, 470.0], [72.5, 490.0], [90.5, 510.0], ...                  2-002   \n",
       "71  [[288.5, 613.5], [317.5, 636.0], [336.5, 648.0...                  2-002   \n",
       "72  [[-286.0, 588.0], [-278.5, 581.0], [-269.0, 58...                  2-002   \n",
       "73  [[203.0, 874.0], [208.5, 869.5], [214.5, 875.5...                  2-002   \n",
       "\n",
       "    wav_number  instance_index  label split  \n",
       "0           91               0      0  test  \n",
       "1           91               1      0  test  \n",
       "2           91               2      0  test  \n",
       "3           91               3      0  test  \n",
       "4           91               4      0  test  \n",
       "..         ...             ...    ...   ...  \n",
       "69         123          310268      0  test  \n",
       "70         123          310269      0  test  \n",
       "71         123          310270      0  test  \n",
       "72         123          310271      0  test  \n",
       "73         123          310272      0  test  \n",
       "\n",
       "[552891 rows x 9 columns]"
      ]
     },
     "execution_count": 163,
     "metadata": {},
     "output_type": "execute_result"
    }
   ],
   "source": [
    "dat"
   ]
  },
  {
   "cell_type": "code",
   "execution_count": 165,
   "metadata": {},
   "outputs": [
    {
     "data": {
      "text/plain": [
       "0     1\n",
       "1     1\n",
       "2     1\n",
       "3     1\n",
       "4     1\n",
       "     ..\n",
       "69    2\n",
       "70    2\n",
       "71    2\n",
       "72    2\n",
       "73    2\n",
       "Name: hospital_id_patient_id, Length: 552891, dtype: object"
      ]
     },
     "execution_count": 165,
     "metadata": {},
     "output_type": "execute_result"
    }
   ],
   "source": [
    "dat['hospital_id_patient_id'].str[0]"
   ]
  },
  {
   "cell_type": "code",
   "execution_count": 170,
   "metadata": {},
   "outputs": [
    {
     "data": {
      "text/plain": [
       "0     [40.80000305175781, 0.7924995422363281]\n",
       "1    [39.100006103515625, 0.3049993515014648]\n",
       "2     [40.69999694824219, 1.3849992752075195]\n",
       "3                  [40.05000305175781, 0.125]\n",
       "4     [40.80000305175781, 1.0999999046325684]\n",
       "Name: data, dtype: object"
      ]
     },
     "execution_count": 170,
     "metadata": {},
     "output_type": "execute_result"
    }
   ],
   "source": [
    "dat['data'].head().apply(lambda x: np.nanmedian(x, axis=0))"
   ]
  },
  {
   "cell_type": "code",
   "execution_count": null,
   "metadata": {},
   "outputs": [],
   "source": []
  }
 ],
 "metadata": {
  "kernelspec": {
   "display_name": "Python 3.8.12 64-bit",
   "language": "python",
   "name": "python3"
  },
  "language_info": {
   "codemirror_mode": {
    "name": "ipython",
    "version": 3
   },
   "file_extension": ".py",
   "mimetype": "text/x-python",
   "name": "python",
   "nbconvert_exporter": "python",
   "pygments_lexer": "ipython3",
   "version": "3.8.12"
  },
  "orig_nbformat": 4,
  "vscode": {
   "interpreter": {
    "hash": "767d51c1340bd893661ea55ea3124f6de3c7a262a8b4abca0554b478b1e2ff90"
   }
  }
 },
 "nbformat": 4,
 "nbformat_minor": 2
}
